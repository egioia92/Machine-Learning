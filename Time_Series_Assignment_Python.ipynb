{
  "nbformat": 4,
  "nbformat_minor": 0,
  "metadata": {
    "colab": {
      "provenance": []
    },
    "kernelspec": {
      "name": "python3",
      "display_name": "Python 3"
    },
    "language_info": {
      "name": "python"
    }
  },
  "cells": [
    {
      "cell_type": "markdown",
      "source": [
        "# Time_Series_Assignment_Python\n",
        "\n",
        "The data contains monthly sales (in million USD) of a leading processed food manufacturer in USA. Data for 3 business units, from February 2015 to January 2018, is provided in the same file.\n",
        "\n",
        "\n",
        "Columns – Year, Month, BU1, BU2, BU3\n",
        "\n",
        "Number of observations – 36 for each business **unit**"
      ],
      "metadata": {
        "id": "7rGdcDDDg64T"
      }
    },
    {
      "cell_type": "code",
      "source": [
        "!pip install arch\n",
        "!pip install pmdarima"
      ],
      "metadata": {
        "colab": {
          "base_uri": "https://localhost:8080/"
        },
        "id": "_Y14Q08RhbST",
        "outputId": "ef13f2e1-1dd6-40f0-c4db-13e0d555e690"
      },
      "execution_count": null,
      "outputs": [
        {
          "output_type": "stream",
          "name": "stdout",
          "text": [
            "Requirement already satisfied: arch in /usr/local/lib/python3.10/dist-packages (7.0.0)\n",
            "Requirement already satisfied: numpy>=1.22.3 in /usr/local/lib/python3.10/dist-packages (from arch) (1.25.2)\n",
            "Requirement already satisfied: scipy>=1.8 in /usr/local/lib/python3.10/dist-packages (from arch) (1.13.1)\n",
            "Requirement already satisfied: pandas>=1.4 in /usr/local/lib/python3.10/dist-packages (from arch) (2.0.3)\n",
            "Requirement already satisfied: statsmodels>=0.12 in /usr/local/lib/python3.10/dist-packages (from arch) (0.14.2)\n",
            "Requirement already satisfied: python-dateutil>=2.8.2 in /usr/local/lib/python3.10/dist-packages (from pandas>=1.4->arch) (2.8.2)\n",
            "Requirement already satisfied: pytz>=2020.1 in /usr/local/lib/python3.10/dist-packages (from pandas>=1.4->arch) (2024.1)\n",
            "Requirement already satisfied: tzdata>=2022.1 in /usr/local/lib/python3.10/dist-packages (from pandas>=1.4->arch) (2024.1)\n",
            "Requirement already satisfied: patsy>=0.5.6 in /usr/local/lib/python3.10/dist-packages (from statsmodels>=0.12->arch) (0.5.6)\n",
            "Requirement already satisfied: packaging>=21.3 in /usr/local/lib/python3.10/dist-packages (from statsmodels>=0.12->arch) (24.1)\n",
            "Requirement already satisfied: six in /usr/local/lib/python3.10/dist-packages (from patsy>=0.5.6->statsmodels>=0.12->arch) (1.16.0)\n",
            "Requirement already satisfied: pmdarima in /usr/local/lib/python3.10/dist-packages (2.0.4)\n",
            "Requirement already satisfied: joblib>=0.11 in /usr/local/lib/python3.10/dist-packages (from pmdarima) (1.4.2)\n",
            "Requirement already satisfied: Cython!=0.29.18,!=0.29.31,>=0.29 in /usr/local/lib/python3.10/dist-packages (from pmdarima) (3.0.10)\n",
            "Requirement already satisfied: numpy>=1.21.2 in /usr/local/lib/python3.10/dist-packages (from pmdarima) (1.25.2)\n",
            "Requirement already satisfied: pandas>=0.19 in /usr/local/lib/python3.10/dist-packages (from pmdarima) (2.0.3)\n",
            "Requirement already satisfied: scikit-learn>=0.22 in /usr/local/lib/python3.10/dist-packages (from pmdarima) (1.3.2)\n",
            "Requirement already satisfied: scipy>=1.3.2 in /usr/local/lib/python3.10/dist-packages (from pmdarima) (1.13.1)\n",
            "Requirement already satisfied: statsmodels>=0.13.2 in /usr/local/lib/python3.10/dist-packages (from pmdarima) (0.14.2)\n",
            "Requirement already satisfied: urllib3 in /usr/local/lib/python3.10/dist-packages (from pmdarima) (2.0.7)\n",
            "Requirement already satisfied: setuptools!=50.0.0,>=38.6.0 in /usr/local/lib/python3.10/dist-packages (from pmdarima) (71.0.4)\n",
            "Requirement already satisfied: packaging>=17.1 in /usr/local/lib/python3.10/dist-packages (from pmdarima) (24.1)\n",
            "Requirement already satisfied: python-dateutil>=2.8.2 in /usr/local/lib/python3.10/dist-packages (from pandas>=0.19->pmdarima) (2.8.2)\n",
            "Requirement already satisfied: pytz>=2020.1 in /usr/local/lib/python3.10/dist-packages (from pandas>=0.19->pmdarima) (2024.1)\n",
            "Requirement already satisfied: tzdata>=2022.1 in /usr/local/lib/python3.10/dist-packages (from pandas>=0.19->pmdarima) (2024.1)\n",
            "Requirement already satisfied: threadpoolctl>=2.0.0 in /usr/local/lib/python3.10/dist-packages (from scikit-learn>=0.22->pmdarima) (3.5.0)\n",
            "Requirement already satisfied: patsy>=0.5.6 in /usr/local/lib/python3.10/dist-packages (from statsmodels>=0.13.2->pmdarima) (0.5.6)\n",
            "Requirement already satisfied: six in /usr/local/lib/python3.10/dist-packages (from patsy>=0.5.6->statsmodels>=0.13.2->pmdarima) (1.16.0)\n"
          ]
        }
      ]
    },
    {
      "cell_type": "code",
      "execution_count": null,
      "metadata": {
        "id": "rollfdVAftAY"
      },
      "outputs": [],
      "source": [
        "import pandas as pd\n",
        "import matplotlib.pyplot as plt\n",
        "from statsmodels.graphics.tsaplots import plot_acf, plot_pacf\n",
        "from arch.unitroot import ADF\n",
        "from statsmodels.tsa.statespace.tools import diff\n",
        "from pmdarima.arima.utils import ndiffs\n",
        "import pmdarima as pm\n",
        "from statsmodels.stats.diagnostic import acorr_ljungbox"
      ]
    },
    {
      "cell_type": "markdown",
      "source": [
        "# Question 1. Import ‘USA Firm Sales’ data in Python\n",
        "---"
      ],
      "metadata": {
        "id": "-dn3F_Bdi6lQ"
      }
    },
    {
      "cell_type": "code",
      "source": [
        "salesdata = pd.read_csv(\"/content/USA FIRM SALES DATA.csv\")\n",
        "salesdata"
      ],
      "metadata": {
        "colab": {
          "base_uri": "https://localhost:8080/",
          "height": 1000
        },
        "id": "VqoVoP-RhPMn",
        "outputId": "683f6219-518b-4a85-fe51-a77c6da5a6d8"
      },
      "execution_count": null,
      "outputs": [
        {
          "output_type": "execute_result",
          "data": {
            "text/plain": [
              "    Year      Month    BU1    BU2    BU3\n",
              "0   2015   February  125.1  115.5  113.8\n",
              "1   2015      March  123.6  115.7  113.8\n",
              "2   2015      April  123.1  116.5  114.0\n",
              "3   2015        May  123.1  117.7  114.1\n",
              "4   2015       June  123.4  118.3  114.7\n",
              "5   2015       July  124.0  118.7  115.1\n",
              "6   2015     August  125.0  119.2  116.1\n",
              "7   2015  September  127.3  119.8  117.0\n",
              "8   2015    October  128.2  120.1  117.2\n",
              "9   2015   November  130.3  120.6  117.2\n",
              "10  2015   December  131.2  120.4  117.5\n",
              "11  2016    January  132.1  120.8  117.9\n",
              "12  2016   February  132.7  121.6  118.1\n",
              "13  2016      March  131.4  122.0  118.3\n",
              "14  2016      April  131.3  122.7  118.5\n",
              "15  2016        May  129.9  123.1  119.1\n",
              "16  2016       June  129.8  122.4  119.3\n",
              "17  2016       July  131.8  122.3  120.0\n",
              "18  2016     August  134.0  122.7  120.7\n",
              "19  2016  September  136.8  123.3  121.5\n",
              "20  2016    October  138.4  123.4  121.9\n",
              "21  2016   November  137.9  123.6  122.1\n",
              "22  2016   December  136.6  124.1  122.8\n",
              "23  2017    January  137.0  124.3  123.4\n",
              "24  2017   February  136.1  125.0  123.8\n",
              "25  2017      March  134.0  126.6  123.9\n",
              "26  2017      April  133.1  126.8  124.4\n",
              "27  2017        May  133.0  127.9  124.8\n",
              "28  2017       June  133.1  129.1  125.1\n",
              "29  2017       July  133.5  129.8  125.1\n",
              "30  2017     August  133.7  129.4  125.3\n",
              "31  2017  September  135.2  128.8  125.5\n",
              "32  2017    October  139.0  129.4  125.9\n",
              "33  2017   November  140.6  129.8  126.8\n",
              "34  2017   December  139.0  131.0  127.5"
            ],
            "text/html": [
              "\n",
              "  <div id=\"df-3f7e5548-6eb6-4415-985c-e6ddbdf3f7f2\" class=\"colab-df-container\">\n",
              "    <div>\n",
              "<style scoped>\n",
              "    .dataframe tbody tr th:only-of-type {\n",
              "        vertical-align: middle;\n",
              "    }\n",
              "\n",
              "    .dataframe tbody tr th {\n",
              "        vertical-align: top;\n",
              "    }\n",
              "\n",
              "    .dataframe thead th {\n",
              "        text-align: right;\n",
              "    }\n",
              "</style>\n",
              "<table border=\"1\" class=\"dataframe\">\n",
              "  <thead>\n",
              "    <tr style=\"text-align: right;\">\n",
              "      <th></th>\n",
              "      <th>Year</th>\n",
              "      <th>Month</th>\n",
              "      <th>BU1</th>\n",
              "      <th>BU2</th>\n",
              "      <th>BU3</th>\n",
              "    </tr>\n",
              "  </thead>\n",
              "  <tbody>\n",
              "    <tr>\n",
              "      <th>0</th>\n",
              "      <td>2015</td>\n",
              "      <td>February</td>\n",
              "      <td>125.1</td>\n",
              "      <td>115.5</td>\n",
              "      <td>113.8</td>\n",
              "    </tr>\n",
              "    <tr>\n",
              "      <th>1</th>\n",
              "      <td>2015</td>\n",
              "      <td>March</td>\n",
              "      <td>123.6</td>\n",
              "      <td>115.7</td>\n",
              "      <td>113.8</td>\n",
              "    </tr>\n",
              "    <tr>\n",
              "      <th>2</th>\n",
              "      <td>2015</td>\n",
              "      <td>April</td>\n",
              "      <td>123.1</td>\n",
              "      <td>116.5</td>\n",
              "      <td>114.0</td>\n",
              "    </tr>\n",
              "    <tr>\n",
              "      <th>3</th>\n",
              "      <td>2015</td>\n",
              "      <td>May</td>\n",
              "      <td>123.1</td>\n",
              "      <td>117.7</td>\n",
              "      <td>114.1</td>\n",
              "    </tr>\n",
              "    <tr>\n",
              "      <th>4</th>\n",
              "      <td>2015</td>\n",
              "      <td>June</td>\n",
              "      <td>123.4</td>\n",
              "      <td>118.3</td>\n",
              "      <td>114.7</td>\n",
              "    </tr>\n",
              "    <tr>\n",
              "      <th>5</th>\n",
              "      <td>2015</td>\n",
              "      <td>July</td>\n",
              "      <td>124.0</td>\n",
              "      <td>118.7</td>\n",
              "      <td>115.1</td>\n",
              "    </tr>\n",
              "    <tr>\n",
              "      <th>6</th>\n",
              "      <td>2015</td>\n",
              "      <td>August</td>\n",
              "      <td>125.0</td>\n",
              "      <td>119.2</td>\n",
              "      <td>116.1</td>\n",
              "    </tr>\n",
              "    <tr>\n",
              "      <th>7</th>\n",
              "      <td>2015</td>\n",
              "      <td>September</td>\n",
              "      <td>127.3</td>\n",
              "      <td>119.8</td>\n",
              "      <td>117.0</td>\n",
              "    </tr>\n",
              "    <tr>\n",
              "      <th>8</th>\n",
              "      <td>2015</td>\n",
              "      <td>October</td>\n",
              "      <td>128.2</td>\n",
              "      <td>120.1</td>\n",
              "      <td>117.2</td>\n",
              "    </tr>\n",
              "    <tr>\n",
              "      <th>9</th>\n",
              "      <td>2015</td>\n",
              "      <td>November</td>\n",
              "      <td>130.3</td>\n",
              "      <td>120.6</td>\n",
              "      <td>117.2</td>\n",
              "    </tr>\n",
              "    <tr>\n",
              "      <th>10</th>\n",
              "      <td>2015</td>\n",
              "      <td>December</td>\n",
              "      <td>131.2</td>\n",
              "      <td>120.4</td>\n",
              "      <td>117.5</td>\n",
              "    </tr>\n",
              "    <tr>\n",
              "      <th>11</th>\n",
              "      <td>2016</td>\n",
              "      <td>January</td>\n",
              "      <td>132.1</td>\n",
              "      <td>120.8</td>\n",
              "      <td>117.9</td>\n",
              "    </tr>\n",
              "    <tr>\n",
              "      <th>12</th>\n",
              "      <td>2016</td>\n",
              "      <td>February</td>\n",
              "      <td>132.7</td>\n",
              "      <td>121.6</td>\n",
              "      <td>118.1</td>\n",
              "    </tr>\n",
              "    <tr>\n",
              "      <th>13</th>\n",
              "      <td>2016</td>\n",
              "      <td>March</td>\n",
              "      <td>131.4</td>\n",
              "      <td>122.0</td>\n",
              "      <td>118.3</td>\n",
              "    </tr>\n",
              "    <tr>\n",
              "      <th>14</th>\n",
              "      <td>2016</td>\n",
              "      <td>April</td>\n",
              "      <td>131.3</td>\n",
              "      <td>122.7</td>\n",
              "      <td>118.5</td>\n",
              "    </tr>\n",
              "    <tr>\n",
              "      <th>15</th>\n",
              "      <td>2016</td>\n",
              "      <td>May</td>\n",
              "      <td>129.9</td>\n",
              "      <td>123.1</td>\n",
              "      <td>119.1</td>\n",
              "    </tr>\n",
              "    <tr>\n",
              "      <th>16</th>\n",
              "      <td>2016</td>\n",
              "      <td>June</td>\n",
              "      <td>129.8</td>\n",
              "      <td>122.4</td>\n",
              "      <td>119.3</td>\n",
              "    </tr>\n",
              "    <tr>\n",
              "      <th>17</th>\n",
              "      <td>2016</td>\n",
              "      <td>July</td>\n",
              "      <td>131.8</td>\n",
              "      <td>122.3</td>\n",
              "      <td>120.0</td>\n",
              "    </tr>\n",
              "    <tr>\n",
              "      <th>18</th>\n",
              "      <td>2016</td>\n",
              "      <td>August</td>\n",
              "      <td>134.0</td>\n",
              "      <td>122.7</td>\n",
              "      <td>120.7</td>\n",
              "    </tr>\n",
              "    <tr>\n",
              "      <th>19</th>\n",
              "      <td>2016</td>\n",
              "      <td>September</td>\n",
              "      <td>136.8</td>\n",
              "      <td>123.3</td>\n",
              "      <td>121.5</td>\n",
              "    </tr>\n",
              "    <tr>\n",
              "      <th>20</th>\n",
              "      <td>2016</td>\n",
              "      <td>October</td>\n",
              "      <td>138.4</td>\n",
              "      <td>123.4</td>\n",
              "      <td>121.9</td>\n",
              "    </tr>\n",
              "    <tr>\n",
              "      <th>21</th>\n",
              "      <td>2016</td>\n",
              "      <td>November</td>\n",
              "      <td>137.9</td>\n",
              "      <td>123.6</td>\n",
              "      <td>122.1</td>\n",
              "    </tr>\n",
              "    <tr>\n",
              "      <th>22</th>\n",
              "      <td>2016</td>\n",
              "      <td>December</td>\n",
              "      <td>136.6</td>\n",
              "      <td>124.1</td>\n",
              "      <td>122.8</td>\n",
              "    </tr>\n",
              "    <tr>\n",
              "      <th>23</th>\n",
              "      <td>2017</td>\n",
              "      <td>January</td>\n",
              "      <td>137.0</td>\n",
              "      <td>124.3</td>\n",
              "      <td>123.4</td>\n",
              "    </tr>\n",
              "    <tr>\n",
              "      <th>24</th>\n",
              "      <td>2017</td>\n",
              "      <td>February</td>\n",
              "      <td>136.1</td>\n",
              "      <td>125.0</td>\n",
              "      <td>123.8</td>\n",
              "    </tr>\n",
              "    <tr>\n",
              "      <th>25</th>\n",
              "      <td>2017</td>\n",
              "      <td>March</td>\n",
              "      <td>134.0</td>\n",
              "      <td>126.6</td>\n",
              "      <td>123.9</td>\n",
              "    </tr>\n",
              "    <tr>\n",
              "      <th>26</th>\n",
              "      <td>2017</td>\n",
              "      <td>April</td>\n",
              "      <td>133.1</td>\n",
              "      <td>126.8</td>\n",
              "      <td>124.4</td>\n",
              "    </tr>\n",
              "    <tr>\n",
              "      <th>27</th>\n",
              "      <td>2017</td>\n",
              "      <td>May</td>\n",
              "      <td>133.0</td>\n",
              "      <td>127.9</td>\n",
              "      <td>124.8</td>\n",
              "    </tr>\n",
              "    <tr>\n",
              "      <th>28</th>\n",
              "      <td>2017</td>\n",
              "      <td>June</td>\n",
              "      <td>133.1</td>\n",
              "      <td>129.1</td>\n",
              "      <td>125.1</td>\n",
              "    </tr>\n",
              "    <tr>\n",
              "      <th>29</th>\n",
              "      <td>2017</td>\n",
              "      <td>July</td>\n",
              "      <td>133.5</td>\n",
              "      <td>129.8</td>\n",
              "      <td>125.1</td>\n",
              "    </tr>\n",
              "    <tr>\n",
              "      <th>30</th>\n",
              "      <td>2017</td>\n",
              "      <td>August</td>\n",
              "      <td>133.7</td>\n",
              "      <td>129.4</td>\n",
              "      <td>125.3</td>\n",
              "    </tr>\n",
              "    <tr>\n",
              "      <th>31</th>\n",
              "      <td>2017</td>\n",
              "      <td>September</td>\n",
              "      <td>135.2</td>\n",
              "      <td>128.8</td>\n",
              "      <td>125.5</td>\n",
              "    </tr>\n",
              "    <tr>\n",
              "      <th>32</th>\n",
              "      <td>2017</td>\n",
              "      <td>October</td>\n",
              "      <td>139.0</td>\n",
              "      <td>129.4</td>\n",
              "      <td>125.9</td>\n",
              "    </tr>\n",
              "    <tr>\n",
              "      <th>33</th>\n",
              "      <td>2017</td>\n",
              "      <td>November</td>\n",
              "      <td>140.6</td>\n",
              "      <td>129.8</td>\n",
              "      <td>126.8</td>\n",
              "    </tr>\n",
              "    <tr>\n",
              "      <th>34</th>\n",
              "      <td>2017</td>\n",
              "      <td>December</td>\n",
              "      <td>139.0</td>\n",
              "      <td>131.0</td>\n",
              "      <td>127.5</td>\n",
              "    </tr>\n",
              "  </tbody>\n",
              "</table>\n",
              "</div>\n",
              "    <div class=\"colab-df-buttons\">\n",
              "\n",
              "  <div class=\"colab-df-container\">\n",
              "    <button class=\"colab-df-convert\" onclick=\"convertToInteractive('df-3f7e5548-6eb6-4415-985c-e6ddbdf3f7f2')\"\n",
              "            title=\"Convert this dataframe to an interactive table.\"\n",
              "            style=\"display:none;\">\n",
              "\n",
              "  <svg xmlns=\"http://www.w3.org/2000/svg\" height=\"24px\" viewBox=\"0 -960 960 960\">\n",
              "    <path d=\"M120-120v-720h720v720H120Zm60-500h600v-160H180v160Zm220 220h160v-160H400v160Zm0 220h160v-160H400v160ZM180-400h160v-160H180v160Zm440 0h160v-160H620v160ZM180-180h160v-160H180v160Zm440 0h160v-160H620v160Z\"/>\n",
              "  </svg>\n",
              "    </button>\n",
              "\n",
              "  <style>\n",
              "    .colab-df-container {\n",
              "      display:flex;\n",
              "      gap: 12px;\n",
              "    }\n",
              "\n",
              "    .colab-df-convert {\n",
              "      background-color: #E8F0FE;\n",
              "      border: none;\n",
              "      border-radius: 50%;\n",
              "      cursor: pointer;\n",
              "      display: none;\n",
              "      fill: #1967D2;\n",
              "      height: 32px;\n",
              "      padding: 0 0 0 0;\n",
              "      width: 32px;\n",
              "    }\n",
              "\n",
              "    .colab-df-convert:hover {\n",
              "      background-color: #E2EBFA;\n",
              "      box-shadow: 0px 1px 2px rgba(60, 64, 67, 0.3), 0px 1px 3px 1px rgba(60, 64, 67, 0.15);\n",
              "      fill: #174EA6;\n",
              "    }\n",
              "\n",
              "    .colab-df-buttons div {\n",
              "      margin-bottom: 4px;\n",
              "    }\n",
              "\n",
              "    [theme=dark] .colab-df-convert {\n",
              "      background-color: #3B4455;\n",
              "      fill: #D2E3FC;\n",
              "    }\n",
              "\n",
              "    [theme=dark] .colab-df-convert:hover {\n",
              "      background-color: #434B5C;\n",
              "      box-shadow: 0px 1px 3px 1px rgba(0, 0, 0, 0.15);\n",
              "      filter: drop-shadow(0px 1px 2px rgba(0, 0, 0, 0.3));\n",
              "      fill: #FFFFFF;\n",
              "    }\n",
              "  </style>\n",
              "\n",
              "    <script>\n",
              "      const buttonEl =\n",
              "        document.querySelector('#df-3f7e5548-6eb6-4415-985c-e6ddbdf3f7f2 button.colab-df-convert');\n",
              "      buttonEl.style.display =\n",
              "        google.colab.kernel.accessAllowed ? 'block' : 'none';\n",
              "\n",
              "      async function convertToInteractive(key) {\n",
              "        const element = document.querySelector('#df-3f7e5548-6eb6-4415-985c-e6ddbdf3f7f2');\n",
              "        const dataTable =\n",
              "          await google.colab.kernel.invokeFunction('convertToInteractive',\n",
              "                                                    [key], {});\n",
              "        if (!dataTable) return;\n",
              "\n",
              "        const docLinkHtml = 'Like what you see? Visit the ' +\n",
              "          '<a target=\"_blank\" href=https://colab.research.google.com/notebooks/data_table.ipynb>data table notebook</a>'\n",
              "          + ' to learn more about interactive tables.';\n",
              "        element.innerHTML = '';\n",
              "        dataTable['output_type'] = 'display_data';\n",
              "        await google.colab.output.renderOutput(dataTable, element);\n",
              "        const docLink = document.createElement('div');\n",
              "        docLink.innerHTML = docLinkHtml;\n",
              "        element.appendChild(docLink);\n",
              "      }\n",
              "    </script>\n",
              "  </div>\n",
              "\n",
              "\n",
              "<div id=\"df-d6efe9b3-f9b6-48d4-ae26-d79818e31093\">\n",
              "  <button class=\"colab-df-quickchart\" onclick=\"quickchart('df-d6efe9b3-f9b6-48d4-ae26-d79818e31093')\"\n",
              "            title=\"Suggest charts\"\n",
              "            style=\"display:none;\">\n",
              "\n",
              "<svg xmlns=\"http://www.w3.org/2000/svg\" height=\"24px\"viewBox=\"0 0 24 24\"\n",
              "     width=\"24px\">\n",
              "    <g>\n",
              "        <path d=\"M19 3H5c-1.1 0-2 .9-2 2v14c0 1.1.9 2 2 2h14c1.1 0 2-.9 2-2V5c0-1.1-.9-2-2-2zM9 17H7v-7h2v7zm4 0h-2V7h2v10zm4 0h-2v-4h2v4z\"/>\n",
              "    </g>\n",
              "</svg>\n",
              "  </button>\n",
              "\n",
              "<style>\n",
              "  .colab-df-quickchart {\n",
              "      --bg-color: #E8F0FE;\n",
              "      --fill-color: #1967D2;\n",
              "      --hover-bg-color: #E2EBFA;\n",
              "      --hover-fill-color: #174EA6;\n",
              "      --disabled-fill-color: #AAA;\n",
              "      --disabled-bg-color: #DDD;\n",
              "  }\n",
              "\n",
              "  [theme=dark] .colab-df-quickchart {\n",
              "      --bg-color: #3B4455;\n",
              "      --fill-color: #D2E3FC;\n",
              "      --hover-bg-color: #434B5C;\n",
              "      --hover-fill-color: #FFFFFF;\n",
              "      --disabled-bg-color: #3B4455;\n",
              "      --disabled-fill-color: #666;\n",
              "  }\n",
              "\n",
              "  .colab-df-quickchart {\n",
              "    background-color: var(--bg-color);\n",
              "    border: none;\n",
              "    border-radius: 50%;\n",
              "    cursor: pointer;\n",
              "    display: none;\n",
              "    fill: var(--fill-color);\n",
              "    height: 32px;\n",
              "    padding: 0;\n",
              "    width: 32px;\n",
              "  }\n",
              "\n",
              "  .colab-df-quickchart:hover {\n",
              "    background-color: var(--hover-bg-color);\n",
              "    box-shadow: 0 1px 2px rgba(60, 64, 67, 0.3), 0 1px 3px 1px rgba(60, 64, 67, 0.15);\n",
              "    fill: var(--button-hover-fill-color);\n",
              "  }\n",
              "\n",
              "  .colab-df-quickchart-complete:disabled,\n",
              "  .colab-df-quickchart-complete:disabled:hover {\n",
              "    background-color: var(--disabled-bg-color);\n",
              "    fill: var(--disabled-fill-color);\n",
              "    box-shadow: none;\n",
              "  }\n",
              "\n",
              "  .colab-df-spinner {\n",
              "    border: 2px solid var(--fill-color);\n",
              "    border-color: transparent;\n",
              "    border-bottom-color: var(--fill-color);\n",
              "    animation:\n",
              "      spin 1s steps(1) infinite;\n",
              "  }\n",
              "\n",
              "  @keyframes spin {\n",
              "    0% {\n",
              "      border-color: transparent;\n",
              "      border-bottom-color: var(--fill-color);\n",
              "      border-left-color: var(--fill-color);\n",
              "    }\n",
              "    20% {\n",
              "      border-color: transparent;\n",
              "      border-left-color: var(--fill-color);\n",
              "      border-top-color: var(--fill-color);\n",
              "    }\n",
              "    30% {\n",
              "      border-color: transparent;\n",
              "      border-left-color: var(--fill-color);\n",
              "      border-top-color: var(--fill-color);\n",
              "      border-right-color: var(--fill-color);\n",
              "    }\n",
              "    40% {\n",
              "      border-color: transparent;\n",
              "      border-right-color: var(--fill-color);\n",
              "      border-top-color: var(--fill-color);\n",
              "    }\n",
              "    60% {\n",
              "      border-color: transparent;\n",
              "      border-right-color: var(--fill-color);\n",
              "    }\n",
              "    80% {\n",
              "      border-color: transparent;\n",
              "      border-right-color: var(--fill-color);\n",
              "      border-bottom-color: var(--fill-color);\n",
              "    }\n",
              "    90% {\n",
              "      border-color: transparent;\n",
              "      border-bottom-color: var(--fill-color);\n",
              "    }\n",
              "  }\n",
              "</style>\n",
              "\n",
              "  <script>\n",
              "    async function quickchart(key) {\n",
              "      const quickchartButtonEl =\n",
              "        document.querySelector('#' + key + ' button');\n",
              "      quickchartButtonEl.disabled = true;  // To prevent multiple clicks.\n",
              "      quickchartButtonEl.classList.add('colab-df-spinner');\n",
              "      try {\n",
              "        const charts = await google.colab.kernel.invokeFunction(\n",
              "            'suggestCharts', [key], {});\n",
              "      } catch (error) {\n",
              "        console.error('Error during call to suggestCharts:', error);\n",
              "      }\n",
              "      quickchartButtonEl.classList.remove('colab-df-spinner');\n",
              "      quickchartButtonEl.classList.add('colab-df-quickchart-complete');\n",
              "    }\n",
              "    (() => {\n",
              "      let quickchartButtonEl =\n",
              "        document.querySelector('#df-d6efe9b3-f9b6-48d4-ae26-d79818e31093 button');\n",
              "      quickchartButtonEl.style.display =\n",
              "        google.colab.kernel.accessAllowed ? 'block' : 'none';\n",
              "    })();\n",
              "  </script>\n",
              "</div>\n",
              "\n",
              "  <div id=\"id_e09aa25e-1837-478c-aaa9-469d3052967c\">\n",
              "    <style>\n",
              "      .colab-df-generate {\n",
              "        background-color: #E8F0FE;\n",
              "        border: none;\n",
              "        border-radius: 50%;\n",
              "        cursor: pointer;\n",
              "        display: none;\n",
              "        fill: #1967D2;\n",
              "        height: 32px;\n",
              "        padding: 0 0 0 0;\n",
              "        width: 32px;\n",
              "      }\n",
              "\n",
              "      .colab-df-generate:hover {\n",
              "        background-color: #E2EBFA;\n",
              "        box-shadow: 0px 1px 2px rgba(60, 64, 67, 0.3), 0px 1px 3px 1px rgba(60, 64, 67, 0.15);\n",
              "        fill: #174EA6;\n",
              "      }\n",
              "\n",
              "      [theme=dark] .colab-df-generate {\n",
              "        background-color: #3B4455;\n",
              "        fill: #D2E3FC;\n",
              "      }\n",
              "\n",
              "      [theme=dark] .colab-df-generate:hover {\n",
              "        background-color: #434B5C;\n",
              "        box-shadow: 0px 1px 3px 1px rgba(0, 0, 0, 0.15);\n",
              "        filter: drop-shadow(0px 1px 2px rgba(0, 0, 0, 0.3));\n",
              "        fill: #FFFFFF;\n",
              "      }\n",
              "    </style>\n",
              "    <button class=\"colab-df-generate\" onclick=\"generateWithVariable('salesdata')\"\n",
              "            title=\"Generate code using this dataframe.\"\n",
              "            style=\"display:none;\">\n",
              "\n",
              "  <svg xmlns=\"http://www.w3.org/2000/svg\" height=\"24px\"viewBox=\"0 0 24 24\"\n",
              "       width=\"24px\">\n",
              "    <path d=\"M7,19H8.4L18.45,9,17,7.55,7,17.6ZM5,21V16.75L18.45,3.32a2,2,0,0,1,2.83,0l1.4,1.43a1.91,1.91,0,0,1,.58,1.4,1.91,1.91,0,0,1-.58,1.4L9.25,21ZM18.45,9,17,7.55Zm-12,3A5.31,5.31,0,0,0,4.9,8.1,5.31,5.31,0,0,0,1,6.5,5.31,5.31,0,0,0,4.9,4.9,5.31,5.31,0,0,0,6.5,1,5.31,5.31,0,0,0,8.1,4.9,5.31,5.31,0,0,0,12,6.5,5.46,5.46,0,0,0,6.5,12Z\"/>\n",
              "  </svg>\n",
              "    </button>\n",
              "    <script>\n",
              "      (() => {\n",
              "      const buttonEl =\n",
              "        document.querySelector('#id_e09aa25e-1837-478c-aaa9-469d3052967c button.colab-df-generate');\n",
              "      buttonEl.style.display =\n",
              "        google.colab.kernel.accessAllowed ? 'block' : 'none';\n",
              "\n",
              "      buttonEl.onclick = () => {\n",
              "        google.colab.notebook.generateWithVariable('salesdata');\n",
              "      }\n",
              "      })();\n",
              "    </script>\n",
              "  </div>\n",
              "\n",
              "    </div>\n",
              "  </div>\n"
            ],
            "application/vnd.google.colaboratory.intrinsic+json": {
              "type": "dataframe",
              "variable_name": "salesdata",
              "summary": "{\n  \"name\": \"salesdata\",\n  \"rows\": 35,\n  \"fields\": [\n    {\n      \"column\": \"Year\",\n      \"properties\": {\n        \"dtype\": \"number\",\n        \"std\": 0,\n        \"min\": 2015,\n        \"max\": 2017,\n        \"num_unique_values\": 3,\n        \"samples\": [\n          2015,\n          2016,\n          2017\n        ],\n        \"semantic_type\": \"\",\n        \"description\": \"\"\n      }\n    },\n    {\n      \"column\": \"Month\",\n      \"properties\": {\n        \"dtype\": \"category\",\n        \"num_unique_values\": 12,\n        \"samples\": [\n          \"December\",\n          \"November\",\n          \"February\"\n        ],\n        \"semantic_type\": \"\",\n        \"description\": \"\"\n      }\n    },\n    {\n      \"column\": \"BU1\",\n      \"properties\": {\n        \"dtype\": \"number\",\n        \"std\": 5.069695762671605,\n        \"min\": 123.1,\n        \"max\": 140.6,\n        \"num_unique_values\": 31,\n        \"samples\": [\n          133.7,\n          129.8,\n          136.1\n        ],\n        \"semantic_type\": \"\",\n        \"description\": \"\"\n      }\n    },\n    {\n      \"column\": \"BU2\",\n      \"properties\": {\n        \"dtype\": \"number\",\n        \"std\": 4.343742722622525,\n        \"min\": 115.5,\n        \"max\": 131.0,\n        \"num_unique_values\": 32,\n        \"samples\": [\n          129.4,\n          123.1,\n          126.6\n        ],\n        \"semantic_type\": \"\",\n        \"description\": \"\"\n      }\n    },\n    {\n      \"column\": \"BU3\",\n      \"properties\": {\n        \"dtype\": \"number\",\n        \"std\": 4.221818079827655,\n        \"min\": 113.8,\n        \"max\": 127.5,\n        \"num_unique_values\": 32,\n        \"samples\": [\n          125.9,\n          120.0,\n          124.4\n        ],\n        \"semantic_type\": \"\",\n        \"description\": \"\"\n      }\n    }\n  ]\n}"
            }
          },
          "metadata": {},
          "execution_count": 7
        }
      ]
    },
    {
      "cell_type": "markdown",
      "source": [
        "# Question 2. Create time series objects of the data\n",
        "\n",
        "---\n",
        " The start date is February 2015, and the end date is January 2018. Since the data is monthly, the frequency will be M."
      ],
      "metadata": {
        "id": "nIGaW8OojKm1"
      }
    },
    {
      "cell_type": "code",
      "source": [
        "# Create a date range for the time series\n",
        "date_range = pd.date_range(start='2015-02', end='2018-01', freq='M')\n",
        "\n",
        "# Business Unit 1\n",
        "sales_BU1 = pd.Series(salesdata['BU1'].values, index=date_range)\n",
        "\n",
        "# Business Unit 2\n",
        "sales_BU2 = pd.Series(salesdata['BU2'].values, index=date_range)\n",
        "\n",
        "# Business Unit 3\n",
        "sales_BU3 = pd.Series(salesdata['BU3'].values, index=date_range)"
      ],
      "metadata": {
        "id": "LauAzZ4MjCcr"
      },
      "execution_count": null,
      "outputs": []
    },
    {
      "cell_type": "markdown",
      "source": [
        "#Question 3. Check for stationarity for each of the three series\n",
        "---\n",
        "Checking for stationarity in each of the three time series plotting the series and their autocorrelation function (ACF).\n",
        "\n",
        "Also performing the Augmented Dickey-Fuller (ADF) test."
      ],
      "metadata": {
        "id": "ebcN7EZwkQrQ"
      }
    },
    {
      "cell_type": "code",
      "source": [
        "# Plotting Business Unit 1\n",
        "sales_BU1.plot(color='red', title =\"Monthly Sales of Business Unit 1\")\n",
        "plot_acf(sales_BU1)\n",
        "plt.show()\n",
        "\n",
        "adf = ADF(sales_BU1,lags=0,trend='n')\n",
        "adf.summary()\n",
        "\n"
      ],
      "metadata": {
        "colab": {
          "base_uri": "https://localhost:8080/",
          "height": 1000
        },
        "id": "5mF523qRj8JB",
        "outputId": "5d91ead2-345c-4cbc-ac8c-2e50847bc062"
      },
      "execution_count": null,
      "outputs": [
        {
          "output_type": "display_data",
          "data": {
            "text/plain": [
              "<Figure size 640x480 with 1 Axes>"
            ],
            "image/png": "[encoded data removed]"
          },
          "metadata": {}
        },
        {
          "output_type": "display_data",
          "data": {
            "text/plain": [
              "<Figure size 640x480 with 1 Axes>"
            ],
            "image/png": "[encoded data removed]"
          },
          "metadata": {}
        },
        {
          "output_type": "execute_result",
          "data": {
            "text/plain": [
              "<class 'statsmodels.iolib.summary.Summary'>\n",
              "\"\"\"\n",
              "   Augmented Dickey-Fuller Results   \n",
              "=====================================\n",
              "Test Statistic                  1.683\n",
              "P-value                         0.978\n",
              "Lags                                0\n",
              "-------------------------------------\n",
              "\n",
              "Trend: No Trend\n",
              "Critical Values: -2.63 (1%), -1.95 (5%), -1.61 (10%)\n",
              "Null Hypothesis: The process contains a unit root.\n",
              "Alternative Hypothesis: The process is weakly stationary.\n",
              "\"\"\""
            ],
            "text/html": [
              "<table class=\"simpletable\">\n",
              "<caption>Augmented Dickey-Fuller Results</caption>\n",
              "<tr>\n",
              "  <td>Test Statistic</td>     <td>1.683</td>\n",
              "</tr>\n",
              "<tr>\n",
              "  <td>P-value</td>            <td>0.978</td>\n",
              "</tr>\n",
              "<tr>\n",
              "  <td>Lags</td>                   <td>0</td>\n",
              "</tr>\n",
              "</table><br/><br/>Trend: No Trend<br/>Critical Values: -2.63 (1%), -1.95 (5%), -1.61 (10%)<br/>Null Hypothesis: The process contains a unit root.<br/>Alternative Hypothesis: The process is weakly stationary."
            ],
            "text/latex": "\\begin{center}\n\\begin{tabular}{lr}\n\\toprule\nTest Statistic     &              1.683  \\\\\nP-value            &              0.978  \\\\\nLags               &                  0  \\\\\n\\bottomrule\n\\end{tabular}\n%\\caption{Augmented Dickey-Fuller Results}\n\\end{center}\n\nTrend: No Trend \\newline\n Critical Values: -2.63 (1%), -1.95 (5%), -1.61 (10%) \\newline\n Null Hypothesis: The process contains a unit root. \\newline\n Alternative Hypothesis: The process is weakly stationary."
          },
          "metadata": {},
          "execution_count": 9
        }
      ]
    },
    {
      "cell_type": "markdown",
      "source": [
        "Comment:\n",
        "A slow decaying ACF suggests non-stationarity.\n",
        "\n",
        "The test statistic (1.683) is much higher than all the critical values at the 1%, 5%, and 10% levels.\n",
        "This indicates that the null hypothesis cannot be rejected.\n",
        "Hence, Time series is non-stationary."
      ],
      "metadata": {
        "id": "ADLxRd09g8RQ"
      }
    },
    {
      "cell_type": "code",
      "source": [
        "# Plotting Business Unit 2\n",
        "sales_BU2.plot(color='red', title =\"Monthly Sales of Business Unit 2\")\n",
        "plot_acf(sales_BU2)\n",
        "plt.show()\n",
        "\n",
        "adf = ADF(sales_BU2,lags=0,trend='n')\n",
        "adf.summary()"
      ],
      "metadata": {
        "colab": {
          "base_uri": "https://localhost:8080/",
          "height": 1000
        },
        "id": "gQz674A7k70u",
        "outputId": "6d79d6e0-1266-4538-adc9-f0d0c25ceb7a"
      },
      "execution_count": null,
      "outputs": [
        {
          "output_type": "display_data",
          "data": {
            "text/plain": [
              "<Figure size 640x480 with 1 Axes>"
            ],
            "image/png": "[encoded data removed]"
          },
          "metadata": {}
        },
        {
          "output_type": "display_data",
          "data": {
            "text/plain": [
              "<Figure size 640x480 with 1 Axes>"
            ],
            "image/png": "[encoded data removed]"
          },
          "metadata": {}
        },
        {
          "output_type": "execute_result",
          "data": {
            "text/plain": [
              "<class 'statsmodels.iolib.summary.Summary'>\n",
              "\"\"\"\n",
              "   Augmented Dickey-Fuller Results   \n",
              "=====================================\n",
              "Test Statistic                  5.295\n",
              "P-value                         1.000\n",
              "Lags                                0\n",
              "-------------------------------------\n",
              "\n",
              "Trend: No Trend\n",
              "Critical Values: -2.63 (1%), -1.95 (5%), -1.61 (10%)\n",
              "Null Hypothesis: The process contains a unit root.\n",
              "Alternative Hypothesis: The process is weakly stationary.\n",
              "\"\"\""
            ],
            "text/html": [
              "<table class=\"simpletable\">\n",
              "<caption>Augmented Dickey-Fuller Results</caption>\n",
              "<tr>\n",
              "  <td>Test Statistic</td>     <td>5.295</td>\n",
              "</tr>\n",
              "<tr>\n",
              "  <td>P-value</td>            <td>1.000</td>\n",
              "</tr>\n",
              "<tr>\n",
              "  <td>Lags</td>                   <td>0</td>\n",
              "</tr>\n",
              "</table><br/><br/>Trend: No Trend<br/>Critical Values: -2.63 (1%), -1.95 (5%), -1.61 (10%)<br/>Null Hypothesis: The process contains a unit root.<br/>Alternative Hypothesis: The process is weakly stationary."
            ],
            "text/latex": "\\begin{center}\n\\begin{tabular}{lr}\n\\toprule\nTest Statistic     &              5.295  \\\\\nP-value            &              1.000  \\\\\nLags               &                  0  \\\\\n\\bottomrule\n\\end{tabular}\n%\\caption{Augmented Dickey-Fuller Results}\n\\end{center}\n\nTrend: No Trend \\newline\n Critical Values: -2.63 (1%), -1.95 (5%), -1.61 (10%) \\newline\n Null Hypothesis: The process contains a unit root. \\newline\n Alternative Hypothesis: The process is weakly stationary."
          },
          "metadata": {},
          "execution_count": 10
        }
      ]
    },
    {
      "cell_type": "markdown",
      "source": [
        "Comment:\n",
        "A slow decaying ACF suggests non-stationarity.\n",
        "\n",
        "The test statistic (5.295) is much higher than all the critical values at the 1%, 5%, and 10% levels.\n",
        "This indicates that the null hypothesis cannot be rejected.\n",
        "Hence, Time series is non-stationary."
      ],
      "metadata": {
        "id": "lz1EBDpPhWUR"
      }
    },
    {
      "cell_type": "code",
      "source": [
        "# Plotting Business Unit 3\n",
        "sales_BU3.plot(color='red', title =\"Monthly Sales of Business Unit 3\")\n",
        "plot_acf(sales_BU3)\n",
        "plt.show()\n",
        "\n",
        "adf = ADF(sales_BU3,lags=0,trend='n')\n",
        "adf.summary()"
      ],
      "metadata": {
        "colab": {
          "base_uri": "https://localhost:8080/",
          "height": 1000
        },
        "id": "1lrH63u_mW4L",
        "outputId": "f170fe79-3232-4da0-9214-589b724930d2"
      },
      "execution_count": null,
      "outputs": [
        {
          "output_type": "display_data",
          "data": {
            "text/plain": [
              "<Figure size 640x480 with 1 Axes>"
            ],
            "image/png": "[encoded data removed]"
          },
          "metadata": {}
        },
        {
          "output_type": "display_data",
          "data": {
            "text/plain": [
              "<Figure size 640x480 with 1 Axes>"
            ],
            "image/png": "[encoded data removed]"
          },
          "metadata": {}
        },
        {
          "output_type": "execute_result",
          "data": {
            "text/plain": [
              "<class 'statsmodels.iolib.summary.Summary'>\n",
              "\"\"\"\n",
              "   Augmented Dickey-Fuller Results   \n",
              "=====================================\n",
              "Test Statistic                  8.486\n",
              "P-value                         1.000\n",
              "Lags                                0\n",
              "-------------------------------------\n",
              "\n",
              "Trend: No Trend\n",
              "Critical Values: -2.63 (1%), -1.95 (5%), -1.61 (10%)\n",
              "Null Hypothesis: The process contains a unit root.\n",
              "Alternative Hypothesis: The process is weakly stationary.\n",
              "\"\"\""
            ],
            "text/html": [
              "<table class=\"simpletable\">\n",
              "<caption>Augmented Dickey-Fuller Results</caption>\n",
              "<tr>\n",
              "  <td>Test Statistic</td>     <td>8.486</td>\n",
              "</tr>\n",
              "<tr>\n",
              "  <td>P-value</td>            <td>1.000</td>\n",
              "</tr>\n",
              "<tr>\n",
              "  <td>Lags</td>                   <td>0</td>\n",
              "</tr>\n",
              "</table><br/><br/>Trend: No Trend<br/>Critical Values: -2.63 (1%), -1.95 (5%), -1.61 (10%)<br/>Null Hypothesis: The process contains a unit root.<br/>Alternative Hypothesis: The process is weakly stationary."
            ],
            "text/latex": "\\begin{center}\n\\begin{tabular}{lr}\n\\toprule\nTest Statistic     &              8.486  \\\\\nP-value            &              1.000  \\\\\nLags               &                  0  \\\\\n\\bottomrule\n\\end{tabular}\n%\\caption{Augmented Dickey-Fuller Results}\n\\end{center}\n\nTrend: No Trend \\newline\n Critical Values: -2.63 (1%), -1.95 (5%), -1.61 (10%) \\newline\n Null Hypothesis: The process contains a unit root. \\newline\n Alternative Hypothesis: The process is weakly stationary."
          },
          "metadata": {},
          "execution_count": 11
        }
      ]
    },
    {
      "cell_type": "markdown",
      "source": [
        "Comment:\n",
        "A slow decaying ACF suggests non-stationarity.\n",
        "\n",
        "The test statistic (8.486) is much higher than all the critical values at the 1%, 5%, and 10% levels.\n",
        "This indicates that the null hypothesis cannot be rejected.\n",
        "Hence, Time series is non-stationary."
      ],
      "metadata": {
        "id": "K9iAZZIkhajh"
      }
    },
    {
      "cell_type": "code",
      "source": [
        "diffs = ndiffs(sales_BU1)\n",
        "print(\"Number of differences needed sales_BU1:\", diffs)\n",
        "\n",
        "diffs = ndiffs(sales_BU2)\n",
        "print(\"Number of differences needed sales_BU2:\", diffs)\n",
        "\n",
        "diffs = ndiffs(sales_BU3)\n",
        "print(\"Number of differences needed sales_BU3:\", diffs)"
      ],
      "metadata": {
        "colab": {
          "base_uri": "https://localhost:8080/"
        },
        "id": "FYCO5GcYmeRu",
        "outputId": "13bc5996-49f1-4b82-8c0e-0732dabb2814"
      },
      "execution_count": null,
      "outputs": [
        {
          "output_type": "stream",
          "name": "stdout",
          "text": [
            "Number of differences needed sales_BU1: 1\n",
            "Number of differences needed sales_BU2: 1\n",
            "Number of differences needed sales_BU3: 1\n"
          ]
        }
      ]
    },
    {
      "cell_type": "markdown",
      "source": [
        "Timeseries should be differenced at least 1 time to achieve stationarity.\n",
        "\n",
        "Based on diferent trials I have seen that to achivie stationarity the following is needed:\n",
        "\n",
        "Timeseries sales_BU1 has been differenced 2 time\n",
        "Timeseries sales_BU2 has been differenced 2 time\n",
        "Timeseries sales_BU4 has been differenced 2 time\n",
        "\n",
        "Note: these are different than the values founded in R. Why?"
      ],
      "metadata": {
        "id": "duDBHIXwhhfM"
      }
    },
    {
      "cell_type": "code",
      "source": [
        "sales_BU1_diff1 = diff(sales_BU1)\n",
        "sales_BU1_diff2 = diff(sales_BU1_diff1)\n",
        "sales_BU1_diff2.plot(color='red')\n",
        "adf = ADF(sales_BU1_diff2,lags=0,trend='n')\n",
        "adf.summary()"
      ],
      "metadata": {
        "colab": {
          "base_uri": "https://localhost:8080/",
          "height": 651
        },
        "id": "s2nw5zE8nHbW",
        "outputId": "757f06f4-32db-49bf-e1e5-080ef8c719eb"
      },
      "execution_count": null,
      "outputs": [
        {
          "output_type": "execute_result",
          "data": {
            "text/plain": [
              "<class 'statsmodels.iolib.summary.Summary'>\n",
              "\"\"\"\n",
              "   Augmented Dickey-Fuller Results   \n",
              "=====================================\n",
              "Test Statistic                 -5.034\n",
              "P-value                         0.000\n",
              "Lags                                0\n",
              "-------------------------------------\n",
              "\n",
              "Trend: No Trend\n",
              "Critical Values: -2.64 (1%), -1.95 (5%), -1.61 (10%)\n",
              "Null Hypothesis: The process contains a unit root.\n",
              "Alternative Hypothesis: The process is weakly stationary.\n",
              "\"\"\""
            ],
            "text/html": [
              "<table class=\"simpletable\">\n",
              "<caption>Augmented Dickey-Fuller Results</caption>\n",
              "<tr>\n",
              "  <td>Test Statistic</td>    <td>-5.034</td>\n",
              "</tr>\n",
              "<tr>\n",
              "  <td>P-value</td>            <td>0.000</td>\n",
              "</tr>\n",
              "<tr>\n",
              "  <td>Lags</td>                   <td>0</td>\n",
              "</tr>\n",
              "</table><br/><br/>Trend: No Trend<br/>Critical Values: -2.64 (1%), -1.95 (5%), -1.61 (10%)<br/>Null Hypothesis: The process contains a unit root.<br/>Alternative Hypothesis: The process is weakly stationary."
            ],
            "text/latex": "\\begin{center}\n\\begin{tabular}{lr}\n\\toprule\nTest Statistic     &             -5.034  \\\\\nP-value            &              0.000  \\\\\nLags               &                  0  \\\\\n\\bottomrule\n\\end{tabular}\n%\\caption{Augmented Dickey-Fuller Results}\n\\end{center}\n\nTrend: No Trend \\newline\n Critical Values: -2.64 (1%), -1.95 (5%), -1.61 (10%) \\newline\n Null Hypothesis: The process contains a unit root. \\newline\n Alternative Hypothesis: The process is weakly stationary."
          },
          "metadata": {},
          "execution_count": 13
        },
        {
          "output_type": "display_data",
          "data": {
            "text/plain": [
              "<Figure size 640x480 with 1 Axes>"
            ],
            "image/png": "[encoded data removed]"
          },
          "metadata": {}
        }
      ]
    },
    {
      "cell_type": "code",
      "source": [
        "sales_BU2_diff1 = diff(sales_BU2)\n",
        "sales_BU2_diff2 = diff(sales_BU2_diff1)\n",
        "sales_BU2_diff2.plot(color='red')\n",
        "adf = ADF(sales_BU2_diff2,lags=0,trend='n')\n",
        "adf.summary()"
      ],
      "metadata": {
        "colab": {
          "base_uri": "https://localhost:8080/",
          "height": 651
        },
        "id": "gna8p8iFnmEQ",
        "outputId": "9502f464-9595-415b-831d-f12ec9171512"
      },
      "execution_count": null,
      "outputs": [
        {
          "output_type": "execute_result",
          "data": {
            "text/plain": [
              "<class 'statsmodels.iolib.summary.Summary'>\n",
              "\"\"\"\n",
              "   Augmented Dickey-Fuller Results   \n",
              "=====================================\n",
              "Test Statistic                 -7.080\n",
              "P-value                         0.000\n",
              "Lags                                0\n",
              "-------------------------------------\n",
              "\n",
              "Trend: No Trend\n",
              "Critical Values: -2.64 (1%), -1.95 (5%), -1.61 (10%)\n",
              "Null Hypothesis: The process contains a unit root.\n",
              "Alternative Hypothesis: The process is weakly stationary.\n",
              "\"\"\""
            ],
            "text/html": [
              "<table class=\"simpletable\">\n",
              "<caption>Augmented Dickey-Fuller Results</caption>\n",
              "<tr>\n",
              "  <td>Test Statistic</td>    <td>-7.080</td>\n",
              "</tr>\n",
              "<tr>\n",
              "  <td>P-value</td>            <td>0.000</td>\n",
              "</tr>\n",
              "<tr>\n",
              "  <td>Lags</td>                   <td>0</td>\n",
              "</tr>\n",
              "</table><br/><br/>Trend: No Trend<br/>Critical Values: -2.64 (1%), -1.95 (5%), -1.61 (10%)<br/>Null Hypothesis: The process contains a unit root.<br/>Alternative Hypothesis: The process is weakly stationary."
            ],
            "text/latex": "\\begin{center}\n\\begin{tabular}{lr}\n\\toprule\nTest Statistic     &             -7.080  \\\\\nP-value            &              0.000  \\\\\nLags               &                  0  \\\\\n\\bottomrule\n\\end{tabular}\n%\\caption{Augmented Dickey-Fuller Results}\n\\end{center}\n\nTrend: No Trend \\newline\n Critical Values: -2.64 (1%), -1.95 (5%), -1.61 (10%) \\newline\n Null Hypothesis: The process contains a unit root. \\newline\n Alternative Hypothesis: The process is weakly stationary."
          },
          "metadata": {},
          "execution_count": 14
        },
        {
          "output_type": "display_data",
          "data": {
            "text/plain": [
              "<Figure size 640x480 with 1 Axes>"
            ],
            "image/png": "[encoded data removed]"
          },
          "metadata": {}
        }
      ]
    },
    {
      "cell_type": "code",
      "source": [
        "sales_BU3_diff1 = diff(sales_BU3)\n",
        "sales_BU3_diff2 = diff(sales_BU3_diff1)\n",
        "sales_BU3_diff2.plot(color='red')\n",
        "adf = ADF(sales_BU3_diff2,lags=0,trend='n')\n",
        "adf.summary()"
      ],
      "metadata": {
        "colab": {
          "base_uri": "https://localhost:8080/",
          "height": 651
        },
        "id": "a2TuFUmso3zU",
        "outputId": "52450867-2647-4087-9c82-e4235341a283"
      },
      "execution_count": null,
      "outputs": [
        {
          "output_type": "execute_result",
          "data": {
            "text/plain": [
              "<class 'statsmodels.iolib.summary.Summary'>\n",
              "\"\"\"\n",
              "   Augmented Dickey-Fuller Results   \n",
              "=====================================\n",
              "Test Statistic                 -7.121\n",
              "P-value                         0.000\n",
              "Lags                                0\n",
              "-------------------------------------\n",
              "\n",
              "Trend: No Trend\n",
              "Critical Values: -2.64 (1%), -1.95 (5%), -1.61 (10%)\n",
              "Null Hypothesis: The process contains a unit root.\n",
              "Alternative Hypothesis: The process is weakly stationary.\n",
              "\"\"\""
            ],
            "text/html": [
              "<table class=\"simpletable\">\n",
              "<caption>Augmented Dickey-Fuller Results</caption>\n",
              "<tr>\n",
              "  <td>Test Statistic</td>    <td>-7.121</td>\n",
              "</tr>\n",
              "<tr>\n",
              "  <td>P-value</td>            <td>0.000</td>\n",
              "</tr>\n",
              "<tr>\n",
              "  <td>Lags</td>                   <td>0</td>\n",
              "</tr>\n",
              "</table><br/><br/>Trend: No Trend<br/>Critical Values: -2.64 (1%), -1.95 (5%), -1.61 (10%)<br/>Null Hypothesis: The process contains a unit root.<br/>Alternative Hypothesis: The process is weakly stationary."
            ],
            "text/latex": "\\begin{center}\n\\begin{tabular}{lr}\n\\toprule\nTest Statistic     &             -7.121  \\\\\nP-value            &              0.000  \\\\\nLags               &                  0  \\\\\n\\bottomrule\n\\end{tabular}\n%\\caption{Augmented Dickey-Fuller Results}\n\\end{center}\n\nTrend: No Trend \\newline\n Critical Values: -2.64 (1%), -1.95 (5%), -1.61 (10%) \\newline\n Null Hypothesis: The process contains a unit root. \\newline\n Alternative Hypothesis: The process is weakly stationary."
          },
          "metadata": {},
          "execution_count": 15
        },
        {
          "output_type": "display_data",
          "data": {
            "text/plain": [
              "<Figure size 640x480 with 1 Axes>"
            ],
            "image/png": "[encoded data removed]"
          },
          "metadata": {}
        }
      ]
    },
    {
      "cell_type": "markdown",
      "source": [
        "Comparing the test statistic with the critical values, to make a decision about the stationarity of the series.\n",
        "\n",
        "Comment BU1:\n",
        "The value of the test statistic is less than 5% critical value. Hence, Stationarity is achieved with 2nd order difference.\n",
        "\n",
        "Comment BU2:\n",
        "The value of the test statistic is than 5% critical value. Hence, Stationarity is achieved with 2nd order difference.\n",
        "\n",
        "Comment BU3:\n",
        "The value of the test statistic is less than 5% critical value. Hence, Stationarity is achieved with 2nd order difference."
      ],
      "metadata": {
        "id": "V-kRD761hyL2"
      }
    },
    {
      "cell_type": "markdown",
      "source": [
        "# Question 4. Obtain best model for each BU.\n",
        "\n",
        "---\n",
        "\n",
        "Using the ACF and PACF plots for the differenced series of the three business units sales data to define the parameters p, q, P, Q.\n"
      ],
      "metadata": {
        "id": "tCb2JmaEpQhY"
      }
    },
    {
      "cell_type": "code",
      "source": [
        "# Plot ACF and PACF side by side\n",
        "fig, axes = plt.subplots(1, 2, figsize=(12, 4))\n",
        "\n",
        "# ACF plot\n",
        "plot_acf(sales_BU1_diff2, ax=axes[0])\n",
        "axes[0].set_title('Autocorrelation Function')\n",
        "\n",
        "# PACF plot\n",
        "plot_pacf(sales_BU1_diff2, ax=axes[1])\n",
        "axes[1].set_title('Partial Autocorrelation Function')\n",
        "\n",
        "plt.show()"
      ],
      "metadata": {
        "colab": {
          "base_uri": "https://localhost:8080/",
          "height": 391
        },
        "id": "31Zn74BFpA4S",
        "outputId": "6e153115-a6c4-4592-a2e8-e77d409c462a"
      },
      "execution_count": null,
      "outputs": [
        {
          "output_type": "display_data",
          "data": {
            "text/plain": [
              "<Figure size 1200x400 with 2 Axes>"
            ],
            "image/png": "[encoded data removed]"
          },
          "metadata": {}
        }
      ]
    },
    {
      "cell_type": "markdown",
      "source": [
        "Comment:\n",
        "\n",
        "ACF Plot:  We can estimate 1 MA terms, since we have lag 1 out of the confidence interval, and lag 2 is in the blue area.\n",
        "\n",
        "PACF Plot: looking at the PACF plot above, we can estimate to use 1 AR terms for our model, since lag is in the blue area.\n",
        "\n",
        "There is hint of seasonality so P and Q are choosen to be 1. The auto_arima function uses a stepwise search algorithm to find the best model. In this way, the algorithm can more effectively explore the parameter space.\n",
        "This approach allows for more efficient exploration.\n",
        "\n",
        "\n",
        "max.p=2: PACF cuts off after lag 1, suggesting AR(1). Chosen p=2\n",
        "\n",
        "max.q=2: ACF cuts off after lag 1, suggesting MA(1). Chosen q=2\n",
        "\n",
        "max.P=1: There is hint of seasonality so P and Q are choosen to be 1.\n",
        "\n",
        "max.Q=1: There is hint of seasonality so P and Q are choosen to be 1."
      ],
      "metadata": {
        "id": "xdHZsAr5iKgz"
      }
    },
    {
      "cell_type": "code",
      "source": [
        "# Plot ACF and PACF side by side\n",
        "fig, axes = plt.subplots(1, 2, figsize=(12, 4))\n",
        "\n",
        "# ACF plot\n",
        "plot_acf(sales_BU2_diff2, ax=axes[0])\n",
        "axes[0].set_title('Autocorrelation Function')\n",
        "\n",
        "# PACF plot\n",
        "plot_pacf(sales_BU2_diff2, ax=axes[1])\n",
        "axes[1].set_title('Partial Autocorrelation Function')\n",
        "\n",
        "plt.show()"
      ],
      "metadata": {
        "colab": {
          "base_uri": "https://localhost:8080/",
          "height": 391
        },
        "id": "-VvGQS-OpwmB",
        "outputId": "7635c93d-49db-4200-a879-321878c6f7f2"
      },
      "execution_count": null,
      "outputs": [
        {
          "output_type": "display_data",
          "data": {
            "text/plain": [
              "<Figure size 1200x400 with 2 Axes>"
            ],
            "image/png": "[encoded data removed]"
          },
          "metadata": {}
        }
      ]
    },
    {
      "cell_type": "markdown",
      "source": [
        "Comment:\n",
        "\n",
        "ACF Plot:  We can estimate 1 MA terms, since we have lag 1 out of the confidence interval, and lag 2 is in the blue area.\n",
        "\n",
        "PACF Plot: looking at the PACF plot above, we can estimate to use 1 AR terms for our model, since lag is in the blue area.\n",
        "\n",
        "\n",
        "max.p=2: PACF cuts off after lag 1, suggesting AR(1). Chosen p=2\n",
        "\n",
        "max.q=2: ACF cuts off after lag 1, suggesting MA(1). Chosen q=2\n",
        "\n",
        "max.P=1: There is no hint of seasonality so P and Q are choosen to be 0.\n",
        "\n",
        "max.Q=1: There is no hint of seasonality so P and Q are choosen to be 0.\n",
        "\n",
        "The auto_arima function uses a stepwise search algorithm to find the best model. In this way, the algorithm can more effectively explore the parameter space. Using p and q = 2  allows for more efficient exploration."
      ],
      "metadata": {
        "id": "anj3UN5TjK9z"
      }
    },
    {
      "cell_type": "code",
      "source": [
        "# Plot ACF and PACF side by side\n",
        "fig, axes = plt.subplots(1, 2, figsize=(12, 4))\n",
        "\n",
        "# ACF plot\n",
        "plot_acf(sales_BU3_diff2, ax=axes[0])\n",
        "axes[0].set_title('Autocorrelation Function')\n",
        "\n",
        "# PACF plot\n",
        "plot_pacf(sales_BU3_diff2, ax=axes[1])\n",
        "axes[1].set_title('Partial Autocorrelation Function')\n",
        "\n",
        "plt.show()"
      ],
      "metadata": {
        "colab": {
          "base_uri": "https://localhost:8080/",
          "height": 391
        },
        "id": "JcA8rO94p6WI",
        "outputId": "f077e3e1-bb49-4469-bf34-e6d43dde62c0"
      },
      "execution_count": null,
      "outputs": [
        {
          "output_type": "display_data",
          "data": {
            "text/plain": [
              "<Figure size 1200x400 with 2 Axes>"
            ],
            "image/png": "[encoded data removed]"
          },
          "metadata": {}
        }
      ]
    },
    {
      "cell_type": "markdown",
      "source": [
        "Comment:\n",
        "\n",
        "ACF Plot:  We can estimate 1 MA terms, since we have lag 1 out of the confidence interval, and lag 2 is in the blue area.\n",
        "\n",
        "PACF Plot: looking at the PACF plot above, we can estimate to use 1 AR terms for our model, since lag is in the blue area.\n",
        "\n",
        "\n",
        "max.p=2: PACF cuts off after lag 1, suggesting AR(1). Chosen p=2\n",
        "\n",
        "max.q=2: ACF cuts off after lag 1, suggesting MA(1). Chosen q=2\n",
        "\n",
        "max.P=1: There is no hint of seasonality so P and Q are choosen to be 0.\n",
        "\n",
        "max.Q=1: There is no hint of seasonality so P and Q are choosen to be 0.\n",
        "\n",
        "The auto_arima function uses a stepwise search algorithm to find the best model. In this way, the algorithm can more effectively explore the parameter space. Using p and q = 2  allows for more efficient exploration."
      ],
      "metadata": {
        "id": "5i0rUSnRjgDX"
      }
    },
    {
      "cell_type": "code",
      "source": [
        "model_BU1 = pm.auto_arima(sales_BU1, max_p=2, max_q=2, d=2, seasonal=True, trace=True)\n",
        "model_BU1.params()\n",
        "model_BU1.aic()"
      ],
      "metadata": {
        "colab": {
          "base_uri": "https://localhost:8080/"
        },
        "id": "QiwJqtNOp9cV",
        "outputId": "18841d1b-1880-4dd9-da3d-5cf56a5e1b0e"
      },
      "execution_count": null,
      "outputs": [
        {
          "output_type": "stream",
          "name": "stdout",
          "text": [
            "Performing stepwise search to minimize aic\n",
            " ARIMA(2,2,2)(0,0,0)[0]             : AIC=inf, Time=1.05 sec\n",
            " ARIMA(0,2,0)(0,0,0)[0]             : AIC=114.413, Time=0.04 sec\n",
            " ARIMA(1,2,0)(0,0,0)[0]             : AIC=116.409, Time=0.05 sec\n",
            " ARIMA(0,2,1)(0,0,0)[0]             : AIC=116.405, Time=0.30 sec\n",
            " ARIMA(1,2,1)(0,0,0)[0]             : AIC=inf, Time=0.80 sec\n",
            " ARIMA(0,2,0)(0,0,0)[0] intercept   : AIC=116.413, Time=0.03 sec\n",
            "\n",
            "Best model:  ARIMA(0,2,0)(0,0,0)[0]          \n",
            "Total fit time: 2.297 seconds\n"
          ]
        },
        {
          "output_type": "execute_result",
          "data": {
            "text/plain": [
              "114.41307724217029"
            ]
          },
          "metadata": {},
          "execution_count": 19
        }
      ]
    },
    {
      "cell_type": "code",
      "source": [
        "model_BU1.params()"
      ],
      "metadata": {
        "colab": {
          "base_uri": "https://localhost:8080/"
        },
        "id": "qfTwsBL-r-xp",
        "outputId": "42da51ac-42d8-47f5-c08b-22bcebb88468"
      },
      "execution_count": null,
      "outputs": [
        {
          "output_type": "execute_result",
          "data": {
            "text/plain": [
              "sigma2    1.765744\n",
              "dtype: float64"
            ]
          },
          "metadata": {},
          "execution_count": 20
        }
      ]
    },
    {
      "cell_type": "code",
      "source": [
        "model_BU1.aic()"
      ],
      "metadata": {
        "colab": {
          "base_uri": "https://localhost:8080/"
        },
        "id": "ecmM7eqor62x",
        "outputId": "a68735ac-2cfd-4327-8327-d39960282bc0"
      },
      "execution_count": null,
      "outputs": [
        {
          "output_type": "execute_result",
          "data": {
            "text/plain": [
              "114.41307724217029"
            ]
          },
          "metadata": {},
          "execution_count": 21
        }
      ]
    },
    {
      "cell_type": "code",
      "source": [
        "model_BU2 = pm.auto_arima(sales_BU2, max_p=2, max_q=2, d=2, seasonal=False, trace=True)"
      ],
      "metadata": {
        "colab": {
          "base_uri": "https://localhost:8080/"
        },
        "id": "lHd69YqHqMgK",
        "outputId": "d75d2de0-cf2f-4203-acdb-928fac045cef"
      },
      "execution_count": null,
      "outputs": [
        {
          "output_type": "stream",
          "name": "stdout",
          "text": [
            "Performing stepwise search to minimize aic\n",
            " ARIMA(2,2,2)(0,0,0)[0] intercept   : AIC=inf, Time=1.37 sec\n",
            " ARIMA(0,2,0)(0,0,0)[0] intercept   : AIC=64.676, Time=0.08 sec\n",
            " ARIMA(1,2,0)(0,0,0)[0] intercept   : AIC=64.708, Time=0.14 sec\n",
            " ARIMA(0,2,1)(0,0,0)[0] intercept   : AIC=inf, Time=0.57 sec\n",
            " ARIMA(0,2,0)(0,0,0)[0]             : AIC=62.758, Time=0.03 sec\n",
            " ARIMA(1,2,1)(0,0,0)[0] intercept   : AIC=inf, Time=0.70 sec\n",
            "\n",
            "Best model:  ARIMA(0,2,0)(0,0,0)[0]          \n",
            "Total fit time: 2.923 seconds\n"
          ]
        }
      ]
    },
    {
      "cell_type": "code",
      "source": [
        "model_BU2.params()"
      ],
      "metadata": {
        "colab": {
          "base_uri": "https://localhost:8080/"
        },
        "id": "jJwT8uUOsGS4",
        "outputId": "8ad7ee8b-4534-4f65-8a64-7bcdc7236f77"
      },
      "execution_count": null,
      "outputs": [
        {
          "output_type": "execute_result",
          "data": {
            "text/plain": [
              "sigma2    0.369086\n",
              "dtype: float64"
            ]
          },
          "metadata": {},
          "execution_count": 23
        }
      ]
    },
    {
      "cell_type": "code",
      "source": [
        "model_BU2.aic()"
      ],
      "metadata": {
        "colab": {
          "base_uri": "https://localhost:8080/"
        },
        "id": "iOGbhVHSsJtp",
        "outputId": "ff6da2fb-8c63-426a-860d-63068f9a05aa"
      },
      "execution_count": null,
      "outputs": [
        {
          "output_type": "execute_result",
          "data": {
            "text/plain": [
              "62.758437325190854"
            ]
          },
          "metadata": {},
          "execution_count": 24
        }
      ]
    },
    {
      "cell_type": "code",
      "source": [
        "model_BU3 = pm.auto_arima(sales_BU3, max_p=2, max_q=2, d=2, seasonal=False, trace=True)"
      ],
      "metadata": {
        "colab": {
          "base_uri": "https://localhost:8080/"
        },
        "id": "kDSQlxLjrY7h",
        "outputId": "9773739d-09fe-4a3e-dcd3-a092b00d0652"
      },
      "execution_count": null,
      "outputs": [
        {
          "output_type": "stream",
          "name": "stdout",
          "text": [
            "Performing stepwise search to minimize aic\n",
            " ARIMA(2,2,2)(0,0,0)[0] intercept   : AIC=inf, Time=5.89 sec\n",
            " ARIMA(0,2,0)(0,0,0)[0] intercept   : AIC=20.392, Time=0.10 sec\n",
            " ARIMA(1,2,0)(0,0,0)[0] intercept   : AIC=20.371, Time=0.11 sec\n",
            " ARIMA(0,2,1)(0,0,0)[0] intercept   : AIC=18.836, Time=0.21 sec\n",
            " ARIMA(0,2,0)(0,0,0)[0]             : AIC=18.546, Time=0.03 sec\n",
            " ARIMA(1,2,1)(0,0,0)[0] intercept   : AIC=inf, Time=0.56 sec\n",
            "\n",
            "Best model:  ARIMA(0,2,0)(0,0,0)[0]          \n",
            "Total fit time: 6.913 seconds\n"
          ]
        }
      ]
    },
    {
      "cell_type": "code",
      "source": [
        "model_BU3.params()"
      ],
      "metadata": {
        "colab": {
          "base_uri": "https://localhost:8080/"
        },
        "id": "ZhP1zp4OrgM6",
        "outputId": "69cbb772-c011-4607-c00e-9cc8b8dcab59"
      },
      "execution_count": null,
      "outputs": [
        {
          "output_type": "execute_result",
          "data": {
            "text/plain": [
              "sigma2    0.09667\n",
              "dtype: float64"
            ]
          },
          "metadata": {},
          "execution_count": 26
        }
      ]
    },
    {
      "cell_type": "code",
      "source": [
        "model_BU3.aic()"
      ],
      "metadata": {
        "colab": {
          "base_uri": "https://localhost:8080/"
        },
        "id": "a6mAT9PlsRbr",
        "outputId": "b68080fd-bceb-437c-afba-e934212d8c4f"
      },
      "execution_count": null,
      "outputs": [
        {
          "output_type": "execute_result",
          "data": {
            "text/plain": [
              "18.54588389900368"
            ]
          },
          "metadata": {},
          "execution_count": 27
        }
      ]
    },
    {
      "cell_type": "markdown",
      "source": [
        "Diagnose the Residuals.\n",
        "\n",
        "Checking the residuals of the fitted model to ensure they resemble white noise. This involves examining the ACF and PACF plots of the residuals and conducting the statistical Box-Pierce test."
      ],
      "metadata": {
        "id": "lzSiqh3hjpLv"
      }
    },
    {
      "cell_type": "code",
      "source": [
        "resi_BU1 = pd.Series(model_BU1.resid(),date_range)\n",
        "acorr_ljungbox(resi_BU1, lags=None, boxpierce=True)"
      ],
      "metadata": {
        "colab": {
          "base_uri": "https://localhost:8080/",
          "height": 269
        },
        "id": "6YPOnSKKjuHr",
        "outputId": "c11924de-5c1f-4f9a-abb8-2391daf03f48"
      },
      "execution_count": null,
      "outputs": [
        {
          "output_type": "execute_result",
          "data": {
            "text/plain": [
              "    lb_stat  lb_pvalue   bp_stat  bp_pvalue\n",
              "1  6.235923   0.012518  5.730308   0.016675\n",
              "2  6.236374   0.044237  5.730709   0.056963\n",
              "3  6.236464   0.100656  5.730788   0.125468\n",
              "4  6.236464   0.182171  5.730788   0.220175\n",
              "5  6.236464   0.283885  5.730788   0.333302\n",
              "6  6.236895   0.397183  5.731125   0.453973\n",
              "7  6.242878   0.511693  5.735653   0.570932"
            ],
            "text/html": [
              "\n",
              "  <div id=\"df-2c0910ab-dc2f-4ded-ae1b-0639306450ac\" class=\"colab-df-container\">\n",
              "    <div>\n",
              "<style scoped>\n",
              "    .dataframe tbody tr th:only-of-type {\n",
              "        vertical-align: middle;\n",
              "    }\n",
              "\n",
              "    .dataframe tbody tr th {\n",
              "        vertical-align: top;\n",
              "    }\n",
              "\n",
              "    .dataframe thead th {\n",
              "        text-align: right;\n",
              "    }\n",
              "</style>\n",
              "<table border=\"1\" class=\"dataframe\">\n",
              "  <thead>\n",
              "    <tr style=\"text-align: right;\">\n",
              "      <th></th>\n",
              "      <th>lb_stat</th>\n",
              "      <th>lb_pvalue</th>\n",
              "      <th>bp_stat</th>\n",
              "      <th>bp_pvalue</th>\n",
              "    </tr>\n",
              "  </thead>\n",
              "  <tbody>\n",
              "    <tr>\n",
              "      <th>1</th>\n",
              "      <td>6.235923</td>\n",
              "      <td>0.012518</td>\n",
              "      <td>5.730308</td>\n",
              "      <td>0.016675</td>\n",
              "    </tr>\n",
              "    <tr>\n",
              "      <th>2</th>\n",
              "      <td>6.236374</td>\n",
              "      <td>0.044237</td>\n",
              "      <td>5.730709</td>\n",
              "      <td>0.056963</td>\n",
              "    </tr>\n",
              "    <tr>\n",
              "      <th>3</th>\n",
              "      <td>6.236464</td>\n",
              "      <td>0.100656</td>\n",
              "      <td>5.730788</td>\n",
              "      <td>0.125468</td>\n",
              "    </tr>\n",
              "    <tr>\n",
              "      <th>4</th>\n",
              "      <td>6.236464</td>\n",
              "      <td>0.182171</td>\n",
              "      <td>5.730788</td>\n",
              "      <td>0.220175</td>\n",
              "    </tr>\n",
              "    <tr>\n",
              "      <th>5</th>\n",
              "      <td>6.236464</td>\n",
              "      <td>0.283885</td>\n",
              "      <td>5.730788</td>\n",
              "      <td>0.333302</td>\n",
              "    </tr>\n",
              "    <tr>\n",
              "      <th>6</th>\n",
              "      <td>6.236895</td>\n",
              "      <td>0.397183</td>\n",
              "      <td>5.731125</td>\n",
              "      <td>0.453973</td>\n",
              "    </tr>\n",
              "    <tr>\n",
              "      <th>7</th>\n",
              "      <td>6.242878</td>\n",
              "      <td>0.511693</td>\n",
              "      <td>5.735653</td>\n",
              "      <td>0.570932</td>\n",
              "    </tr>\n",
              "  </tbody>\n",
              "</table>\n",
              "</div>\n",
              "    <div class=\"colab-df-buttons\">\n",
              "\n",
              "  <div class=\"colab-df-container\">\n",
              "    <button class=\"colab-df-convert\" onclick=\"convertToInteractive('df-2c0910ab-dc2f-4ded-ae1b-0639306450ac')\"\n",
              "            title=\"Convert this dataframe to an interactive table.\"\n",
              "            style=\"display:none;\">\n",
              "\n",
              "  <svg xmlns=\"http://www.w3.org/2000/svg\" height=\"24px\" viewBox=\"0 -960 960 960\">\n",
              "    <path d=\"M120-120v-720h720v720H120Zm60-500h600v-160H180v160Zm220 220h160v-160H400v160Zm0 220h160v-160H400v160ZM180-400h160v-160H180v160Zm440 0h160v-160H620v160ZM180-180h160v-160H180v160Zm440 0h160v-160H620v160Z\"/>\n",
              "  </svg>\n",
              "    </button>\n",
              "\n",
              "  <style>\n",
              "    .colab-df-container {\n",
              "      display:flex;\n",
              "      gap: 12px;\n",
              "    }\n",
              "\n",
              "    .colab-df-convert {\n",
              "      background-color: #E8F0FE;\n",
              "      border: none;\n",
              "      border-radius: 50%;\n",
              "      cursor: pointer;\n",
              "      display: none;\n",
              "      fill: #1967D2;\n",
              "      height: 32px;\n",
              "      padding: 0 0 0 0;\n",
              "      width: 32px;\n",
              "    }\n",
              "\n",
              "    .colab-df-convert:hover {\n",
              "      background-color: #E2EBFA;\n",
              "      box-shadow: 0px 1px 2px rgba(60, 64, 67, 0.3), 0px 1px 3px 1px rgba(60, 64, 67, 0.15);\n",
              "      fill: #174EA6;\n",
              "    }\n",
              "\n",
              "    .colab-df-buttons div {\n",
              "      margin-bottom: 4px;\n",
              "    }\n",
              "\n",
              "    [theme=dark] .colab-df-convert {\n",
              "      background-color: #3B4455;\n",
              "      fill: #D2E3FC;\n",
              "    }\n",
              "\n",
              "    [theme=dark] .colab-df-convert:hover {\n",
              "      background-color: #434B5C;\n",
              "      box-shadow: 0px 1px 3px 1px rgba(0, 0, 0, 0.15);\n",
              "      filter: drop-shadow(0px 1px 2px rgba(0, 0, 0, 0.3));\n",
              "      fill: #FFFFFF;\n",
              "    }\n",
              "  </style>\n",
              "\n",
              "    <script>\n",
              "      const buttonEl =\n",
              "        document.querySelector('#df-2c0910ab-dc2f-4ded-ae1b-0639306450ac button.colab-df-convert');\n",
              "      buttonEl.style.display =\n",
              "        google.colab.kernel.accessAllowed ? 'block' : 'none';\n",
              "\n",
              "      async function convertToInteractive(key) {\n",
              "        const element = document.querySelector('#df-2c0910ab-dc2f-4ded-ae1b-0639306450ac');\n",
              "        const dataTable =\n",
              "          await google.colab.kernel.invokeFunction('convertToInteractive',\n",
              "                                                    [key], {});\n",
              "        if (!dataTable) return;\n",
              "\n",
              "        const docLinkHtml = 'Like what you see? Visit the ' +\n",
              "          '<a target=\"_blank\" href=https://colab.research.google.com/notebooks/data_table.ipynb>data table notebook</a>'\n",
              "          + ' to learn more about interactive tables.';\n",
              "        element.innerHTML = '';\n",
              "        dataTable['output_type'] = 'display_data';\n",
              "        await google.colab.output.renderOutput(dataTable, element);\n",
              "        const docLink = document.createElement('div');\n",
              "        docLink.innerHTML = docLinkHtml;\n",
              "        element.appendChild(docLink);\n",
              "      }\n",
              "    </script>\n",
              "  </div>\n",
              "\n",
              "\n",
              "<div id=\"df-20b085a3-9a12-4681-89a0-6abf99727165\">\n",
              "  <button class=\"colab-df-quickchart\" onclick=\"quickchart('df-20b085a3-9a12-4681-89a0-6abf99727165')\"\n",
              "            title=\"Suggest charts\"\n",
              "            style=\"display:none;\">\n",
              "\n",
              "<svg xmlns=\"http://www.w3.org/2000/svg\" height=\"24px\"viewBox=\"0 0 24 24\"\n",
              "     width=\"24px\">\n",
              "    <g>\n",
              "        <path d=\"M19 3H5c-1.1 0-2 .9-2 2v14c0 1.1.9 2 2 2h14c1.1 0 2-.9 2-2V5c0-1.1-.9-2-2-2zM9 17H7v-7h2v7zm4 0h-2V7h2v10zm4 0h-2v-4h2v4z\"/>\n",
              "    </g>\n",
              "</svg>\n",
              "  </button>\n",
              "\n",
              "<style>\n",
              "  .colab-df-quickchart {\n",
              "      --bg-color: #E8F0FE;\n",
              "      --fill-color: #1967D2;\n",
              "      --hover-bg-color: #E2EBFA;\n",
              "      --hover-fill-color: #174EA6;\n",
              "      --disabled-fill-color: #AAA;\n",
              "      --disabled-bg-color: #DDD;\n",
              "  }\n",
              "\n",
              "  [theme=dark] .colab-df-quickchart {\n",
              "      --bg-color: #3B4455;\n",
              "      --fill-color: #D2E3FC;\n",
              "      --hover-bg-color: #434B5C;\n",
              "      --hover-fill-color: #FFFFFF;\n",
              "      --disabled-bg-color: #3B4455;\n",
              "      --disabled-fill-color: #666;\n",
              "  }\n",
              "\n",
              "  .colab-df-quickchart {\n",
              "    background-color: var(--bg-color);\n",
              "    border: none;\n",
              "    border-radius: 50%;\n",
              "    cursor: pointer;\n",
              "    display: none;\n",
              "    fill: var(--fill-color);\n",
              "    height: 32px;\n",
              "    padding: 0;\n",
              "    width: 32px;\n",
              "  }\n",
              "\n",
              "  .colab-df-quickchart:hover {\n",
              "    background-color: var(--hover-bg-color);\n",
              "    box-shadow: 0 1px 2px rgba(60, 64, 67, 0.3), 0 1px 3px 1px rgba(60, 64, 67, 0.15);\n",
              "    fill: var(--button-hover-fill-color);\n",
              "  }\n",
              "\n",
              "  .colab-df-quickchart-complete:disabled,\n",
              "  .colab-df-quickchart-complete:disabled:hover {\n",
              "    background-color: var(--disabled-bg-color);\n",
              "    fill: var(--disabled-fill-color);\n",
              "    box-shadow: none;\n",
              "  }\n",
              "\n",
              "  .colab-df-spinner {\n",
              "    border: 2px solid var(--fill-color);\n",
              "    border-color: transparent;\n",
              "    border-bottom-color: var(--fill-color);\n",
              "    animation:\n",
              "      spin 1s steps(1) infinite;\n",
              "  }\n",
              "\n",
              "  @keyframes spin {\n",
              "    0% {\n",
              "      border-color: transparent;\n",
              "      border-bottom-color: var(--fill-color);\n",
              "      border-left-color: var(--fill-color);\n",
              "    }\n",
              "    20% {\n",
              "      border-color: transparent;\n",
              "      border-left-color: var(--fill-color);\n",
              "      border-top-color: var(--fill-color);\n",
              "    }\n",
              "    30% {\n",
              "      border-color: transparent;\n",
              "      border-left-color: var(--fill-color);\n",
              "      border-top-color: var(--fill-color);\n",
              "      border-right-color: var(--fill-color);\n",
              "    }\n",
              "    40% {\n",
              "      border-color: transparent;\n",
              "      border-right-color: var(--fill-color);\n",
              "      border-top-color: var(--fill-color);\n",
              "    }\n",
              "    60% {\n",
              "      border-color: transparent;\n",
              "      border-right-color: var(--fill-color);\n",
              "    }\n",
              "    80% {\n",
              "      border-color: transparent;\n",
              "      border-right-color: var(--fill-color);\n",
              "      border-bottom-color: var(--fill-color);\n",
              "    }\n",
              "    90% {\n",
              "      border-color: transparent;\n",
              "      border-bottom-color: var(--fill-color);\n",
              "    }\n",
              "  }\n",
              "</style>\n",
              "\n",
              "  <script>\n",
              "    async function quickchart(key) {\n",
              "      const quickchartButtonEl =\n",
              "        document.querySelector('#' + key + ' button');\n",
              "      quickchartButtonEl.disabled = true;  // To prevent multiple clicks.\n",
              "      quickchartButtonEl.classList.add('colab-df-spinner');\n",
              "      try {\n",
              "        const charts = await google.colab.kernel.invokeFunction(\n",
              "            'suggestCharts', [key], {});\n",
              "      } catch (error) {\n",
              "        console.error('Error during call to suggestCharts:', error);\n",
              "      }\n",
              "      quickchartButtonEl.classList.remove('colab-df-spinner');\n",
              "      quickchartButtonEl.classList.add('colab-df-quickchart-complete');\n",
              "    }\n",
              "    (() => {\n",
              "      let quickchartButtonEl =\n",
              "        document.querySelector('#df-20b085a3-9a12-4681-89a0-6abf99727165 button');\n",
              "      quickchartButtonEl.style.display =\n",
              "        google.colab.kernel.accessAllowed ? 'block' : 'none';\n",
              "    })();\n",
              "  </script>\n",
              "</div>\n",
              "\n",
              "    </div>\n",
              "  </div>\n"
            ],
            "application/vnd.google.colaboratory.intrinsic+json": {
              "type": "dataframe",
              "summary": "{\n  \"name\": \"acorr_ljungbox(resi_BU1, lags=None, boxpierce=True)\",\n  \"rows\": 7,\n  \"fields\": [\n    {\n      \"column\": \"lb_stat\",\n      \"properties\": {\n        \"dtype\": \"number\",\n        \"std\": 0.0024533600978771,\n        \"min\": 6.235923045734106,\n        \"max\": 6.242878341918625,\n        \"num_unique_values\": 7,\n        \"samples\": [\n          6.235923045734106,\n          6.2363735086175005,\n          6.236894643932668\n        ],\n        \"semantic_type\": \"\",\n        \"description\": \"\"\n      }\n    },\n    {\n      \"column\": \"lb_pvalue\",\n      \"properties\": {\n        \"dtype\": \"number\",\n        \"std\": 0.18715725091415245,\n        \"min\": 0.012518432742775152,\n        \"max\": 0.5116933639311507,\n        \"num_unique_values\": 7,\n        \"samples\": [\n          0.012518432742775152,\n          0.044237308850255334,\n          0.3971831013212722\n        ],\n        \"semantic_type\": \"\",\n        \"description\": \"\"\n      }\n    },\n    {\n      \"column\": \"bp_stat\",\n      \"properties\": {\n        \"dtype\": \"number\",\n        \"std\": 0.0018682982728101339,\n        \"min\": 5.730307663647557,\n        \"max\": 5.735653437869802,\n        \"num_unique_values\": 7,\n        \"samples\": [\n          5.730307663647557,\n          5.730709427840855,\n          5.731125233988536\n        ],\n        \"semantic_type\": \"\",\n        \"description\": \"\"\n      }\n    },\n    {\n      \"column\": \"bp_pvalue\",\n      \"properties\": {\n        \"dtype\": \"number\",\n        \"std\": 0.2079806466267092,\n        \"min\": 0.016674561056823082,\n        \"max\": 0.5709323850788254,\n        \"num_unique_values\": 7,\n        \"samples\": [\n          0.016674561056823082,\n          0.0569629220066329,\n          0.4539734172445561\n        ],\n        \"semantic_type\": \"\",\n        \"description\": \"\"\n      }\n    }\n  ]\n}"
            }
          },
          "metadata": {},
          "execution_count": 31
        }
      ]
    },
    {
      "cell_type": "code",
      "source": [
        "resi_BU1.plot(color = 'red')"
      ],
      "metadata": {
        "colab": {
          "base_uri": "https://localhost:8080/",
          "height": 464
        },
        "id": "b6G2lY4TkupB",
        "outputId": "05b9fd01-a6a4-440e-881c-cb8e97a53926"
      },
      "execution_count": null,
      "outputs": [
        {
          "output_type": "execute_result",
          "data": {
            "text/plain": [
              "<Axes: >"
            ]
          },
          "metadata": {},
          "execution_count": 32
        },
        {
          "output_type": "display_data",
          "data": {
            "text/plain": [
              "<Figure size 640x480 with 1 Axes>"
            ],
            "image/png": "[encoded data removed]"
          },
          "metadata": {}
        }
      ]
    },
    {
      "cell_type": "code",
      "source": [
        "resi_BU2 = pd.Series(model_BU2.resid(),date_range)\n",
        "acorr_ljungbox(resi_BU2, lags=None, boxpierce=True)"
      ],
      "metadata": {
        "colab": {
          "base_uri": "https://localhost:8080/",
          "height": 269
        },
        "id": "-mZs1o-3jv2b",
        "outputId": "0baf0da8-968e-4cc2-88b4-d9036c541bc1"
      },
      "execution_count": null,
      "outputs": [
        {
          "output_type": "execute_result",
          "data": {
            "text/plain": [
              "    lb_stat  lb_pvalue   bp_stat  bp_pvalue\n",
              "1  6.029178   0.014071  5.540325   0.018583\n",
              "2  6.029375   0.049061  5.540502   0.062646\n",
              "3  6.030212   0.110150  5.541225   0.136194\n",
              "4  6.030900   0.196852  5.541802   0.236079\n",
              "5  6.031202   0.303195  5.542047   0.353357\n",
              "6  6.031230   0.419701  5.542069   0.476387\n",
              "7  6.031246   0.536106  5.542081   0.594113"
            ],
            "text/html": [
              "\n",
              "  <div id=\"df-4ab2cfa4-abd8-4f86-bd4b-a73e777390e5\" class=\"colab-df-container\">\n",
              "    <div>\n",
              "<style scoped>\n",
              "    .dataframe tbody tr th:only-of-type {\n",
              "        vertical-align: middle;\n",
              "    }\n",
              "\n",
              "    .dataframe tbody tr th {\n",
              "        vertical-align: top;\n",
              "    }\n",
              "\n",
              "    .dataframe thead th {\n",
              "        text-align: right;\n",
              "    }\n",
              "</style>\n",
              "<table border=\"1\" class=\"dataframe\">\n",
              "  <thead>\n",
              "    <tr style=\"text-align: right;\">\n",
              "      <th></th>\n",
              "      <th>lb_stat</th>\n",
              "      <th>lb_pvalue</th>\n",
              "      <th>bp_stat</th>\n",
              "      <th>bp_pvalue</th>\n",
              "    </tr>\n",
              "  </thead>\n",
              "  <tbody>\n",
              "    <tr>\n",
              "      <th>1</th>\n",
              "      <td>6.029178</td>\n",
              "      <td>0.014071</td>\n",
              "      <td>5.540325</td>\n",
              "      <td>0.018583</td>\n",
              "    </tr>\n",
              "    <tr>\n",
              "      <th>2</th>\n",
              "      <td>6.029375</td>\n",
              "      <td>0.049061</td>\n",
              "      <td>5.540502</td>\n",
              "      <td>0.062646</td>\n",
              "    </tr>\n",
              "    <tr>\n",
              "      <th>3</th>\n",
              "      <td>6.030212</td>\n",
              "      <td>0.110150</td>\n",
              "      <td>5.541225</td>\n",
              "      <td>0.136194</td>\n",
              "    </tr>\n",
              "    <tr>\n",
              "      <th>4</th>\n",
              "      <td>6.030900</td>\n",
              "      <td>0.196852</td>\n",
              "      <td>5.541802</td>\n",
              "      <td>0.236079</td>\n",
              "    </tr>\n",
              "    <tr>\n",
              "      <th>5</th>\n",
              "      <td>6.031202</td>\n",
              "      <td>0.303195</td>\n",
              "      <td>5.542047</td>\n",
              "      <td>0.353357</td>\n",
              "    </tr>\n",
              "    <tr>\n",
              "      <th>6</th>\n",
              "      <td>6.031230</td>\n",
              "      <td>0.419701</td>\n",
              "      <td>5.542069</td>\n",
              "      <td>0.476387</td>\n",
              "    </tr>\n",
              "    <tr>\n",
              "      <th>7</th>\n",
              "      <td>6.031246</td>\n",
              "      <td>0.536106</td>\n",
              "      <td>5.542081</td>\n",
              "      <td>0.594113</td>\n",
              "    </tr>\n",
              "  </tbody>\n",
              "</table>\n",
              "</div>\n",
              "    <div class=\"colab-df-buttons\">\n",
              "\n",
              "  <div class=\"colab-df-container\">\n",
              "    <button class=\"colab-df-convert\" onclick=\"convertToInteractive('df-4ab2cfa4-abd8-4f86-bd4b-a73e777390e5')\"\n",
              "            title=\"Convert this dataframe to an interactive table.\"\n",
              "            style=\"display:none;\">\n",
              "\n",
              "  <svg xmlns=\"http://www.w3.org/2000/svg\" height=\"24px\" viewBox=\"0 -960 960 960\">\n",
              "    <path d=\"M120-120v-720h720v720H120Zm60-500h600v-160H180v160Zm220 220h160v-160H400v160Zm0 220h160v-160H400v160ZM180-400h160v-160H180v160Zm440 0h160v-160H620v160ZM180-180h160v-160H180v160Zm440 0h160v-160H620v160Z\"/>\n",
              "  </svg>\n",
              "    </button>\n",
              "\n",
              "  <style>\n",
              "    .colab-df-container {\n",
              "      display:flex;\n",
              "      gap: 12px;\n",
              "    }\n",
              "\n",
              "    .colab-df-convert {\n",
              "      background-color: #E8F0FE;\n",
              "      border: none;\n",
              "      border-radius: 50%;\n",
              "      cursor: pointer;\n",
              "      display: none;\n",
              "      fill: #1967D2;\n",
              "      height: 32px;\n",
              "      padding: 0 0 0 0;\n",
              "      width: 32px;\n",
              "    }\n",
              "\n",
              "    .colab-df-convert:hover {\n",
              "      background-color: #E2EBFA;\n",
              "      box-shadow: 0px 1px 2px rgba(60, 64, 67, 0.3), 0px 1px 3px 1px rgba(60, 64, 67, 0.15);\n",
              "      fill: #174EA6;\n",
              "    }\n",
              "\n",
              "    .colab-df-buttons div {\n",
              "      margin-bottom: 4px;\n",
              "    }\n",
              "\n",
              "    [theme=dark] .colab-df-convert {\n",
              "      background-color: #3B4455;\n",
              "      fill: #D2E3FC;\n",
              "    }\n",
              "\n",
              "    [theme=dark] .colab-df-convert:hover {\n",
              "      background-color: #434B5C;\n",
              "      box-shadow: 0px 1px 3px 1px rgba(0, 0, 0, 0.15);\n",
              "      filter: drop-shadow(0px 1px 2px rgba(0, 0, 0, 0.3));\n",
              "      fill: #FFFFFF;\n",
              "    }\n",
              "  </style>\n",
              "\n",
              "    <script>\n",
              "      const buttonEl =\n",
              "        document.querySelector('#df-4ab2cfa4-abd8-4f86-bd4b-a73e777390e5 button.colab-df-convert');\n",
              "      buttonEl.style.display =\n",
              "        google.colab.kernel.accessAllowed ? 'block' : 'none';\n",
              "\n",
              "      async function convertToInteractive(key) {\n",
              "        const element = document.querySelector('#df-4ab2cfa4-abd8-4f86-bd4b-a73e777390e5');\n",
              "        const dataTable =\n",
              "          await google.colab.kernel.invokeFunction('convertToInteractive',\n",
              "                                                    [key], {});\n",
              "        if (!dataTable) return;\n",
              "\n",
              "        const docLinkHtml = 'Like what you see? Visit the ' +\n",
              "          '<a target=\"_blank\" href=https://colab.research.google.com/notebooks/data_table.ipynb>data table notebook</a>'\n",
              "          + ' to learn more about interactive tables.';\n",
              "        element.innerHTML = '';\n",
              "        dataTable['output_type'] = 'display_data';\n",
              "        await google.colab.output.renderOutput(dataTable, element);\n",
              "        const docLink = document.createElement('div');\n",
              "        docLink.innerHTML = docLinkHtml;\n",
              "        element.appendChild(docLink);\n",
              "      }\n",
              "    </script>\n",
              "  </div>\n",
              "\n",
              "\n",
              "<div id=\"df-29cb72c8-cc55-40c6-9163-a9d6e5cc43e8\">\n",
              "  <button class=\"colab-df-quickchart\" onclick=\"quickchart('df-29cb72c8-cc55-40c6-9163-a9d6e5cc43e8')\"\n",
              "            title=\"Suggest charts\"\n",
              "            style=\"display:none;\">\n",
              "\n",
              "<svg xmlns=\"http://www.w3.org/2000/svg\" height=\"24px\"viewBox=\"0 0 24 24\"\n",
              "     width=\"24px\">\n",
              "    <g>\n",
              "        <path d=\"M19 3H5c-1.1 0-2 .9-2 2v14c0 1.1.9 2 2 2h14c1.1 0 2-.9 2-2V5c0-1.1-.9-2-2-2zM9 17H7v-7h2v7zm4 0h-2V7h2v10zm4 0h-2v-4h2v4z\"/>\n",
              "    </g>\n",
              "</svg>\n",
              "  </button>\n",
              "\n",
              "<style>\n",
              "  .colab-df-quickchart {\n",
              "      --bg-color: #E8F0FE;\n",
              "      --fill-color: #1967D2;\n",
              "      --hover-bg-color: #E2EBFA;\n",
              "      --hover-fill-color: #174EA6;\n",
              "      --disabled-fill-color: #AAA;\n",
              "      --disabled-bg-color: #DDD;\n",
              "  }\n",
              "\n",
              "  [theme=dark] .colab-df-quickchart {\n",
              "      --bg-color: #3B4455;\n",
              "      --fill-color: #D2E3FC;\n",
              "      --hover-bg-color: #434B5C;\n",
              "      --hover-fill-color: #FFFFFF;\n",
              "      --disabled-bg-color: #3B4455;\n",
              "      --disabled-fill-color: #666;\n",
              "  }\n",
              "\n",
              "  .colab-df-quickchart {\n",
              "    background-color: var(--bg-color);\n",
              "    border: none;\n",
              "    border-radius: 50%;\n",
              "    cursor: pointer;\n",
              "    display: none;\n",
              "    fill: var(--fill-color);\n",
              "    height: 32px;\n",
              "    padding: 0;\n",
              "    width: 32px;\n",
              "  }\n",
              "\n",
              "  .colab-df-quickchart:hover {\n",
              "    background-color: var(--hover-bg-color);\n",
              "    box-shadow: 0 1px 2px rgba(60, 64, 67, 0.3), 0 1px 3px 1px rgba(60, 64, 67, 0.15);\n",
              "    fill: var(--button-hover-fill-color);\n",
              "  }\n",
              "\n",
              "  .colab-df-quickchart-complete:disabled,\n",
              "  .colab-df-quickchart-complete:disabled:hover {\n",
              "    background-color: var(--disabled-bg-color);\n",
              "    fill: var(--disabled-fill-color);\n",
              "    box-shadow: none;\n",
              "  }\n",
              "\n",
              "  .colab-df-spinner {\n",
              "    border: 2px solid var(--fill-color);\n",
              "    border-color: transparent;\n",
              "    border-bottom-color: var(--fill-color);\n",
              "    animation:\n",
              "      spin 1s steps(1) infinite;\n",
              "  }\n",
              "\n",
              "  @keyframes spin {\n",
              "    0% {\n",
              "      border-color: transparent;\n",
              "      border-bottom-color: var(--fill-color);\n",
              "      border-left-color: var(--fill-color);\n",
              "    }\n",
              "    20% {\n",
              "      border-color: transparent;\n",
              "      border-left-color: var(--fill-color);\n",
              "      border-top-color: var(--fill-color);\n",
              "    }\n",
              "    30% {\n",
              "      border-color: transparent;\n",
              "      border-left-color: var(--fill-color);\n",
              "      border-top-color: var(--fill-color);\n",
              "      border-right-color: var(--fill-color);\n",
              "    }\n",
              "    40% {\n",
              "      border-color: transparent;\n",
              "      border-right-color: var(--fill-color);\n",
              "      border-top-color: var(--fill-color);\n",
              "    }\n",
              "    60% {\n",
              "      border-color: transparent;\n",
              "      border-right-color: var(--fill-color);\n",
              "    }\n",
              "    80% {\n",
              "      border-color: transparent;\n",
              "      border-right-color: var(--fill-color);\n",
              "      border-bottom-color: var(--fill-color);\n",
              "    }\n",
              "    90% {\n",
              "      border-color: transparent;\n",
              "      border-bottom-color: var(--fill-color);\n",
              "    }\n",
              "  }\n",
              "</style>\n",
              "\n",
              "  <script>\n",
              "    async function quickchart(key) {\n",
              "      const quickchartButtonEl =\n",
              "        document.querySelector('#' + key + ' button');\n",
              "      quickchartButtonEl.disabled = true;  // To prevent multiple clicks.\n",
              "      quickchartButtonEl.classList.add('colab-df-spinner');\n",
              "      try {\n",
              "        const charts = await google.colab.kernel.invokeFunction(\n",
              "            'suggestCharts', [key], {});\n",
              "      } catch (error) {\n",
              "        console.error('Error during call to suggestCharts:', error);\n",
              "      }\n",
              "      quickchartButtonEl.classList.remove('colab-df-spinner');\n",
              "      quickchartButtonEl.classList.add('colab-df-quickchart-complete');\n",
              "    }\n",
              "    (() => {\n",
              "      let quickchartButtonEl =\n",
              "        document.querySelector('#df-29cb72c8-cc55-40c6-9163-a9d6e5cc43e8 button');\n",
              "      quickchartButtonEl.style.display =\n",
              "        google.colab.kernel.accessAllowed ? 'block' : 'none';\n",
              "    })();\n",
              "  </script>\n",
              "</div>\n",
              "\n",
              "    </div>\n",
              "  </div>\n"
            ],
            "application/vnd.google.colaboratory.intrinsic+json": {
              "type": "dataframe",
              "summary": "{\n  \"name\": \"acorr_ljungbox(resi_BU2, lags=None, boxpierce=True)\",\n  \"rows\": 7,\n  \"fields\": [\n    {\n      \"column\": \"lb_stat\",\n      \"properties\": {\n        \"dtype\": \"number\",\n        \"std\": 0.0008978038130875475,\n        \"min\": 6.02917765213815,\n        \"max\": 6.0312462808226135,\n        \"num_unique_values\": 7,\n        \"samples\": [\n          6.02917765213815,\n          6.029375263682145,\n          6.031230005201322\n        ],\n        \"semantic_type\": \"\",\n        \"description\": \"\"\n      }\n    },\n    {\n      \"column\": \"lb_pvalue\",\n      \"properties\": {\n        \"dtype\": \"number\",\n        \"std\": 0.19571202053562423,\n        \"min\": 0.014071287342346174,\n        \"max\": 0.5361056586447928,\n        \"num_unique_values\": 7,\n        \"samples\": [\n          0.014071287342346174,\n          0.04906115823739594,\n          0.4197007879521644\n        ],\n        \"semantic_type\": \"\",\n        \"description\": \"\"\n      }\n    },\n    {\n      \"column\": \"bp_stat\",\n      \"properties\": {\n        \"dtype\": \"number\",\n        \"std\": 0.0007609134544673411,\n        \"min\": 5.540325410072895,\n        \"max\": 5.542080905519008,\n        \"num_unique_values\": 7,\n        \"samples\": [\n          5.540325410072895,\n          5.540501658206728,\n          5.542068588832625\n        ],\n        \"semantic_type\": \"\",\n        \"description\": \"\"\n      }\n    },\n    {\n      \"column\": \"bp_pvalue\",\n      \"properties\": {\n        \"dtype\": \"number\",\n        \"std\": 0.21595956240310668,\n        \"min\": 0.01858312690214312,\n        \"max\": 0.5941130885706629,\n        \"num_unique_values\": 7,\n        \"samples\": [\n          0.01858312690214312,\n          0.0626462892587214,\n          0.47638679770937\n        ],\n        \"semantic_type\": \"\",\n        \"description\": \"\"\n      }\n    }\n  ]\n}"
            }
          },
          "metadata": {},
          "execution_count": 33
        }
      ]
    },
    {
      "cell_type": "code",
      "source": [
        "resi_BU2.plot(color = 'red')"
      ],
      "metadata": {
        "colab": {
          "base_uri": "https://localhost:8080/",
          "height": 464
        },
        "id": "q5l4ivTplLt-",
        "outputId": "b159515b-779b-4401-807b-adc46cac7db2"
      },
      "execution_count": null,
      "outputs": [
        {
          "output_type": "execute_result",
          "data": {
            "text/plain": [
              "<Axes: >"
            ]
          },
          "metadata": {},
          "execution_count": 34
        },
        {
          "output_type": "display_data",
          "data": {
            "text/plain": [
              "<Figure size 640x480 with 1 Axes>"
            ],
            "image/png": "[encoded data removed]"
          },
          "metadata": {}
        }
      ]
    },
    {
      "cell_type": "code",
      "source": [
        "resi_BU3 = pd.Series(model_BU3.resid(),date_range)\n",
        "acorr_ljungbox(resi_BU3, lags=None, boxpierce=True)"
      ],
      "metadata": {
        "colab": {
          "base_uri": "https://localhost:8080/",
          "height": 269
        },
        "id": "X_26eAHElX06",
        "outputId": "6623c8d8-31fb-4059-9c34-9461a3d001ed"
      },
      "execution_count": null,
      "outputs": [
        {
          "output_type": "execute_result",
          "data": {
            "text/plain": [
              "    lb_stat  lb_pvalue   bp_stat  bp_pvalue\n",
              "1  6.017372   0.014166  5.529477   0.018699\n",
              "2  6.017446   0.049355  5.529543   0.062991\n",
              "3  6.017814   0.110747  5.529861   0.136863\n",
              "4  6.018356   0.197782  5.530315   0.237078\n",
              "5  6.019157   0.304359  5.530965   0.354562\n",
              "6  6.019719   0.420985  5.531406   0.477669\n",
              "7  6.019740   0.537446  5.531421   0.595397"
            ],
            "text/html": [
              "\n",
              "  <div id=\"df-31f70e77-9e89-49ab-9eb0-59ba1178760c\" class=\"colab-df-container\">\n",
              "    <div>\n",
              "<style scoped>\n",
              "    .dataframe tbody tr th:only-of-type {\n",
              "        vertical-align: middle;\n",
              "    }\n",
              "\n",
              "    .dataframe tbody tr th {\n",
              "        vertical-align: top;\n",
              "    }\n",
              "\n",
              "    .dataframe thead th {\n",
              "        text-align: right;\n",
              "    }\n",
              "</style>\n",
              "<table border=\"1\" class=\"dataframe\">\n",
              "  <thead>\n",
              "    <tr style=\"text-align: right;\">\n",
              "      <th></th>\n",
              "      <th>lb_stat</th>\n",
              "      <th>lb_pvalue</th>\n",
              "      <th>bp_stat</th>\n",
              "      <th>bp_pvalue</th>\n",
              "    </tr>\n",
              "  </thead>\n",
              "  <tbody>\n",
              "    <tr>\n",
              "      <th>1</th>\n",
              "      <td>6.017372</td>\n",
              "      <td>0.014166</td>\n",
              "      <td>5.529477</td>\n",
              "      <td>0.018699</td>\n",
              "    </tr>\n",
              "    <tr>\n",
              "      <th>2</th>\n",
              "      <td>6.017446</td>\n",
              "      <td>0.049355</td>\n",
              "      <td>5.529543</td>\n",
              "      <td>0.062991</td>\n",
              "    </tr>\n",
              "    <tr>\n",
              "      <th>3</th>\n",
              "      <td>6.017814</td>\n",
              "      <td>0.110747</td>\n",
              "      <td>5.529861</td>\n",
              "      <td>0.136863</td>\n",
              "    </tr>\n",
              "    <tr>\n",
              "      <th>4</th>\n",
              "      <td>6.018356</td>\n",
              "      <td>0.197782</td>\n",
              "      <td>5.530315</td>\n",
              "      <td>0.237078</td>\n",
              "    </tr>\n",
              "    <tr>\n",
              "      <th>5</th>\n",
              "      <td>6.019157</td>\n",
              "      <td>0.304359</td>\n",
              "      <td>5.530965</td>\n",
              "      <td>0.354562</td>\n",
              "    </tr>\n",
              "    <tr>\n",
              "      <th>6</th>\n",
              "      <td>6.019719</td>\n",
              "      <td>0.420985</td>\n",
              "      <td>5.531406</td>\n",
              "      <td>0.477669</td>\n",
              "    </tr>\n",
              "    <tr>\n",
              "      <th>7</th>\n",
              "      <td>6.019740</td>\n",
              "      <td>0.537446</td>\n",
              "      <td>5.531421</td>\n",
              "      <td>0.595397</td>\n",
              "    </tr>\n",
              "  </tbody>\n",
              "</table>\n",
              "</div>\n",
              "    <div class=\"colab-df-buttons\">\n",
              "\n",
              "  <div class=\"colab-df-container\">\n",
              "    <button class=\"colab-df-convert\" onclick=\"convertToInteractive('df-31f70e77-9e89-49ab-9eb0-59ba1178760c')\"\n",
              "            title=\"Convert this dataframe to an interactive table.\"\n",
              "            style=\"display:none;\">\n",
              "\n",
              "  <svg xmlns=\"http://www.w3.org/2000/svg\" height=\"24px\" viewBox=\"0 -960 960 960\">\n",
              "    <path d=\"M120-120v-720h720v720H120Zm60-500h600v-160H180v160Zm220 220h160v-160H400v160Zm0 220h160v-160H400v160ZM180-400h160v-160H180v160Zm440 0h160v-160H620v160ZM180-180h160v-160H180v160Zm440 0h160v-160H620v160Z\"/>\n",
              "  </svg>\n",
              "    </button>\n",
              "\n",
              "  <style>\n",
              "    .colab-df-container {\n",
              "      display:flex;\n",
              "      gap: 12px;\n",
              "    }\n",
              "\n",
              "    .colab-df-convert {\n",
              "      background-color: #E8F0FE;\n",
              "      border: none;\n",
              "      border-radius: 50%;\n",
              "      cursor: pointer;\n",
              "      display: none;\n",
              "      fill: #1967D2;\n",
              "      height: 32px;\n",
              "      padding: 0 0 0 0;\n",
              "      width: 32px;\n",
              "    }\n",
              "\n",
              "    .colab-df-convert:hover {\n",
              "      background-color: #E2EBFA;\n",
              "      box-shadow: 0px 1px 2px rgba(60, 64, 67, 0.3), 0px 1px 3px 1px rgba(60, 64, 67, 0.15);\n",
              "      fill: #174EA6;\n",
              "    }\n",
              "\n",
              "    .colab-df-buttons div {\n",
              "      margin-bottom: 4px;\n",
              "    }\n",
              "\n",
              "    [theme=dark] .colab-df-convert {\n",
              "      background-color: #3B4455;\n",
              "      fill: #D2E3FC;\n",
              "    }\n",
              "\n",
              "    [theme=dark] .colab-df-convert:hover {\n",
              "      background-color: #434B5C;\n",
              "      box-shadow: 0px 1px 3px 1px rgba(0, 0, 0, 0.15);\n",
              "      filter: drop-shadow(0px 1px 2px rgba(0, 0, 0, 0.3));\n",
              "      fill: #FFFFFF;\n",
              "    }\n",
              "  </style>\n",
              "\n",
              "    <script>\n",
              "      const buttonEl =\n",
              "        document.querySelector('#df-31f70e77-9e89-49ab-9eb0-59ba1178760c button.colab-df-convert');\n",
              "      buttonEl.style.display =\n",
              "        google.colab.kernel.accessAllowed ? 'block' : 'none';\n",
              "\n",
              "      async function convertToInteractive(key) {\n",
              "        const element = document.querySelector('#df-31f70e77-9e89-49ab-9eb0-59ba1178760c');\n",
              "        const dataTable =\n",
              "          await google.colab.kernel.invokeFunction('convertToInteractive',\n",
              "                                                    [key], {});\n",
              "        if (!dataTable) return;\n",
              "\n",
              "        const docLinkHtml = 'Like what you see? Visit the ' +\n",
              "          '<a target=\"_blank\" href=https://colab.research.google.com/notebooks/data_table.ipynb>data table notebook</a>'\n",
              "          + ' to learn more about interactive tables.';\n",
              "        element.innerHTML = '';\n",
              "        dataTable['output_type'] = 'display_data';\n",
              "        await google.colab.output.renderOutput(dataTable, element);\n",
              "        const docLink = document.createElement('div');\n",
              "        docLink.innerHTML = docLinkHtml;\n",
              "        element.appendChild(docLink);\n",
              "      }\n",
              "    </script>\n",
              "  </div>\n",
              "\n",
              "\n",
              "<div id=\"df-a0686dff-17c2-46d9-96c6-61bab28fb6de\">\n",
              "  <button class=\"colab-df-quickchart\" onclick=\"quickchart('df-a0686dff-17c2-46d9-96c6-61bab28fb6de')\"\n",
              "            title=\"Suggest charts\"\n",
              "            style=\"display:none;\">\n",
              "\n",
              "<svg xmlns=\"http://www.w3.org/2000/svg\" height=\"24px\"viewBox=\"0 0 24 24\"\n",
              "     width=\"24px\">\n",
              "    <g>\n",
              "        <path d=\"M19 3H5c-1.1 0-2 .9-2 2v14c0 1.1.9 2 2 2h14c1.1 0 2-.9 2-2V5c0-1.1-.9-2-2-2zM9 17H7v-7h2v7zm4 0h-2V7h2v10zm4 0h-2v-4h2v4z\"/>\n",
              "    </g>\n",
              "</svg>\n",
              "  </button>\n",
              "\n",
              "<style>\n",
              "  .colab-df-quickchart {\n",
              "      --bg-color: #E8F0FE;\n",
              "      --fill-color: #1967D2;\n",
              "      --hover-bg-color: #E2EBFA;\n",
              "      --hover-fill-color: #174EA6;\n",
              "      --disabled-fill-color: #AAA;\n",
              "      --disabled-bg-color: #DDD;\n",
              "  }\n",
              "\n",
              "  [theme=dark] .colab-df-quickchart {\n",
              "      --bg-color: #3B4455;\n",
              "      --fill-color: #D2E3FC;\n",
              "      --hover-bg-color: #434B5C;\n",
              "      --hover-fill-color: #FFFFFF;\n",
              "      --disabled-bg-color: #3B4455;\n",
              "      --disabled-fill-color: #666;\n",
              "  }\n",
              "\n",
              "  .colab-df-quickchart {\n",
              "    background-color: var(--bg-color);\n",
              "    border: none;\n",
              "    border-radius: 50%;\n",
              "    cursor: pointer;\n",
              "    display: none;\n",
              "    fill: var(--fill-color);\n",
              "    height: 32px;\n",
              "    padding: 0;\n",
              "    width: 32px;\n",
              "  }\n",
              "\n",
              "  .colab-df-quickchart:hover {\n",
              "    background-color: var(--hover-bg-color);\n",
              "    box-shadow: 0 1px 2px rgba(60, 64, 67, 0.3), 0 1px 3px 1px rgba(60, 64, 67, 0.15);\n",
              "    fill: var(--button-hover-fill-color);\n",
              "  }\n",
              "\n",
              "  .colab-df-quickchart-complete:disabled,\n",
              "  .colab-df-quickchart-complete:disabled:hover {\n",
              "    background-color: var(--disabled-bg-color);\n",
              "    fill: var(--disabled-fill-color);\n",
              "    box-shadow: none;\n",
              "  }\n",
              "\n",
              "  .colab-df-spinner {\n",
              "    border: 2px solid var(--fill-color);\n",
              "    border-color: transparent;\n",
              "    border-bottom-color: var(--fill-color);\n",
              "    animation:\n",
              "      spin 1s steps(1) infinite;\n",
              "  }\n",
              "\n",
              "  @keyframes spin {\n",
              "    0% {\n",
              "      border-color: transparent;\n",
              "      border-bottom-color: var(--fill-color);\n",
              "      border-left-color: var(--fill-color);\n",
              "    }\n",
              "    20% {\n",
              "      border-color: transparent;\n",
              "      border-left-color: var(--fill-color);\n",
              "      border-top-color: var(--fill-color);\n",
              "    }\n",
              "    30% {\n",
              "      border-color: transparent;\n",
              "      border-left-color: var(--fill-color);\n",
              "      border-top-color: var(--fill-color);\n",
              "      border-right-color: var(--fill-color);\n",
              "    }\n",
              "    40% {\n",
              "      border-color: transparent;\n",
              "      border-right-color: var(--fill-color);\n",
              "      border-top-color: var(--fill-color);\n",
              "    }\n",
              "    60% {\n",
              "      border-color: transparent;\n",
              "      border-right-color: var(--fill-color);\n",
              "    }\n",
              "    80% {\n",
              "      border-color: transparent;\n",
              "      border-right-color: var(--fill-color);\n",
              "      border-bottom-color: var(--fill-color);\n",
              "    }\n",
              "    90% {\n",
              "      border-color: transparent;\n",
              "      border-bottom-color: var(--fill-color);\n",
              "    }\n",
              "  }\n",
              "</style>\n",
              "\n",
              "  <script>\n",
              "    async function quickchart(key) {\n",
              "      const quickchartButtonEl =\n",
              "        document.querySelector('#' + key + ' button');\n",
              "      quickchartButtonEl.disabled = true;  // To prevent multiple clicks.\n",
              "      quickchartButtonEl.classList.add('colab-df-spinner');\n",
              "      try {\n",
              "        const charts = await google.colab.kernel.invokeFunction(\n",
              "            'suggestCharts', [key], {});\n",
              "      } catch (error) {\n",
              "        console.error('Error during call to suggestCharts:', error);\n",
              "      }\n",
              "      quickchartButtonEl.classList.remove('colab-df-spinner');\n",
              "      quickchartButtonEl.classList.add('colab-df-quickchart-complete');\n",
              "    }\n",
              "    (() => {\n",
              "      let quickchartButtonEl =\n",
              "        document.querySelector('#df-a0686dff-17c2-46d9-96c6-61bab28fb6de button');\n",
              "      quickchartButtonEl.style.display =\n",
              "        google.colab.kernel.accessAllowed ? 'block' : 'none';\n",
              "    })();\n",
              "  </script>\n",
              "</div>\n",
              "\n",
              "    </div>\n",
              "  </div>\n"
            ],
            "application/vnd.google.colaboratory.intrinsic+json": {
              "type": "dataframe",
              "summary": "{\n  \"name\": \"acorr_ljungbox(resi_BU3, lags=None, boxpierce=True)\",\n  \"rows\": 7,\n  \"fields\": [\n    {\n      \"column\": \"lb_stat\",\n      \"properties\": {\n        \"dtype\": \"number\",\n        \"std\": 0.0010270903449211097,\n        \"min\": 6.01737211083864,\n        \"max\": 6.019739710505492,\n        \"num_unique_values\": 7,\n        \"samples\": [\n          6.01737211083864,\n          6.0174455835704554,\n          6.019719430474257\n        ],\n        \"semantic_type\": \"\",\n        \"description\": \"\"\n      }\n    },\n    {\n      \"column\": \"lb_pvalue\",\n      \"properties\": {\n        \"dtype\": \"number\",\n        \"std\": 0.19617853916595193,\n        \"min\": 0.01416572451993272,\n        \"max\": 0.5374463439227108,\n        \"num_unique_values\": 7,\n        \"samples\": [\n          0.01416572451993272,\n          0.04935467471840886,\n          0.4209847266490234\n        ],\n        \"semantic_type\": \"\",\n        \"description\": \"\"\n      }\n    },\n    {\n      \"column\": \"bp_stat\",\n      \"properties\": {\n        \"dtype\": \"number\",\n        \"std\": 0.0008418352743432412,\n        \"min\": 5.5294770748246975,\n        \"max\": 5.531420972144361,\n        \"num_unique_values\": 7,\n        \"samples\": [\n          5.5294770748246975,\n          5.529542604558478,\n          5.531405625093697\n        ],\n        \"semantic_type\": \"\",\n        \"description\": \"\"\n      }\n    },\n    {\n      \"column\": \"bp_pvalue\",\n      \"properties\": {\n        \"dtype\": \"number\",\n        \"std\": 0.21639787447522849,\n        \"min\": 0.018698693005135287,\n        \"max\": 0.5953966611001987,\n        \"num_unique_values\": 7,\n        \"samples\": [\n          0.018698693005135287,\n          0.0629905034854323,\n          0.4776690647355959\n        ],\n        \"semantic_type\": \"\",\n        \"description\": \"\"\n      }\n    }\n  ]\n}"
            }
          },
          "metadata": {},
          "execution_count": 35
        }
      ]
    },
    {
      "cell_type": "code",
      "source": [
        "resi_BU3.plot(color = 'red')"
      ],
      "metadata": {
        "colab": {
          "base_uri": "https://localhost:8080/",
          "height": 464
        },
        "id": "O2Y2v2hIleDe",
        "outputId": "afad5bad-867f-4758-8855-38ca61713e8f"
      },
      "execution_count": null,
      "outputs": [
        {
          "output_type": "execute_result",
          "data": {
            "text/plain": [
              "<Axes: >"
            ]
          },
          "metadata": {},
          "execution_count": 36
        },
        {
          "output_type": "display_data",
          "data": {
            "text/plain": [
              "<Figure size 640x480 with 1 Axes>"
            ],
            "image/png": "[encoded data removed]"
          },
          "metadata": {}
        }
      ]
    },
    {
      "cell_type": "markdown",
      "source": [
        "Comment: Since the p values > 0.05, the errors are assumed to be white noise.\n",
        "\n",
        "Note: some p values are less than 0.05. We can consider to differentiate (differensing 3 times) one more time to have more accurate models."
      ],
      "metadata": {
        "id": "ooiHed8Il6-1"
      }
    },
    {
      "cell_type": "markdown",
      "source": [
        "# Question 5. Predict sales for each BU for January 2018, February 2018, March 2018\n",
        "\n",
        "---"
      ],
      "metadata": {
        "id": "gCEIWEE-lkNs"
      }
    },
    {
      "cell_type": "code",
      "source": [
        "model_BU1.predict(3)"
      ],
      "metadata": {
        "colab": {
          "base_uri": "https://localhost:8080/"
        },
        "id": "aLc3x5VpsY68",
        "outputId": "9df6609b-4d0b-4837-949a-a715cec73451"
      },
      "execution_count": null,
      "outputs": [
        {
          "output_type": "execute_result",
          "data": {
            "text/plain": [
              "2018-01-31    137.4\n",
              "2018-02-28    135.8\n",
              "2018-03-31    134.2\n",
              "Freq: M, dtype: float64"
            ]
          },
          "metadata": {},
          "execution_count": 37
        }
      ]
    },
    {
      "cell_type": "code",
      "source": [
        "model_BU2.predict(3)"
      ],
      "metadata": {
        "colab": {
          "base_uri": "https://localhost:8080/"
        },
        "id": "vI5x2cfCsg_8",
        "outputId": "a1658446-7189-4966-fc53-5ac220d8ed52"
      },
      "execution_count": null,
      "outputs": [
        {
          "output_type": "execute_result",
          "data": {
            "text/plain": [
              "2018-01-31    132.2\n",
              "2018-02-28    133.4\n",
              "2018-03-31    134.6\n",
              "Freq: M, dtype: float64"
            ]
          },
          "metadata": {},
          "execution_count": 38
        }
      ]
    },
    {
      "cell_type": "code",
      "source": [
        "model_BU3.predict(3)"
      ],
      "metadata": {
        "colab": {
          "base_uri": "https://localhost:8080/"
        },
        "id": "HBatk8dtsp8h",
        "outputId": "e8224f0b-d2c3-4dc7-e304-43d9fa6d7db7"
      },
      "execution_count": null,
      "outputs": [
        {
          "output_type": "execute_result",
          "data": {
            "text/plain": [
              "2018-01-31    128.2\n",
              "2018-02-28    128.9\n",
              "2018-03-31    129.6\n",
              "Freq: M, dtype: float64"
            ]
          },
          "metadata": {},
          "execution_count": 39
        }
      ]
    }
  ]
}