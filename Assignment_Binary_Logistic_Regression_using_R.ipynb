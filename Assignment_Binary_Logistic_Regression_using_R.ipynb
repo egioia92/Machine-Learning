{
  "nbformat": 4,
  "nbformat_minor": 0,
  "metadata": {
    "colab": {
      "provenance": [],
      "authorship_tag": "ABX9TyMdLKmf+fWINw250yY/y8lk",
      "include_colab_link": true
    },
    "kernelspec": {
      "name": "ir",
      "display_name": "R"
    },
    "language_info": {
      "name": "R"
    }
  },
  "cells": [
    {
      "cell_type": "markdown",
      "metadata": {
        "id": "view-in-github",
        "colab_type": "text"
      },
      "source": [
        "<a href=\"https://colab.research.google.com/github/egioia92/Machine-Learning/blob/main/Assignment_Binary_Logistic_Regression_using_R.ipynb\" target=\"_parent\"><img src=\"https://colab.research.google.com/assets/colab-badge.svg\" alt=\"Open In Colab\"/></a>"
      ]
    },
    {
      "cell_type": "markdown",
      "source": [
        "# Assignment_Binary Logistic Regression using R\n",
        "\n",
        "The Data for a Study of Risk Factors Associated with Low Infant Birth Weight. Data were collected at Baystate Medical Center, Springfield, Massachusetts.\n",
        "\n",
        "Description of variables -\n",
        "\n",
        "LOW – Low Birth Weight (0 means Not low and 1 means low)\n",
        "\n",
        "AGE- Age of the Mother in Years\n",
        "\n",
        "LWT- Weight in Pounds at the Last Menstrual Period\n",
        "\n",
        "RACE- Race (1 = White, 2 = Black, 3 = Other)\n",
        "\n",
        "SMOKE- Smoking Status During Pregnancy (1 = Yes, 0 = No)\n",
        "\n",
        "PTL- History of Premature Labor (0 = None, 1 = One, etc.)\n",
        "\n",
        "HT- History of Hypertension (1 = Yes, 0 = No)\n",
        "\n",
        "UI- Presence of Uterine Irritability (1 = Yes, 0 = No)\n",
        "\n",
        "FTV- Number of Physician Visits During the First Trimester (0 = None, 1 = One, 2 = Two, etc.)\n",
        "\n",
        "\n",
        "\n",
        "Consider LOW as dependent variable and remaining variables listed above as independent variables."
      ],
      "metadata": {
        "id": "lV7eGjTKDJMn"
      }
    },
    {
      "cell_type": "markdown",
      "source": [
        "Consideration on the data:\n",
        "\n",
        "1. LOW is the dependend variable\n",
        "2. There are some independent variables that are categorical\n",
        "  *   RACE\n",
        "  *   SMOKE\n",
        "  *   PTL\n",
        "  *   HT\n",
        "  *   UI\n",
        "  *   FTV\n",
        "\n",
        "\n",
        "\n"
      ],
      "metadata": {
        "id": "NVjSlgqXDaaU"
      }
    },
    {
      "cell_type": "markdown",
      "source": [
        "# Question 1: Import BIRTH WEIGHT data"
      ],
      "metadata": {
        "id": "AqQ4IcSfEV1q"
      }
    },
    {
      "cell_type": "code",
      "source": [
        "install.packages(\"ROCR\");\n",
        "install.packages(\"car\");\n",
        "install.packages(\"caret\");\n",
        "library(ggplot2)\n",
        "library(dplyr)\n",
        "library(ROCR)\n",
        "library(car)\n",
        "library(caret)"
      ],
      "metadata": {
        "colab": {
          "base_uri": "https://localhost:8080/"
        },
        "id": "LFaDYnV4PLHe",
        "outputId": "36c70c48-05e6-4286-94e9-b6dfbf782af0"
      },
      "execution_count": null,
      "outputs": [
        {
          "output_type": "stream",
          "name": "stderr",
          "text": [
            "Installing package into ‘/usr/local/lib/R/site-library’\n",
            "(as ‘lib’ is unspecified)\n",
            "\n",
            "Installing package into ‘/usr/local/lib/R/site-library’\n",
            "(as ‘lib’ is unspecified)\n",
            "\n",
            "Installing package into ‘/usr/local/lib/R/site-library’\n",
            "(as ‘lib’ is unspecified)\n",
            "\n",
            "also installing the dependencies ‘prodlim’, ‘ipred’, ‘foreach’, ‘recipes’\n",
            "\n",
            "\n",
            "Loading required package: lattice\n",
            "\n"
          ]
        }
      ]
    },
    {
      "cell_type": "code",
      "execution_count": null,
      "metadata": {
        "id": "Hbd378vMC13E"
      },
      "outputs": [],
      "source": [
        "#Read data\n",
        "data <- read.csv('/content/BIRTH WEIGHT_csv.csv')"
      ]
    },
    {
      "cell_type": "code",
      "source": [
        "# Show the data\n",
        "head(data)"
      ],
      "metadata": {
        "colab": {
          "base_uri": "https://localhost:8080/",
          "height": 286
        },
        "id": "EY_5PqxOEy_F",
        "outputId": "56eda443-75a7-436f-9199-892af178e957"
      },
      "execution_count": null,
      "outputs": [
        {
          "output_type": "display_data",
          "data": {
            "text/html": [
              "<table class=\"dataframe\">\n",
              "<caption>A data.frame: 6 × 11</caption>\n",
              "<thead>\n",
              "\t<tr><th></th><th scope=col>SR.NO</th><th scope=col>ID</th><th scope=col>LOW</th><th scope=col>AGE</th><th scope=col>LWT</th><th scope=col>RACE</th><th scope=col>SMOKE</th><th scope=col>PTL</th><th scope=col>HT</th><th scope=col>UI</th><th scope=col>FTV</th></tr>\n",
              "\t<tr><th></th><th scope=col>&lt;int&gt;</th><th scope=col>&lt;int&gt;</th><th scope=col>&lt;int&gt;</th><th scope=col>&lt;int&gt;</th><th scope=col>&lt;int&gt;</th><th scope=col>&lt;int&gt;</th><th scope=col>&lt;int&gt;</th><th scope=col>&lt;int&gt;</th><th scope=col>&lt;int&gt;</th><th scope=col>&lt;int&gt;</th><th scope=col>&lt;int&gt;</th></tr>\n",
              "</thead>\n",
              "<tbody>\n",
              "\t<tr><th scope=row>1</th><td>1</td><td>85</td><td>0</td><td>19</td><td>182</td><td>2</td><td>0</td><td>0</td><td>0</td><td>0</td><td>0</td></tr>\n",
              "\t<tr><th scope=row>2</th><td>2</td><td>86</td><td>0</td><td>33</td><td>155</td><td>3</td><td>0</td><td>0</td><td>0</td><td>0</td><td>3</td></tr>\n",
              "\t<tr><th scope=row>3</th><td>3</td><td>87</td><td>0</td><td>20</td><td>105</td><td>1</td><td>1</td><td>0</td><td>0</td><td>0</td><td>1</td></tr>\n",
              "\t<tr><th scope=row>4</th><td>4</td><td>88</td><td>0</td><td>21</td><td>108</td><td>1</td><td>1</td><td>0</td><td>0</td><td>1</td><td>2</td></tr>\n",
              "\t<tr><th scope=row>5</th><td>5</td><td>89</td><td>0</td><td>18</td><td>107</td><td>1</td><td>1</td><td>0</td><td>0</td><td>1</td><td>0</td></tr>\n",
              "\t<tr><th scope=row>6</th><td>6</td><td>91</td><td>0</td><td>21</td><td>124</td><td>3</td><td>0</td><td>0</td><td>0</td><td>0</td><td>0</td></tr>\n",
              "</tbody>\n",
              "</table>\n"
            ],
            "text/markdown": "\nA data.frame: 6 × 11\n\n| <!--/--> | SR.NO &lt;int&gt; | ID &lt;int&gt; | LOW &lt;int&gt; | AGE &lt;int&gt; | LWT &lt;int&gt; | RACE &lt;int&gt; | SMOKE &lt;int&gt; | PTL &lt;int&gt; | HT &lt;int&gt; | UI &lt;int&gt; | FTV &lt;int&gt; |\n|---|---|---|---|---|---|---|---|---|---|---|---|\n| 1 | 1 | 85 | 0 | 19 | 182 | 2 | 0 | 0 | 0 | 0 | 0 |\n| 2 | 2 | 86 | 0 | 33 | 155 | 3 | 0 | 0 | 0 | 0 | 3 |\n| 3 | 3 | 87 | 0 | 20 | 105 | 1 | 1 | 0 | 0 | 0 | 1 |\n| 4 | 4 | 88 | 0 | 21 | 108 | 1 | 1 | 0 | 0 | 1 | 2 |\n| 5 | 5 | 89 | 0 | 18 | 107 | 1 | 1 | 0 | 0 | 1 | 0 |\n| 6 | 6 | 91 | 0 | 21 | 124 | 3 | 0 | 0 | 0 | 0 | 0 |\n\n",
            "text/latex": "A data.frame: 6 × 11\n\\begin{tabular}{r|lllllllllll}\n  & SR.NO & ID & LOW & AGE & LWT & RACE & SMOKE & PTL & HT & UI & FTV\\\\\n  & <int> & <int> & <int> & <int> & <int> & <int> & <int> & <int> & <int> & <int> & <int>\\\\\n\\hline\n\t1 & 1 & 85 & 0 & 19 & 182 & 2 & 0 & 0 & 0 & 0 & 0\\\\\n\t2 & 2 & 86 & 0 & 33 & 155 & 3 & 0 & 0 & 0 & 0 & 3\\\\\n\t3 & 3 & 87 & 0 & 20 & 105 & 1 & 1 & 0 & 0 & 0 & 1\\\\\n\t4 & 4 & 88 & 0 & 21 & 108 & 1 & 1 & 0 & 0 & 1 & 2\\\\\n\t5 & 5 & 89 & 0 & 18 & 107 & 1 & 1 & 0 & 0 & 1 & 0\\\\\n\t6 & 6 & 91 & 0 & 21 & 124 & 3 & 0 & 0 & 0 & 0 & 0\\\\\n\\end{tabular}\n",
            "text/plain": [
              "  SR.NO ID LOW AGE LWT RACE SMOKE PTL HT UI FTV\n",
              "1 1     85 0   19  182 2    0     0   0  0  0  \n",
              "2 2     86 0   33  155 3    0     0   0  0  3  \n",
              "3 3     87 0   20  105 1    1     0   0  0  1  \n",
              "4 4     88 0   21  108 1    1     0   0  1  2  \n",
              "5 5     89 0   18  107 1    1     0   0  1  0  \n",
              "6 6     91 0   21  124 3    0     0   0  0  0  "
            ]
          },
          "metadata": {}
        }
      ]
    },
    {
      "cell_type": "code",
      "source": [
        "# Remove SR.NO and ID columns from the data\n",
        "data <- data[,-c(1,2)]\n",
        "\n",
        "# Alternatively\n",
        "# data <- data %>% select(-SR.NO, -ID)\n",
        "\n",
        "# Alternatively\n",
        "# data$SR_NO <- NULL\n",
        "# data$ID <- NULL\n",
        "\n",
        "head(data)"
      ],
      "metadata": {
        "colab": {
          "base_uri": "https://localhost:8080/",
          "height": 286
        },
        "id": "c27-4XG7FHfs",
        "outputId": "96b1410d-6903-4666-f34e-bc86e7ae4730"
      },
      "execution_count": null,
      "outputs": [
        {
          "output_type": "display_data",
          "data": {
            "text/html": [
              "<table class=\"dataframe\">\n",
              "<caption>A data.frame: 6 × 9</caption>\n",
              "<thead>\n",
              "\t<tr><th></th><th scope=col>LOW</th><th scope=col>AGE</th><th scope=col>LWT</th><th scope=col>RACE</th><th scope=col>SMOKE</th><th scope=col>PTL</th><th scope=col>HT</th><th scope=col>UI</th><th scope=col>FTV</th></tr>\n",
              "\t<tr><th></th><th scope=col>&lt;int&gt;</th><th scope=col>&lt;int&gt;</th><th scope=col>&lt;int&gt;</th><th scope=col>&lt;int&gt;</th><th scope=col>&lt;int&gt;</th><th scope=col>&lt;int&gt;</th><th scope=col>&lt;int&gt;</th><th scope=col>&lt;int&gt;</th><th scope=col>&lt;int&gt;</th></tr>\n",
              "</thead>\n",
              "<tbody>\n",
              "\t<tr><th scope=row>1</th><td>0</td><td>19</td><td>182</td><td>2</td><td>0</td><td>0</td><td>0</td><td>0</td><td>0</td></tr>\n",
              "\t<tr><th scope=row>2</th><td>0</td><td>33</td><td>155</td><td>3</td><td>0</td><td>0</td><td>0</td><td>0</td><td>3</td></tr>\n",
              "\t<tr><th scope=row>3</th><td>0</td><td>20</td><td>105</td><td>1</td><td>1</td><td>0</td><td>0</td><td>0</td><td>1</td></tr>\n",
              "\t<tr><th scope=row>4</th><td>0</td><td>21</td><td>108</td><td>1</td><td>1</td><td>0</td><td>0</td><td>1</td><td>2</td></tr>\n",
              "\t<tr><th scope=row>5</th><td>0</td><td>18</td><td>107</td><td>1</td><td>1</td><td>0</td><td>0</td><td>1</td><td>0</td></tr>\n",
              "\t<tr><th scope=row>6</th><td>0</td><td>21</td><td>124</td><td>3</td><td>0</td><td>0</td><td>0</td><td>0</td><td>0</td></tr>\n",
              "</tbody>\n",
              "</table>\n"
            ],
            "text/markdown": "\nA data.frame: 6 × 9\n\n| <!--/--> | LOW &lt;int&gt; | AGE &lt;int&gt; | LWT &lt;int&gt; | RACE &lt;int&gt; | SMOKE &lt;int&gt; | PTL &lt;int&gt; | HT &lt;int&gt; | UI &lt;int&gt; | FTV &lt;int&gt; |\n|---|---|---|---|---|---|---|---|---|---|\n| 1 | 0 | 19 | 182 | 2 | 0 | 0 | 0 | 0 | 0 |\n| 2 | 0 | 33 | 155 | 3 | 0 | 0 | 0 | 0 | 3 |\n| 3 | 0 | 20 | 105 | 1 | 1 | 0 | 0 | 0 | 1 |\n| 4 | 0 | 21 | 108 | 1 | 1 | 0 | 0 | 1 | 2 |\n| 5 | 0 | 18 | 107 | 1 | 1 | 0 | 0 | 1 | 0 |\n| 6 | 0 | 21 | 124 | 3 | 0 | 0 | 0 | 0 | 0 |\n\n",
            "text/latex": "A data.frame: 6 × 9\n\\begin{tabular}{r|lllllllll}\n  & LOW & AGE & LWT & RACE & SMOKE & PTL & HT & UI & FTV\\\\\n  & <int> & <int> & <int> & <int> & <int> & <int> & <int> & <int> & <int>\\\\\n\\hline\n\t1 & 0 & 19 & 182 & 2 & 0 & 0 & 0 & 0 & 0\\\\\n\t2 & 0 & 33 & 155 & 3 & 0 & 0 & 0 & 0 & 3\\\\\n\t3 & 0 & 20 & 105 & 1 & 1 & 0 & 0 & 0 & 1\\\\\n\t4 & 0 & 21 & 108 & 1 & 1 & 0 & 0 & 1 & 2\\\\\n\t5 & 0 & 18 & 107 & 1 & 1 & 0 & 0 & 1 & 0\\\\\n\t6 & 0 & 21 & 124 & 3 & 0 & 0 & 0 & 0 & 0\\\\\n\\end{tabular}\n",
            "text/plain": [
              "  LOW AGE LWT RACE SMOKE PTL HT UI FTV\n",
              "1 0   19  182 2    0     0   0  0  0  \n",
              "2 0   33  155 3    0     0   0  0  3  \n",
              "3 0   20  105 1    1     0   0  0  1  \n",
              "4 0   21  108 1    1     0   0  1  2  \n",
              "5 0   18  107 1    1     0   0  1  0  \n",
              "6 0   21  124 3    0     0   0  0  0  "
            ]
          },
          "metadata": {}
        }
      ]
    },
    {
      "cell_type": "code",
      "source": [
        "# Structure of the data\n",
        "str(data)"
      ],
      "metadata": {
        "colab": {
          "base_uri": "https://localhost:8080/"
        },
        "id": "Fr8dCtTZHJnZ",
        "outputId": "bea3191e-a5cc-4230-82a5-9b0290cec85e"
      },
      "execution_count": null,
      "outputs": [
        {
          "output_type": "stream",
          "name": "stdout",
          "text": [
            "'data.frame':\t189 obs. of  9 variables:\n",
            " $ LOW  : int  0 0 0 0 0 0 0 0 0 0 ...\n",
            " $ AGE  : int  19 33 20 21 18 21 22 17 29 26 ...\n",
            " $ LWT  : int  182 155 105 108 107 124 118 103 123 113 ...\n",
            " $ RACE : int  2 3 1 1 1 3 1 3 1 1 ...\n",
            " $ SMOKE: int  0 0 1 1 1 0 0 0 1 1 ...\n",
            " $ PTL  : int  0 0 0 0 0 0 0 0 0 0 ...\n",
            " $ HT   : int  0 0 0 0 0 0 0 0 0 0 ...\n",
            " $ UI   : int  0 0 0 1 1 0 0 0 0 0 ...\n",
            " $ FTV  : int  0 3 1 2 0 0 1 1 1 0 ...\n"
          ]
        }
      ]
    },
    {
      "cell_type": "code",
      "source": [
        "# Convert categorical variables as factor\n",
        "data$LOW <- as.factor(data$LOW)\n",
        "data$RACE <- as.factor(data$RACE)\n",
        "data$SMOKE <- as.factor(data$SMOKE)\n",
        "data$PTL <- as.factor(data$PTL)\n",
        "data$HT <- as.factor(data$HT)\n",
        "data$UI <- as.factor(data$UI)\n",
        "data$FTV <- as.factor(data$FTV)\n",
        "\n",
        "# Alternatively\n",
        "#data <- data %>% mutate(across(c(LOW, RACE, SMOKE, PTL, HT, UI, FTV), as.factor))"
      ],
      "metadata": {
        "id": "qBE2uYDRHsTG"
      },
      "execution_count": null,
      "outputs": []
    },
    {
      "cell_type": "code",
      "source": [
        "# Structure of the data\n",
        "str(data)"
      ],
      "metadata": {
        "colab": {
          "base_uri": "https://localhost:8080/"
        },
        "id": "d6fHpDZlI7Xf",
        "outputId": "605d0839-4023-4cb7-8551-17e8fbd6a7fb"
      },
      "execution_count": null,
      "outputs": [
        {
          "output_type": "stream",
          "name": "stdout",
          "text": [
            "'data.frame':\t189 obs. of  9 variables:\n",
            " $ LOW  : Factor w/ 2 levels \"0\",\"1\": 1 1 1 1 1 1 1 1 1 1 ...\n",
            " $ AGE  : int  19 33 20 21 18 21 22 17 29 26 ...\n",
            " $ LWT  : int  182 155 105 108 107 124 118 103 123 113 ...\n",
            " $ RACE : Factor w/ 3 levels \"1\",\"2\",\"3\": 2 3 1 1 1 3 1 3 1 1 ...\n",
            " $ SMOKE: Factor w/ 2 levels \"0\",\"1\": 1 1 2 2 2 1 1 1 2 2 ...\n",
            " $ PTL  : Factor w/ 4 levels \"0\",\"1\",\"2\",\"3\": 1 1 1 1 1 1 1 1 1 1 ...\n",
            " $ HT   : Factor w/ 2 levels \"0\",\"1\": 1 1 1 1 1 1 1 1 1 1 ...\n",
            " $ UI   : Factor w/ 2 levels \"0\",\"1\": 1 1 1 2 2 1 1 1 1 1 ...\n",
            " $ FTV  : Factor w/ 6 levels \"0\",\"1\",\"2\",\"3\",..: 1 4 2 3 1 1 2 2 2 1 ...\n"
          ]
        }
      ]
    },
    {
      "cell_type": "code",
      "source": [
        "# Count of missing values (NAs) in each column of the dataset data\n",
        "colSums(is.na(data))"
      ],
      "metadata": {
        "colab": {
          "base_uri": "https://localhost:8080/",
          "height": 34
        },
        "id": "_KkvHJqiJXN6",
        "outputId": "77c53013-2968-4733-911d-600c207ad599"
      },
      "execution_count": null,
      "outputs": [
        {
          "output_type": "display_data",
          "data": {
            "text/html": [
              "<style>\n",
              ".dl-inline {width: auto; margin:0; padding: 0}\n",
              ".dl-inline>dt, .dl-inline>dd {float: none; width: auto; display: inline-block}\n",
              ".dl-inline>dt::after {content: \":\\0020\"; padding-right: .5ex}\n",
              ".dl-inline>dt:not(:first-of-type) {padding-left: .5ex}\n",
              "</style><dl class=dl-inline><dt>LOW</dt><dd>0</dd><dt>AGE</dt><dd>0</dd><dt>LWT</dt><dd>0</dd><dt>RACE</dt><dd>0</dd><dt>SMOKE</dt><dd>0</dd><dt>PTL</dt><dd>0</dd><dt>HT</dt><dd>0</dd><dt>UI</dt><dd>0</dd><dt>FTV</dt><dd>0</dd></dl>\n"
            ],
            "text/markdown": "LOW\n:   0AGE\n:   0LWT\n:   0RACE\n:   0SMOKE\n:   0PTL\n:   0HT\n:   0UI\n:   0FTV\n:   0\n\n",
            "text/latex": "\\begin{description*}\n\\item[LOW] 0\n\\item[AGE] 0\n\\item[LWT] 0\n\\item[RACE] 0\n\\item[SMOKE] 0\n\\item[PTL] 0\n\\item[HT] 0\n\\item[UI] 0\n\\item[FTV] 0\n\\end{description*}\n",
            "text/plain": [
              "  LOW   AGE   LWT  RACE SMOKE   PTL    HT    UI   FTV \n",
              "    0     0     0     0     0     0     0     0     0 "
            ]
          },
          "metadata": {}
        }
      ]
    },
    {
      "cell_type": "code",
      "source": [
        "#LOW is the dependent variable, let's see its distribution\n",
        "install.packages('gmodels')\n",
        "library(gmodels)\n",
        "CrossTable(data$LOW)\n",
        "\n",
        "# Alternatevely\n",
        "# table(data$LOW)"
      ],
      "metadata": {
        "colab": {
          "base_uri": "https://localhost:8080/"
        },
        "id": "qQl4WdHTKn9M",
        "outputId": "ff8da5fa-3889-4b10-f356-1efcd69aa653"
      },
      "execution_count": null,
      "outputs": [
        {
          "output_type": "stream",
          "name": "stderr",
          "text": [
            "Installing package into ‘/usr/local/lib/R/site-library’\n",
            "(as ‘lib’ is unspecified)\n",
            "\n"
          ]
        },
        {
          "output_type": "stream",
          "name": "stdout",
          "text": [
            "\n",
            " \n",
            "   Cell Contents\n",
            "|-------------------------|\n",
            "|                       N |\n",
            "|         N / Table Total |\n",
            "|-------------------------|\n",
            "\n",
            " \n",
            "Total Observations in Table:  189 \n",
            "\n",
            " \n",
            "          |         0 |         1 | \n",
            "          |-----------|-----------|\n",
            "          |       130 |        59 | \n",
            "          |     0.688 |     0.312 | \n",
            "          |-----------|-----------|\n",
            "\n",
            "\n",
            "\n",
            " \n"
          ]
        }
      ]
    },
    {
      "cell_type": "markdown",
      "source": [
        "Obeservation: one out of 3 women gave birth to a low weight infant"
      ],
      "metadata": {
        "id": "uej3Az5vLU9r"
      }
    },
    {
      "cell_type": "markdown",
      "source": [
        "# Question 2 : Cross tabulate dependent variable with each independent variable"
      ],
      "metadata": {
        "id": "5aNZLbEvHSVd"
      }
    },
    {
      "cell_type": "code",
      "source": [
        "# Use cross-tabulation for categorical variables\n",
        "\n",
        "# Creating a smaller dataframe with the dependent variable LOW and all the categorical independend variables\n",
        "categ_var_df <- data %>% select(LOW, RACE, SMOKE, PTL, HT, UI, FTV)\n",
        "\n",
        "# Cross tabulate the dependent variable with each independent variables\n",
        "for (col_idx in 2:ncol(categ_var_df)) {\n",
        "  cat(\"Cross-tabulation of LOW with\", colnames(categ_var_df)[col_idx], \" \\n\")\n",
        "  CrossTable(categ_var_df[, col_idx], data$LOW)\n",
        "}\n"
      ],
      "metadata": {
        "colab": {
          "base_uri": "https://localhost:8080/"
        },
        "id": "M5t1V3T8HUrb",
        "outputId": "5f253fd5-7971-4071-9439-a0319a1fc06f"
      },
      "execution_count": null,
      "outputs": [
        {
          "output_type": "stream",
          "name": "stdout",
          "text": [
            "Cross-tabulation of LOW with RACE  \n",
            "\n",
            " \n",
            "   Cell Contents\n",
            "|-------------------------|\n",
            "|                       N |\n",
            "| Chi-square contribution |\n",
            "|           N / Row Total |\n",
            "|           N / Col Total |\n",
            "|         N / Table Total |\n",
            "|-------------------------|\n",
            "\n",
            " \n",
            "Total Observations in Table:  189 \n",
            "\n",
            " \n",
            "                        | data$LOW \n",
            "categ_var_df[, col_idx] |         0 |         1 | Row Total | \n",
            "------------------------|-----------|-----------|-----------|\n",
            "                      1 |        73 |        23 |        96 | \n",
            "                        |     0.735 |     1.620 |           | \n",
            "                        |     0.760 |     0.240 |     0.508 | \n",
            "                        |     0.562 |     0.390 |           | \n",
            "                        |     0.386 |     0.122 |           | \n",
            "------------------------|-----------|-----------|-----------|\n",
            "                      2 |        15 |        11 |        26 | \n",
            "                        |     0.465 |     1.024 |           | \n",
            "                        |     0.577 |     0.423 |     0.138 | \n",
            "                        |     0.115 |     0.186 |           | \n",
            "                        |     0.079 |     0.058 |           | \n",
            "------------------------|-----------|-----------|-----------|\n",
            "                      3 |        42 |        25 |        67 | \n",
            "                        |     0.362 |     0.798 |           | \n",
            "                        |     0.627 |     0.373 |     0.354 | \n",
            "                        |     0.323 |     0.424 |           | \n",
            "                        |     0.222 |     0.132 |           | \n",
            "------------------------|-----------|-----------|-----------|\n",
            "           Column Total |       130 |        59 |       189 | \n",
            "                        |     0.688 |     0.312 |           | \n",
            "------------------------|-----------|-----------|-----------|\n",
            "\n",
            " \n",
            "Cross-tabulation of LOW with SMOKE  \n",
            "\n",
            " \n",
            "   Cell Contents\n",
            "|-------------------------|\n",
            "|                       N |\n",
            "| Chi-square contribution |\n",
            "|           N / Row Total |\n",
            "|           N / Col Total |\n",
            "|         N / Table Total |\n",
            "|-------------------------|\n",
            "\n",
            " \n",
            "Total Observations in Table:  189 \n",
            "\n",
            " \n",
            "                        | data$LOW \n",
            "categ_var_df[, col_idx] |         0 |         1 | Row Total | \n",
            "------------------------|-----------|-----------|-----------|\n",
            "                      0 |        86 |        29 |       115 | \n",
            "                        |     0.602 |     1.326 |           | \n",
            "                        |     0.748 |     0.252 |     0.608 | \n",
            "                        |     0.662 |     0.492 |           | \n",
            "                        |     0.455 |     0.153 |           | \n",
            "------------------------|-----------|-----------|-----------|\n",
            "                      1 |        44 |        30 |        74 | \n",
            "                        |     0.935 |     2.061 |           | \n",
            "                        |     0.595 |     0.405 |     0.392 | \n",
            "                        |     0.338 |     0.508 |           | \n",
            "                        |     0.233 |     0.159 |           | \n",
            "------------------------|-----------|-----------|-----------|\n",
            "           Column Total |       130 |        59 |       189 | \n",
            "                        |     0.688 |     0.312 |           | \n",
            "------------------------|-----------|-----------|-----------|\n",
            "\n",
            " \n",
            "Cross-tabulation of LOW with PTL  \n",
            "\n",
            " \n",
            "   Cell Contents\n",
            "|-------------------------|\n",
            "|                       N |\n",
            "| Chi-square contribution |\n",
            "|           N / Row Total |\n",
            "|           N / Col Total |\n",
            "|         N / Table Total |\n",
            "|-------------------------|\n",
            "\n",
            " \n",
            "Total Observations in Table:  189 \n",
            "\n",
            " \n",
            "                        | data$LOW \n",
            "categ_var_df[, col_idx] |         0 |         1 | Row Total | \n",
            "------------------------|-----------|-----------|-----------|\n",
            "                      0 |       118 |        41 |       159 | \n",
            "                        |     0.682 |     1.502 |           | \n",
            "                        |     0.742 |     0.258 |     0.841 | \n",
            "                        |     0.908 |     0.695 |           | \n",
            "                        |     0.624 |     0.217 |           | \n",
            "------------------------|-----------|-----------|-----------|\n",
            "                      1 |         8 |        16 |        24 | \n",
            "                        |     4.385 |     9.662 |           | \n",
            "                        |     0.333 |     0.667 |     0.127 | \n",
            "                        |     0.062 |     0.271 |           | \n",
            "                        |     0.042 |     0.085 |           | \n",
            "------------------------|-----------|-----------|-----------|\n",
            "                      2 |         3 |         2 |         5 | \n",
            "                        |     0.056 |     0.124 |           | \n",
            "                        |     0.600 |     0.400 |     0.026 | \n",
            "                        |     0.023 |     0.034 |           | \n",
            "                        |     0.016 |     0.011 |           | \n",
            "------------------------|-----------|-----------|-----------|\n",
            "                      3 |         1 |         0 |         1 | \n",
            "                        |     0.142 |     0.312 |           | \n",
            "                        |     1.000 |     0.000 |     0.005 | \n",
            "                        |     0.008 |     0.000 |           | \n",
            "                        |     0.005 |     0.000 |           | \n",
            "------------------------|-----------|-----------|-----------|\n",
            "           Column Total |       130 |        59 |       189 | \n",
            "                        |     0.688 |     0.312 |           | \n",
            "------------------------|-----------|-----------|-----------|\n",
            "\n",
            " \n",
            "Cross-tabulation of LOW with HT  \n",
            "\n",
            " \n",
            "   Cell Contents\n",
            "|-------------------------|\n",
            "|                       N |\n",
            "| Chi-square contribution |\n",
            "|           N / Row Total |\n",
            "|           N / Col Total |\n",
            "|         N / Table Total |\n",
            "|-------------------------|\n",
            "\n",
            " \n",
            "Total Observations in Table:  189 \n",
            "\n",
            " \n",
            "                        | data$LOW \n",
            "categ_var_df[, col_idx] |         0 |         1 | Row Total | \n",
            "------------------------|-----------|-----------|-----------|\n",
            "                      0 |       125 |        52 |       177 | \n",
            "                        |     0.087 |     0.192 |           | \n",
            "                        |     0.706 |     0.294 |     0.937 | \n",
            "                        |     0.962 |     0.881 |           | \n",
            "                        |     0.661 |     0.275 |           | \n",
            "------------------------|-----------|-----------|-----------|\n",
            "                      1 |         5 |         7 |        12 | \n",
            "                        |     1.283 |     2.827 |           | \n",
            "                        |     0.417 |     0.583 |     0.063 | \n",
            "                        |     0.038 |     0.119 |           | \n",
            "                        |     0.026 |     0.037 |           | \n",
            "------------------------|-----------|-----------|-----------|\n",
            "           Column Total |       130 |        59 |       189 | \n",
            "                        |     0.688 |     0.312 |           | \n",
            "------------------------|-----------|-----------|-----------|\n",
            "\n",
            " \n",
            "Cross-tabulation of LOW with UI  \n",
            "\n",
            " \n",
            "   Cell Contents\n",
            "|-------------------------|\n",
            "|                       N |\n",
            "| Chi-square contribution |\n",
            "|           N / Row Total |\n",
            "|           N / Col Total |\n",
            "|         N / Table Total |\n",
            "|-------------------------|\n",
            "\n",
            " \n",
            "Total Observations in Table:  189 \n",
            "\n",
            " \n",
            "                        | data$LOW \n",
            "categ_var_df[, col_idx] |         0 |         1 | Row Total | \n",
            "------------------------|-----------|-----------|-----------|\n",
            "                      0 |       117 |        45 |       162 | \n",
            "                        |     0.279 |     0.614 |           | \n",
            "                        |     0.722 |     0.278 |     0.857 | \n",
            "                        |     0.900 |     0.763 |           | \n",
            "                        |     0.619 |     0.238 |           | \n",
            "------------------------|-----------|-----------|-----------|\n",
            "                      1 |        13 |        14 |        27 | \n",
            "                        |     1.671 |     3.683 |           | \n",
            "                        |     0.481 |     0.519 |     0.143 | \n",
            "                        |     0.100 |     0.237 |           | \n",
            "                        |     0.069 |     0.074 |           | \n",
            "------------------------|-----------|-----------|-----------|\n",
            "           Column Total |       130 |        59 |       189 | \n",
            "                        |     0.688 |     0.312 |           | \n",
            "------------------------|-----------|-----------|-----------|\n",
            "\n",
            " \n",
            "Cross-tabulation of LOW with FTV  \n",
            "\n",
            " \n",
            "   Cell Contents\n",
            "|-------------------------|\n",
            "|                       N |\n",
            "| Chi-square contribution |\n",
            "|           N / Row Total |\n",
            "|           N / Col Total |\n",
            "|         N / Table Total |\n",
            "|-------------------------|\n",
            "\n",
            " \n",
            "Total Observations in Table:  189 \n",
            "\n",
            " \n",
            "                        | data$LOW \n",
            "categ_var_df[, col_idx] |         0 |         1 | Row Total | \n",
            "------------------------|-----------|-----------|-----------|\n",
            "                      0 |        64 |        36 |       100 | \n",
            "                        |     0.333 |     0.733 |           | \n",
            "                        |     0.640 |     0.360 |     0.529 | \n",
            "                        |     0.492 |     0.610 |           | \n",
            "                        |     0.339 |     0.190 |           | \n",
            "------------------------|-----------|-----------|-----------|\n",
            "                      1 |        36 |        11 |        47 | \n",
            "                        |     0.417 |     0.919 |           | \n",
            "                        |     0.766 |     0.234 |     0.249 | \n",
            "                        |     0.277 |     0.186 |           | \n",
            "                        |     0.190 |     0.058 |           | \n",
            "------------------------|-----------|-----------|-----------|\n",
            "                      2 |        23 |         7 |        30 | \n",
            "                        |     0.271 |     0.597 |           | \n",
            "                        |     0.767 |     0.233 |     0.159 | \n",
            "                        |     0.177 |     0.119 |           | \n",
            "                        |     0.122 |     0.037 |           | \n",
            "------------------------|-----------|-----------|-----------|\n",
            "                      3 |         3 |         4 |         7 | \n",
            "                        |     0.684 |     1.507 |           | \n",
            "                        |     0.429 |     0.571 |     0.037 | \n",
            "                        |     0.023 |     0.068 |           | \n",
            "                        |     0.016 |     0.021 |           | \n",
            "------------------------|-----------|-----------|-----------|\n",
            "                      4 |         3 |         1 |         4 | \n",
            "                        |     0.022 |     0.050 |           | \n",
            "                        |     0.750 |     0.250 |     0.021 | \n",
            "                        |     0.023 |     0.017 |           | \n",
            "                        |     0.016 |     0.005 |           | \n",
            "------------------------|-----------|-----------|-----------|\n",
            "                      6 |         1 |         0 |         1 | \n",
            "                        |     0.142 |     0.312 |           | \n",
            "                        |     1.000 |     0.000 |     0.005 | \n",
            "                        |     0.008 |     0.000 |           | \n",
            "                        |     0.005 |     0.000 |           | \n",
            "------------------------|-----------|-----------|-----------|\n",
            "           Column Total |       130 |        59 |       189 | \n",
            "                        |     0.688 |     0.312 |           | \n",
            "------------------------|-----------|-----------|-----------|\n",
            "\n",
            " \n"
          ]
        }
      ]
    },
    {
      "cell_type": "markdown",
      "source": [
        "Observation:\n",
        "#### LOW vs RACE\n",
        "About the over all distribution we can see that out of 189 observations:\n",
        "* 130 are not low birth weight (69%)\n",
        "* 59 are low birth weight (31%)\n",
        "* 96 mothers were white (51%)\n",
        "* 26 mothers were black (14%)\n",
        "* 67 mother others (35%)\n",
        "\n",
        "The table shows a RACE imbalance, with more white (96) than black (26) and others(67), however the Low Infant Birth Weight rate is slightly higher among black and others(42%% and 37% vs 24%)\n",
        "\n",
        "#### LOW vs SMOKE\n",
        "About the over all distribution we can see that out of 189 observations:\n",
        "* 130 are not low birth weight (69%)\n",
        "* 59 are low birth weight (31%)\n",
        "* 115 mothers did not smoke during pregnancy (61%)\n",
        "* 74 mothers did smoke during pregnancy (39%)\n",
        "\n",
        "The proportion of low birth weight infants is higher among mothers who smoked during pregnancy (40.5%) compared to those who did not smoke (25%). This suggests a potential association between smoking during pregnancy and increased risk of low birth weight.\n",
        "\n",
        "The Chi-Square Contribution measures the impact of each cell on the overall Chi-square statistic. We can see that the higher contribution is given by the cell SMOKE =1 and LOW =1 suggesting that there is an association between smoking during pregnancy and the likelihood of low birth weight in infants.\n",
        "\n",
        "#### LOW vs PTL\n",
        "The table shows a PTL imbalance, with majority of the cases with no history of premature labor. However we can see that Low Infant Birth Weight rate is higher among women with a history of premature labors\n",
        "\n",
        "#### LOW vs HT\n",
        "There is a strong imbalance in the dataset with only 12 case having history of hypertension over 189 cases. However we can see that Low Infant Birth Weight rate is higher among women with a history of hypertension\n",
        "\n",
        "#### LOW vs UI\n",
        "There is a strong imbalance in the dataset with only 27 case having Presence of Uterine Irritability over 189 cases. However we can see that Low Infant Birth Weight rate is higher among women with a Presence of Uterine Irritability (52%% vs 28%)\n",
        "\n",
        "#### LOW vs FVT\n",
        "Several categories, with mixed results. At first sight it seems like the Number of Physician Visits During the First Trimester helps decreasing Low Infant Birth Weight rate. However results are mixed and do not help much."
      ],
      "metadata": {
        "id": "g8DNUOpNWoRs"
      }
    },
    {
      "cell_type": "code",
      "source": [
        "# Use box plots for numerical variables\n",
        "\n",
        "ggplot(data, aes(x=LOW, y=AGE,fill=LOW)) +\n",
        "  ggtitle(\"Box plot of AGE by LOW\")+\n",
        "  geom_boxplot()+theme_classic()"
      ],
      "metadata": {
        "colab": {
          "base_uri": "https://localhost:8080/",
          "height": 437
        },
        "id": "ir1Ogj6hM-Oz",
        "outputId": "927d60b0-74ae-4122-f4b5-7e85a6252f17"
      },
      "execution_count": null,
      "outputs": [
        {
          "output_type": "display_data",
          "data": {
            "text/plain": [
              "plot without title"
            ],
            "image/png": "[encoded data removed]"
          },
          "metadata": {
            "image/png": {
              "width": 420,
              "height": 420
            }
          }
        }
      ]
    },
    {
      "cell_type": "markdown",
      "source": [
        "Observation:\n",
        "\n",
        "Women who had babies with low birth weight (LOW = 1) tend to be slightly younger on average compared to those who did not (LOW = 0). However, the difference in median age between the two groups is not large.\n",
        "\n",
        "Variability:\n",
        "\n",
        "The larger IQR for LOW = 0 indicates more variability in age among women who did not have low birth weight babies. The narrower IQR for LOW = 1 indicates that age is more consistent among women who had low birth weight babies.\n",
        "\n",
        "Outliers:\n",
        "\n",
        "The presence of outliers in both groups suggests that while the general trend holds, there are individual cases that deviate significantly from the median values.\n",
        "\n",
        "Conclusion:\n",
        "\n",
        "The boxplot shows that there is a slight tendency for women with low birth weight babies to be younger, but the difference is not substantial. Variability in age is greater among women who did not have low birth weight babies."
      ],
      "metadata": {
        "id": "MirwO5fhX8lG"
      }
    },
    {
      "cell_type": "code",
      "source": [
        "ggplot(data, aes(x=LOW, y=LWT,fill=LOW)) +\n",
        "  ggtitle(\"Box plot of LWT by LOW\")+\n",
        "  geom_boxplot()+theme_classic()"
      ],
      "metadata": {
        "colab": {
          "base_uri": "https://localhost:8080/",
          "height": 437
        },
        "id": "UH-rc17CU4LI",
        "outputId": "3edfe79d-d6fd-4be5-b2b8-49d9c18d71a4"
      },
      "execution_count": null,
      "outputs": [
        {
          "output_type": "display_data",
          "data": {
            "text/plain": [
              "plot without title"
            ],
            "image/png": "[encoded data removed]"
          },
          "metadata": {
            "image/png": {
              "width": 420,
              "height": 420
            }
          }
        }
      ]
    },
    {
      "cell_type": "markdown",
      "source": [
        "Observation:\n",
        "\n",
        "Women who had babies with low birth weight (LOW = 1) tend to have a lower median LWT compared to those who did not (LOW = 0). This suggests that a higher weight at the last menstrual period may be associated with a lower likelihood of having a low birth weight baby.\n",
        "\n",
        "Variability:\n",
        "\n",
        "The larger IQR for LOW = 0 indicates more variability in LWT among women who did not have low birth weight babies. The narrower IQR for LOW = 1 indicates that LWT is more consistent among women who had low birth weight babies.\n",
        "\n",
        "Outliers:\n",
        "\n",
        "The presence of outliers in both groups suggests that while the general trend holds, there are individual cases that deviate significantly from the median values."
      ],
      "metadata": {
        "id": "FoSKoC1_Yl2k"
      }
    },
    {
      "cell_type": "markdown",
      "source": [
        "# Question 3: Develop a model to predict if birth weight is low or not using the given variables"
      ],
      "metadata": {
        "id": "vwjkzGEha74u"
      }
    },
    {
      "cell_type": "code",
      "source": [
        "#Binary Logistic Regression using glm function\n",
        "logistic_model<-glm(LOW~.,data=data,family = binomial)\n",
        "summary(logistic_model)"
      ],
      "metadata": {
        "colab": {
          "base_uri": "https://localhost:8080/",
          "height": 573
        },
        "id": "uqWSVENoYguD",
        "outputId": "ea141e1f-3fee-4c40-8ad3-0dbfea2615bb"
      },
      "execution_count": null,
      "outputs": [
        {
          "output_type": "display_data",
          "data": {
            "text/plain": [
              "\n",
              "Call:\n",
              "glm(formula = LOW ~ ., family = binomial, data = data)\n",
              "\n",
              "Coefficients:\n",
              "              Estimate Std. Error z value Pr(>|z|)   \n",
              "(Intercept)  8.488e-01  1.301e+00   0.652  0.51418   \n",
              "AGE         -3.917e-02  3.955e-02  -0.990  0.32200   \n",
              "LWT         -1.491e-02  7.497e-03  -1.989  0.04675 * \n",
              "RACE2        1.135e+00  5.517e-01   2.057  0.03964 * \n",
              "RACE3        6.655e-01  4.780e-01   1.392  0.16384   \n",
              "SMOKE1       6.981e-01  4.403e-01   1.586  0.11285   \n",
              "PTL1         1.856e+00  5.726e-01   3.242  0.00119 **\n",
              "PTL2         4.758e-01  1.009e+00   0.472  0.63727   \n",
              "PTL3        -1.559e+01  1.455e+03  -0.011  0.99146   \n",
              "HT1          1.789e+00  7.466e-01   2.396  0.01655 * \n",
              "UI1          8.683e-01  4.878e-01   1.780  0.07508 . \n",
              "FTV1        -5.655e-01  4.960e-01  -1.140  0.25420   \n",
              "FTV2        -9.839e-02  5.465e-01  -0.180  0.85712   \n",
              "FTV3         1.098e+00  8.644e-01   1.270  0.20394   \n",
              "FTV4        -9.141e-01  1.378e+00  -0.663  0.50718   \n",
              "FTV6        -1.295e+01  1.455e+03  -0.009  0.99290   \n",
              "---\n",
              "Signif. codes:  0 ‘***’ 0.001 ‘**’ 0.01 ‘*’ 0.05 ‘.’ 0.1 ‘ ’ 1\n",
              "\n",
              "(Dispersion parameter for binomial family taken to be 1)\n",
              "\n",
              "    Null deviance: 234.67  on 188  degrees of freedom\n",
              "Residual deviance: 188.17  on 173  degrees of freedom\n",
              "AIC: 220.17\n",
              "\n",
              "Number of Fisher Scoring iterations: 14\n"
            ]
          },
          "metadata": {}
        }
      ]
    },
    {
      "cell_type": "markdown",
      "source": [
        "\n",
        "Interpretation:\n",
        "\n",
        "AGE:\n",
        "\n",
        "* Estimate: -0.03917\n",
        "* Not statistically significant (p-value = 0.32200)\n",
        "* A one year increase in age is associated with a decrease in the odds of low birth weight. However the effect is not significant.\n",
        "\n",
        "LWT:\n",
        "\n",
        "* Estimate: -0.01491  \n",
        "* Statistically significant (p-value = 0.04675 *)\n",
        "* A one pound increase in LWT is associated with a decrease in the odds of low birth weight.\n",
        "\n",
        "RACE2:\n",
        "\n",
        "* Estimate: 1.135\n",
        "* Statistically significant (p-value = 0.03964 *)\n",
        "* Being black increases the odds of low birth weight compared to the reference category.\n",
        "\n",
        "RACE3:\n",
        "\n",
        "* Estimate: 0.6655\n",
        "* Not statistically significant (p-value = 0.16384)\n",
        "* Being not white or not black increases the odds of low birth weight compared to the reference category, but this effect is not significant.\n",
        "\n",
        "SMOKE1:\n",
        "\n",
        "* Estimate: 0.6981\n",
        "* Not statistically significant (p-value = 0.11285)\n",
        "* Smoking during pregnancy increases the odds of low birth weight, though the effect is not significant.\n",
        "\n",
        "PTL1:\n",
        "\n",
        "* Estimate: 1.856\n",
        "* Statistically significant (p-value = 0.00119 **)\n",
        "* Having a history of premature labor significantly increases the odds of low birth weight.\n",
        "\n",
        "PTL2:\n",
        "\n",
        "* Estimate: 0.4758\n",
        "* Not statistically significant (p-value = 0.63727)\n",
        "* Additional history of premature labor does not significantly affect the odds of low birth weight.\n",
        "\n",
        "PTL3:\n",
        "\n",
        "* Estimate: -15.59\n",
        "* Not statistically significant (p-value = 0.99146)\n",
        "* This appears to be an outlier/erroneous value.\n",
        "\n",
        "HT1:\n",
        "\n",
        "* Estimate: 1.789\n",
        "* Statistically significant (p-value = 0.01655 *)\n",
        "* A history of hypertension increases the odds of low birth weight.\n",
        "\n",
        "UI1:\n",
        "\n",
        "* Estimate: 0.8683\n",
        "* Marginally Statistically significant (p-value = 0.07508)\n",
        "* Uterine irritability increases the odds of low birth weight, with marginal significance.\n",
        "\n",
        "FTV:\n",
        "\n",
        "* Several categories, with mixed results.\n",
        "* Not statistically significant, indicating that the number of physician visits does not significantly affect the odds of low birth weight.\n",
        "\n",
        "\n",
        "Note:\n",
        "\n",
        "While our model includes several variables that are statistically insignificant, it is crucial to emphasize that in the healthcare domain, caution should be exercised when considering variable removal. In healthcare, even seemingly insignificant variables may hold clinical relevance or contribute to a comprehensive understanding of patient outcomes. Therefore, retaining these variables in the model allows for a more holistic analysis that aligns with the complex and multifaceted nature of healthcare data."
      ],
      "metadata": {
        "id": "Uh7S49ZMde7P"
      }
    },
    {
      "cell_type": "code",
      "source": [
        "vif(logistic_model)"
      ],
      "metadata": {
        "colab": {
          "base_uri": "https://localhost:8080/",
          "height": 318
        },
        "id": "quCEvDDRisrq",
        "outputId": "ca6d612c-2c9b-4a51-a636-23fa95d67d83"
      },
      "execution_count": null,
      "outputs": [
        {
          "output_type": "display_data",
          "data": {
            "text/html": [
              "<table class=\"dataframe\">\n",
              "<caption>A matrix: 8 × 3 of type dbl</caption>\n",
              "<thead>\n",
              "\t<tr><th></th><th scope=col>GVIF</th><th scope=col>Df</th><th scope=col>GVIF^(1/(2*Df))</th></tr>\n",
              "</thead>\n",
              "<tbody>\n",
              "\t<tr><th scope=row>AGE</th><td>1.144183</td><td>1</td><td>1.069665</td></tr>\n",
              "\t<tr><th scope=row>LWT</th><td>1.381229</td><td>1</td><td>1.175257</td></tr>\n",
              "\t<tr><th scope=row>RACE</th><td>1.646691</td><td>2</td><td>1.132799</td></tr>\n",
              "\t<tr><th scope=row>SMOKE</th><td>1.483509</td><td>1</td><td>1.217994</td></tr>\n",
              "\t<tr><th scope=row>PTL</th><td>1.301326</td><td>3</td><td>1.044875</td></tr>\n",
              "\t<tr><th scope=row>HT</th><td>1.221716</td><td>1</td><td>1.105313</td></tr>\n",
              "\t<tr><th scope=row>UI</th><td>1.057265</td><td>1</td><td>1.028234</td></tr>\n",
              "\t<tr><th scope=row>FTV</th><td>1.394216</td><td>5</td><td>1.033792</td></tr>\n",
              "</tbody>\n",
              "</table>\n"
            ],
            "text/markdown": "\nA matrix: 8 × 3 of type dbl\n\n| <!--/--> | GVIF | Df | GVIF^(1/(2*Df)) |\n|---|---|---|---|\n| AGE | 1.144183 | 1 | 1.069665 |\n| LWT | 1.381229 | 1 | 1.175257 |\n| RACE | 1.646691 | 2 | 1.132799 |\n| SMOKE | 1.483509 | 1 | 1.217994 |\n| PTL | 1.301326 | 3 | 1.044875 |\n| HT | 1.221716 | 1 | 1.105313 |\n| UI | 1.057265 | 1 | 1.028234 |\n| FTV | 1.394216 | 5 | 1.033792 |\n\n",
            "text/latex": "A matrix: 8 × 3 of type dbl\n\\begin{tabular}{r|lll}\n  & GVIF & Df & GVIF\\textasciicircum{}(1/(2*Df))\\\\\n\\hline\n\tAGE & 1.144183 & 1 & 1.069665\\\\\n\tLWT & 1.381229 & 1 & 1.175257\\\\\n\tRACE & 1.646691 & 2 & 1.132799\\\\\n\tSMOKE & 1.483509 & 1 & 1.217994\\\\\n\tPTL & 1.301326 & 3 & 1.044875\\\\\n\tHT & 1.221716 & 1 & 1.105313\\\\\n\tUI & 1.057265 & 1 & 1.028234\\\\\n\tFTV & 1.394216 & 5 & 1.033792\\\\\n\\end{tabular}\n",
            "text/plain": [
              "      GVIF     Df GVIF^(1/(2*Df))\n",
              "AGE   1.144183 1  1.069665       \n",
              "LWT   1.381229 1  1.175257       \n",
              "RACE  1.646691 2  1.132799       \n",
              "SMOKE 1.483509 1  1.217994       \n",
              "PTL   1.301326 3  1.044875       \n",
              "HT    1.221716 1  1.105313       \n",
              "UI    1.057265 1  1.028234       \n",
              "FTV   1.394216 5  1.033792       "
            ]
          },
          "metadata": {}
        }
      ]
    },
    {
      "cell_type": "markdown",
      "source": [
        "It is observed that no variable has high vif. Hence the problem of multicollinearity does not exist."
      ],
      "metadata": {
        "id": "47g3l0WIi2hy"
      }
    },
    {
      "cell_type": "markdown",
      "source": [
        "# Question 4 Generate three classification tables with cut-off values 0.4, 0.3 and 0.55"
      ],
      "metadata": {
        "id": "T-fCmMgWbIlc"
      }
    },
    {
      "cell_type": "code",
      "source": [
        "#Estimate predicted probabilities and add a column in the original data\n",
        "data$predprob<-round(fitted(logistic_model),2)\n",
        "head(data)"
      ],
      "metadata": {
        "colab": {
          "base_uri": "https://localhost:8080/",
          "height": 286
        },
        "id": "PTZDKjUJbOSH",
        "outputId": "99eb0778-30c4-4e7e-a45b-dcd8c0360ead"
      },
      "execution_count": null,
      "outputs": [
        {
          "output_type": "display_data",
          "data": {
            "text/html": [
              "<table class=\"dataframe\">\n",
              "<caption>A data.frame: 6 × 10</caption>\n",
              "<thead>\n",
              "\t<tr><th></th><th scope=col>LOW</th><th scope=col>AGE</th><th scope=col>LWT</th><th scope=col>RACE</th><th scope=col>SMOKE</th><th scope=col>PTL</th><th scope=col>HT</th><th scope=col>UI</th><th scope=col>FTV</th><th scope=col>predprob</th></tr>\n",
              "\t<tr><th></th><th scope=col>&lt;fct&gt;</th><th scope=col>&lt;int&gt;</th><th scope=col>&lt;int&gt;</th><th scope=col>&lt;fct&gt;</th><th scope=col>&lt;fct&gt;</th><th scope=col>&lt;fct&gt;</th><th scope=col>&lt;fct&gt;</th><th scope=col>&lt;fct&gt;</th><th scope=col>&lt;fct&gt;</th><th scope=col>&lt;dbl&gt;</th></tr>\n",
              "</thead>\n",
              "<tbody>\n",
              "\t<tr><th scope=row>1</th><td>0</td><td>19</td><td>182</td><td>2</td><td>0</td><td>0</td><td>0</td><td>0</td><td>0</td><td>0.19</td></tr>\n",
              "\t<tr><th scope=row>2</th><td>0</td><td>33</td><td>155</td><td>3</td><td>0</td><td>0</td><td>0</td><td>0</td><td>3</td><td>0.27</td></tr>\n",
              "\t<tr><th scope=row>3</th><td>0</td><td>20</td><td>105</td><td>1</td><td>1</td><td>0</td><td>0</td><td>0</td><td>1</td><td>0.20</td></tr>\n",
              "\t<tr><th scope=row>4</th><td>0</td><td>21</td><td>108</td><td>1</td><td>1</td><td>0</td><td>0</td><td>1</td><td>2</td><td>0.47</td></tr>\n",
              "\t<tr><th scope=row>5</th><td>0</td><td>18</td><td>107</td><td>1</td><td>1</td><td>0</td><td>0</td><td>1</td><td>0</td><td>0.53</td></tr>\n",
              "\t<tr><th scope=row>6</th><td>0</td><td>21</td><td>124</td><td>3</td><td>0</td><td>0</td><td>0</td><td>0</td><td>0</td><td>0.24</td></tr>\n",
              "</tbody>\n",
              "</table>\n"
            ],
            "text/markdown": "\nA data.frame: 6 × 10\n\n| <!--/--> | LOW &lt;fct&gt; | AGE &lt;int&gt; | LWT &lt;int&gt; | RACE &lt;fct&gt; | SMOKE &lt;fct&gt; | PTL &lt;fct&gt; | HT &lt;fct&gt; | UI &lt;fct&gt; | FTV &lt;fct&gt; | predprob &lt;dbl&gt; |\n|---|---|---|---|---|---|---|---|---|---|---|\n| 1 | 0 | 19 | 182 | 2 | 0 | 0 | 0 | 0 | 0 | 0.19 |\n| 2 | 0 | 33 | 155 | 3 | 0 | 0 | 0 | 0 | 3 | 0.27 |\n| 3 | 0 | 20 | 105 | 1 | 1 | 0 | 0 | 0 | 1 | 0.20 |\n| 4 | 0 | 21 | 108 | 1 | 1 | 0 | 0 | 1 | 2 | 0.47 |\n| 5 | 0 | 18 | 107 | 1 | 1 | 0 | 0 | 1 | 0 | 0.53 |\n| 6 | 0 | 21 | 124 | 3 | 0 | 0 | 0 | 0 | 0 | 0.24 |\n\n",
            "text/latex": "A data.frame: 6 × 10\n\\begin{tabular}{r|llllllllll}\n  & LOW & AGE & LWT & RACE & SMOKE & PTL & HT & UI & FTV & predprob\\\\\n  & <fct> & <int> & <int> & <fct> & <fct> & <fct> & <fct> & <fct> & <fct> & <dbl>\\\\\n\\hline\n\t1 & 0 & 19 & 182 & 2 & 0 & 0 & 0 & 0 & 0 & 0.19\\\\\n\t2 & 0 & 33 & 155 & 3 & 0 & 0 & 0 & 0 & 3 & 0.27\\\\\n\t3 & 0 & 20 & 105 & 1 & 1 & 0 & 0 & 0 & 1 & 0.20\\\\\n\t4 & 0 & 21 & 108 & 1 & 1 & 0 & 0 & 1 & 2 & 0.47\\\\\n\t5 & 0 & 18 & 107 & 1 & 1 & 0 & 0 & 1 & 0 & 0.53\\\\\n\t6 & 0 & 21 & 124 & 3 & 0 & 0 & 0 & 0 & 0 & 0.24\\\\\n\\end{tabular}\n",
            "text/plain": [
              "  LOW AGE LWT RACE SMOKE PTL HT UI FTV predprob\n",
              "1 0   19  182 2    0     0   0  0  0   0.19    \n",
              "2 0   33  155 3    0     0   0  0  3   0.27    \n",
              "3 0   20  105 1    1     0   0  0  1   0.20    \n",
              "4 0   21  108 1    1     0   0  1  2   0.47    \n",
              "5 0   18  107 1    1     0   0  1  0   0.53    \n",
              "6 0   21  124 3    0     0   0  0  0   0.24    "
            ]
          },
          "metadata": {}
        }
      ]
    },
    {
      "cell_type": "code",
      "source": [
        "#classification tables with cut-off values 0.4  0.4\n",
        "data$estimated_low_0.4<-as.factor(ifelse(data$predprob>0.4,1,0))\n",
        "head(data)"
      ],
      "metadata": {
        "colab": {
          "base_uri": "https://localhost:8080/",
          "height": 286
        },
        "id": "Sjm1T_Gsi-4P",
        "outputId": "751a6174-42e2-4775-972f-391577cba42e"
      },
      "execution_count": null,
      "outputs": [
        {
          "output_type": "display_data",
          "data": {
            "text/html": [
              "<table class=\"dataframe\">\n",
              "<caption>A data.frame: 6 × 11</caption>\n",
              "<thead>\n",
              "\t<tr><th></th><th scope=col>LOW</th><th scope=col>AGE</th><th scope=col>LWT</th><th scope=col>RACE</th><th scope=col>SMOKE</th><th scope=col>PTL</th><th scope=col>HT</th><th scope=col>UI</th><th scope=col>FTV</th><th scope=col>predprob</th><th scope=col>estimated_low_0.4</th></tr>\n",
              "\t<tr><th></th><th scope=col>&lt;fct&gt;</th><th scope=col>&lt;int&gt;</th><th scope=col>&lt;int&gt;</th><th scope=col>&lt;fct&gt;</th><th scope=col>&lt;fct&gt;</th><th scope=col>&lt;fct&gt;</th><th scope=col>&lt;fct&gt;</th><th scope=col>&lt;fct&gt;</th><th scope=col>&lt;fct&gt;</th><th scope=col>&lt;dbl&gt;</th><th scope=col>&lt;fct&gt;</th></tr>\n",
              "</thead>\n",
              "<tbody>\n",
              "\t<tr><th scope=row>1</th><td>0</td><td>19</td><td>182</td><td>2</td><td>0</td><td>0</td><td>0</td><td>0</td><td>0</td><td>0.19</td><td>0</td></tr>\n",
              "\t<tr><th scope=row>2</th><td>0</td><td>33</td><td>155</td><td>3</td><td>0</td><td>0</td><td>0</td><td>0</td><td>3</td><td>0.27</td><td>0</td></tr>\n",
              "\t<tr><th scope=row>3</th><td>0</td><td>20</td><td>105</td><td>1</td><td>1</td><td>0</td><td>0</td><td>0</td><td>1</td><td>0.20</td><td>0</td></tr>\n",
              "\t<tr><th scope=row>4</th><td>0</td><td>21</td><td>108</td><td>1</td><td>1</td><td>0</td><td>0</td><td>1</td><td>2</td><td>0.47</td><td>1</td></tr>\n",
              "\t<tr><th scope=row>5</th><td>0</td><td>18</td><td>107</td><td>1</td><td>1</td><td>0</td><td>0</td><td>1</td><td>0</td><td>0.53</td><td>1</td></tr>\n",
              "\t<tr><th scope=row>6</th><td>0</td><td>21</td><td>124</td><td>3</td><td>0</td><td>0</td><td>0</td><td>0</td><td>0</td><td>0.24</td><td>0</td></tr>\n",
              "</tbody>\n",
              "</table>\n"
            ],
            "text/markdown": "\nA data.frame: 6 × 11\n\n| <!--/--> | LOW &lt;fct&gt; | AGE &lt;int&gt; | LWT &lt;int&gt; | RACE &lt;fct&gt; | SMOKE &lt;fct&gt; | PTL &lt;fct&gt; | HT &lt;fct&gt; | UI &lt;fct&gt; | FTV &lt;fct&gt; | predprob &lt;dbl&gt; | estimated_low_0.4 &lt;fct&gt; |\n|---|---|---|---|---|---|---|---|---|---|---|---|\n| 1 | 0 | 19 | 182 | 2 | 0 | 0 | 0 | 0 | 0 | 0.19 | 0 |\n| 2 | 0 | 33 | 155 | 3 | 0 | 0 | 0 | 0 | 3 | 0.27 | 0 |\n| 3 | 0 | 20 | 105 | 1 | 1 | 0 | 0 | 0 | 1 | 0.20 | 0 |\n| 4 | 0 | 21 | 108 | 1 | 1 | 0 | 0 | 1 | 2 | 0.47 | 1 |\n| 5 | 0 | 18 | 107 | 1 | 1 | 0 | 0 | 1 | 0 | 0.53 | 1 |\n| 6 | 0 | 21 | 124 | 3 | 0 | 0 | 0 | 0 | 0 | 0.24 | 0 |\n\n",
            "text/latex": "A data.frame: 6 × 11\n\\begin{tabular}{r|lllllllllll}\n  & LOW & AGE & LWT & RACE & SMOKE & PTL & HT & UI & FTV & predprob & estimated\\_low\\_0.4\\\\\n  & <fct> & <int> & <int> & <fct> & <fct> & <fct> & <fct> & <fct> & <fct> & <dbl> & <fct>\\\\\n\\hline\n\t1 & 0 & 19 & 182 & 2 & 0 & 0 & 0 & 0 & 0 & 0.19 & 0\\\\\n\t2 & 0 & 33 & 155 & 3 & 0 & 0 & 0 & 0 & 3 & 0.27 & 0\\\\\n\t3 & 0 & 20 & 105 & 1 & 1 & 0 & 0 & 0 & 1 & 0.20 & 0\\\\\n\t4 & 0 & 21 & 108 & 1 & 1 & 0 & 0 & 1 & 2 & 0.47 & 1\\\\\n\t5 & 0 & 18 & 107 & 1 & 1 & 0 & 0 & 1 & 0 & 0.53 & 1\\\\\n\t6 & 0 & 21 & 124 & 3 & 0 & 0 & 0 & 0 & 0 & 0.24 & 0\\\\\n\\end{tabular}\n",
            "text/plain": [
              "  LOW AGE LWT RACE SMOKE PTL HT UI FTV predprob estimated_low_0.4\n",
              "1 0   19  182 2    0     0   0  0  0   0.19     0                \n",
              "2 0   33  155 3    0     0   0  0  3   0.27     0                \n",
              "3 0   20  105 1    1     0   0  0  1   0.20     0                \n",
              "4 0   21  108 1    1     0   0  1  2   0.47     1                \n",
              "5 0   18  107 1    1     0   0  1  0   0.53     1                \n",
              "6 0   21  124 3    0     0   0  0  0   0.24     0                "
            ]
          },
          "metadata": {}
        }
      ]
    },
    {
      "cell_type": "code",
      "source": [
        "#classification tables with cut-off values 0.3\n",
        "data$estimated_low_0.3<-as.factor(ifelse(data$predprob>0.3,1,0))\n",
        "head(data)"
      ],
      "metadata": {
        "colab": {
          "base_uri": "https://localhost:8080/",
          "height": 286
        },
        "id": "Lc4Z74KMjbS0",
        "outputId": "1dca365a-1838-4271-c5c4-ba49d85c4e22"
      },
      "execution_count": null,
      "outputs": [
        {
          "output_type": "display_data",
          "data": {
            "text/html": [
              "<table class=\"dataframe\">\n",
              "<caption>A data.frame: 6 × 12</caption>\n",
              "<thead>\n",
              "\t<tr><th></th><th scope=col>LOW</th><th scope=col>AGE</th><th scope=col>LWT</th><th scope=col>RACE</th><th scope=col>SMOKE</th><th scope=col>PTL</th><th scope=col>HT</th><th scope=col>UI</th><th scope=col>FTV</th><th scope=col>predprob</th><th scope=col>estimated_low_0.4</th><th scope=col>estimated_low_0.3</th></tr>\n",
              "\t<tr><th></th><th scope=col>&lt;fct&gt;</th><th scope=col>&lt;int&gt;</th><th scope=col>&lt;int&gt;</th><th scope=col>&lt;fct&gt;</th><th scope=col>&lt;fct&gt;</th><th scope=col>&lt;fct&gt;</th><th scope=col>&lt;fct&gt;</th><th scope=col>&lt;fct&gt;</th><th scope=col>&lt;fct&gt;</th><th scope=col>&lt;dbl&gt;</th><th scope=col>&lt;fct&gt;</th><th scope=col>&lt;fct&gt;</th></tr>\n",
              "</thead>\n",
              "<tbody>\n",
              "\t<tr><th scope=row>1</th><td>0</td><td>19</td><td>182</td><td>2</td><td>0</td><td>0</td><td>0</td><td>0</td><td>0</td><td>0.19</td><td>0</td><td>0</td></tr>\n",
              "\t<tr><th scope=row>2</th><td>0</td><td>33</td><td>155</td><td>3</td><td>0</td><td>0</td><td>0</td><td>0</td><td>3</td><td>0.27</td><td>0</td><td>0</td></tr>\n",
              "\t<tr><th scope=row>3</th><td>0</td><td>20</td><td>105</td><td>1</td><td>1</td><td>0</td><td>0</td><td>0</td><td>1</td><td>0.20</td><td>0</td><td>0</td></tr>\n",
              "\t<tr><th scope=row>4</th><td>0</td><td>21</td><td>108</td><td>1</td><td>1</td><td>0</td><td>0</td><td>1</td><td>2</td><td>0.47</td><td>1</td><td>1</td></tr>\n",
              "\t<tr><th scope=row>5</th><td>0</td><td>18</td><td>107</td><td>1</td><td>1</td><td>0</td><td>0</td><td>1</td><td>0</td><td>0.53</td><td>1</td><td>1</td></tr>\n",
              "\t<tr><th scope=row>6</th><td>0</td><td>21</td><td>124</td><td>3</td><td>0</td><td>0</td><td>0</td><td>0</td><td>0</td><td>0.24</td><td>0</td><td>0</td></tr>\n",
              "</tbody>\n",
              "</table>\n"
            ],
            "text/markdown": "\nA data.frame: 6 × 12\n\n| <!--/--> | LOW &lt;fct&gt; | AGE &lt;int&gt; | LWT &lt;int&gt; | RACE &lt;fct&gt; | SMOKE &lt;fct&gt; | PTL &lt;fct&gt; | HT &lt;fct&gt; | UI &lt;fct&gt; | FTV &lt;fct&gt; | predprob &lt;dbl&gt; | estimated_low_0.4 &lt;fct&gt; | estimated_low_0.3 &lt;fct&gt; |\n|---|---|---|---|---|---|---|---|---|---|---|---|---|\n| 1 | 0 | 19 | 182 | 2 | 0 | 0 | 0 | 0 | 0 | 0.19 | 0 | 0 |\n| 2 | 0 | 33 | 155 | 3 | 0 | 0 | 0 | 0 | 3 | 0.27 | 0 | 0 |\n| 3 | 0 | 20 | 105 | 1 | 1 | 0 | 0 | 0 | 1 | 0.20 | 0 | 0 |\n| 4 | 0 | 21 | 108 | 1 | 1 | 0 | 0 | 1 | 2 | 0.47 | 1 | 1 |\n| 5 | 0 | 18 | 107 | 1 | 1 | 0 | 0 | 1 | 0 | 0.53 | 1 | 1 |\n| 6 | 0 | 21 | 124 | 3 | 0 | 0 | 0 | 0 | 0 | 0.24 | 0 | 0 |\n\n",
            "text/latex": "A data.frame: 6 × 12\n\\begin{tabular}{r|llllllllllll}\n  & LOW & AGE & LWT & RACE & SMOKE & PTL & HT & UI & FTV & predprob & estimated\\_low\\_0.4 & estimated\\_low\\_0.3\\\\\n  & <fct> & <int> & <int> & <fct> & <fct> & <fct> & <fct> & <fct> & <fct> & <dbl> & <fct> & <fct>\\\\\n\\hline\n\t1 & 0 & 19 & 182 & 2 & 0 & 0 & 0 & 0 & 0 & 0.19 & 0 & 0\\\\\n\t2 & 0 & 33 & 155 & 3 & 0 & 0 & 0 & 0 & 3 & 0.27 & 0 & 0\\\\\n\t3 & 0 & 20 & 105 & 1 & 1 & 0 & 0 & 0 & 1 & 0.20 & 0 & 0\\\\\n\t4 & 0 & 21 & 108 & 1 & 1 & 0 & 0 & 1 & 2 & 0.47 & 1 & 1\\\\\n\t5 & 0 & 18 & 107 & 1 & 1 & 0 & 0 & 1 & 0 & 0.53 & 1 & 1\\\\\n\t6 & 0 & 21 & 124 & 3 & 0 & 0 & 0 & 0 & 0 & 0.24 & 0 & 0\\\\\n\\end{tabular}\n",
            "text/plain": [
              "  LOW AGE LWT RACE SMOKE PTL HT UI FTV predprob estimated_low_0.4\n",
              "1 0   19  182 2    0     0   0  0  0   0.19     0                \n",
              "2 0   33  155 3    0     0   0  0  3   0.27     0                \n",
              "3 0   20  105 1    1     0   0  0  1   0.20     0                \n",
              "4 0   21  108 1    1     0   0  1  2   0.47     1                \n",
              "5 0   18  107 1    1     0   0  1  0   0.53     1                \n",
              "6 0   21  124 3    0     0   0  0  0   0.24     0                \n",
              "  estimated_low_0.3\n",
              "1 0                \n",
              "2 0                \n",
              "3 0                \n",
              "4 1                \n",
              "5 1                \n",
              "6 0                "
            ]
          },
          "metadata": {}
        }
      ]
    },
    {
      "cell_type": "code",
      "source": [
        "#classification tables with cut-off values 0.55\n",
        "data$estimated_low_0.55<-as.factor(ifelse(data$predprob>0.55,1,0))\n",
        "head(data)"
      ],
      "metadata": {
        "colab": {
          "base_uri": "https://localhost:8080/",
          "height": 286
        },
        "id": "cEYi475JjgcW",
        "outputId": "896866d7-fe91-4b9e-c6ae-6bc177864427"
      },
      "execution_count": null,
      "outputs": [
        {
          "output_type": "display_data",
          "data": {
            "text/html": [
              "<table class=\"dataframe\">\n",
              "<caption>A data.frame: 6 × 13</caption>\n",
              "<thead>\n",
              "\t<tr><th></th><th scope=col>LOW</th><th scope=col>AGE</th><th scope=col>LWT</th><th scope=col>RACE</th><th scope=col>SMOKE</th><th scope=col>PTL</th><th scope=col>HT</th><th scope=col>UI</th><th scope=col>FTV</th><th scope=col>predprob</th><th scope=col>estimated_low_0.4</th><th scope=col>estimated_low_0.3</th><th scope=col>estimated_low_0.55</th></tr>\n",
              "\t<tr><th></th><th scope=col>&lt;fct&gt;</th><th scope=col>&lt;int&gt;</th><th scope=col>&lt;int&gt;</th><th scope=col>&lt;fct&gt;</th><th scope=col>&lt;fct&gt;</th><th scope=col>&lt;fct&gt;</th><th scope=col>&lt;fct&gt;</th><th scope=col>&lt;fct&gt;</th><th scope=col>&lt;fct&gt;</th><th scope=col>&lt;dbl&gt;</th><th scope=col>&lt;fct&gt;</th><th scope=col>&lt;fct&gt;</th><th scope=col>&lt;fct&gt;</th></tr>\n",
              "</thead>\n",
              "<tbody>\n",
              "\t<tr><th scope=row>1</th><td>0</td><td>19</td><td>182</td><td>2</td><td>0</td><td>0</td><td>0</td><td>0</td><td>0</td><td>0.19</td><td>0</td><td>0</td><td>0</td></tr>\n",
              "\t<tr><th scope=row>2</th><td>0</td><td>33</td><td>155</td><td>3</td><td>0</td><td>0</td><td>0</td><td>0</td><td>3</td><td>0.27</td><td>0</td><td>0</td><td>0</td></tr>\n",
              "\t<tr><th scope=row>3</th><td>0</td><td>20</td><td>105</td><td>1</td><td>1</td><td>0</td><td>0</td><td>0</td><td>1</td><td>0.20</td><td>0</td><td>0</td><td>0</td></tr>\n",
              "\t<tr><th scope=row>4</th><td>0</td><td>21</td><td>108</td><td>1</td><td>1</td><td>0</td><td>0</td><td>1</td><td>2</td><td>0.47</td><td>1</td><td>1</td><td>0</td></tr>\n",
              "\t<tr><th scope=row>5</th><td>0</td><td>18</td><td>107</td><td>1</td><td>1</td><td>0</td><td>0</td><td>1</td><td>0</td><td>0.53</td><td>1</td><td>1</td><td>0</td></tr>\n",
              "\t<tr><th scope=row>6</th><td>0</td><td>21</td><td>124</td><td>3</td><td>0</td><td>0</td><td>0</td><td>0</td><td>0</td><td>0.24</td><td>0</td><td>0</td><td>0</td></tr>\n",
              "</tbody>\n",
              "</table>\n"
            ],
            "text/markdown": "\nA data.frame: 6 × 13\n\n| <!--/--> | LOW &lt;fct&gt; | AGE &lt;int&gt; | LWT &lt;int&gt; | RACE &lt;fct&gt; | SMOKE &lt;fct&gt; | PTL &lt;fct&gt; | HT &lt;fct&gt; | UI &lt;fct&gt; | FTV &lt;fct&gt; | predprob &lt;dbl&gt; | estimated_low_0.4 &lt;fct&gt; | estimated_low_0.3 &lt;fct&gt; | estimated_low_0.55 &lt;fct&gt; |\n|---|---|---|---|---|---|---|---|---|---|---|---|---|---|\n| 1 | 0 | 19 | 182 | 2 | 0 | 0 | 0 | 0 | 0 | 0.19 | 0 | 0 | 0 |\n| 2 | 0 | 33 | 155 | 3 | 0 | 0 | 0 | 0 | 3 | 0.27 | 0 | 0 | 0 |\n| 3 | 0 | 20 | 105 | 1 | 1 | 0 | 0 | 0 | 1 | 0.20 | 0 | 0 | 0 |\n| 4 | 0 | 21 | 108 | 1 | 1 | 0 | 0 | 1 | 2 | 0.47 | 1 | 1 | 0 |\n| 5 | 0 | 18 | 107 | 1 | 1 | 0 | 0 | 1 | 0 | 0.53 | 1 | 1 | 0 |\n| 6 | 0 | 21 | 124 | 3 | 0 | 0 | 0 | 0 | 0 | 0.24 | 0 | 0 | 0 |\n\n",
            "text/latex": "A data.frame: 6 × 13\n\\begin{tabular}{r|lllllllllllll}\n  & LOW & AGE & LWT & RACE & SMOKE & PTL & HT & UI & FTV & predprob & estimated\\_low\\_0.4 & estimated\\_low\\_0.3 & estimated\\_low\\_0.55\\\\\n  & <fct> & <int> & <int> & <fct> & <fct> & <fct> & <fct> & <fct> & <fct> & <dbl> & <fct> & <fct> & <fct>\\\\\n\\hline\n\t1 & 0 & 19 & 182 & 2 & 0 & 0 & 0 & 0 & 0 & 0.19 & 0 & 0 & 0\\\\\n\t2 & 0 & 33 & 155 & 3 & 0 & 0 & 0 & 0 & 3 & 0.27 & 0 & 0 & 0\\\\\n\t3 & 0 & 20 & 105 & 1 & 1 & 0 & 0 & 0 & 1 & 0.20 & 0 & 0 & 0\\\\\n\t4 & 0 & 21 & 108 & 1 & 1 & 0 & 0 & 1 & 2 & 0.47 & 1 & 1 & 0\\\\\n\t5 & 0 & 18 & 107 & 1 & 1 & 0 & 0 & 1 & 0 & 0.53 & 1 & 1 & 0\\\\\n\t6 & 0 & 21 & 124 & 3 & 0 & 0 & 0 & 0 & 0 & 0.24 & 0 & 0 & 0\\\\\n\\end{tabular}\n",
            "text/plain": [
              "  LOW AGE LWT RACE SMOKE PTL HT UI FTV predprob estimated_low_0.4\n",
              "1 0   19  182 2    0     0   0  0  0   0.19     0                \n",
              "2 0   33  155 3    0     0   0  0  3   0.27     0                \n",
              "3 0   20  105 1    1     0   0  0  1   0.20     0                \n",
              "4 0   21  108 1    1     0   0  1  2   0.47     1                \n",
              "5 0   18  107 1    1     0   0  1  0   0.53     1                \n",
              "6 0   21  124 3    0     0   0  0  0   0.24     0                \n",
              "  estimated_low_0.3 estimated_low_0.55\n",
              "1 0                 0                 \n",
              "2 0                 0                 \n",
              "3 0                 0                 \n",
              "4 1                 0                 \n",
              "5 1                 0                 \n",
              "6 0                 0                 "
            ]
          },
          "metadata": {}
        }
      ]
    },
    {
      "cell_type": "markdown",
      "source": [
        "# Question 5 : Calculate sensitivity,specificity and misclassification rate for all three tables above. What is the recommended cut-off value?"
      ],
      "metadata": {
        "id": "mhZDVGimbPNj"
      }
    },
    {
      "cell_type": "code",
      "source": [
        "# Calculate the confusion matrix for each cutoff value\n",
        "\n",
        "#                    Predicted Negative (0)\tPredicted Positive (1)\n",
        "# Actual Negative (0)\t        TN\t                    FP\n",
        "# Actual Positive (1)\t        FN\t                    TP\n",
        "\n",
        "cm_0.4 <- table(data$estimated_low_0.4, data$LOW)\n",
        "cm_0.3 <- table(data$estimated_low_0.3, data$LOW)\n",
        "cm_0.55 <- table(data$estimated_low_0.55, data$LOW)\n",
        "\n",
        "# Calculate sensitivity, specificity, and misclassification rate for each cutoff value\n",
        "# Sensitivity = True positives (TP) / total number of positive cases true positives (TP) and false negatives (FN)\n",
        "# Specificity = True Negative (TN) / total number of negative cases true negatives (FN) and false positives (FP)\n",
        "# Misclassification = Total incorrect predictions (false positives FP and false negatives FN) / the total predictions\n",
        "sensitivity_0.4 <- cm_0.4[2, 2] / sum(cm_0.4[, 2])\n",
        "specificity_0.4 <- cm_0.4[1, 1] / sum(cm_0.4[, 1])\n",
        "misclassification_rate_0.4 <- (sum(cm_0.4[1, 2]) + sum(cm_0.4[2, 1])) / sum(cm_0.4)\n",
        "\n",
        "sensitivity_0.3 <- cm_0.3[2, 2] / sum(cm_0.3[, 2])\n",
        "specificity_0.3 <- cm_0.3[1, 1] / sum(cm_0.3[, 1])\n",
        "misclassification_rate_0.3 <- (sum(cm_0.3[1, 2]) + sum(cm_0.3[2, 1])) / sum(cm_0.3)\n",
        "\n",
        "sensitivity_0.55 <- cm_0.55[2, 2] / sum(cm_0.55[, 2])\n",
        "specificity_0.55 <- cm_0.55[1, 1] / sum(cm_0.55[, 1])\n",
        "misclassification_rate_0.55 <- (sum(cm_0.55[1, 2]) + sum(cm_0.55[2, 1])) / sum(cm_0.55)\n",
        "\n",
        "# Print the results\n",
        "cat(\"Cutoff 0.4:\")\n",
        "cm_0.4\n",
        "cat(\"Sensitivity:\", sensitivity_0.4, \"\\n\")\n",
        "cat(\"Specificity:\", specificity_0.4, \"\\n\")\n",
        "cat(\"Misclassification rate:\", misclassification_rate_0.4,\"\\n\")\n",
        "\n",
        "cat(\"Cutoff 0.3:\")\n",
        "cm_0.3\n",
        "cat(\"Sensitivity:\", sensitivity_0.3, \"\\n\")\n",
        "cat(\"Specificity:\", specificity_0.3, \"\\n\")\n",
        "cat(\"Misclassification rate:\", misclassification_rate_0.3,\"\\n\")\n",
        "\n",
        "cat(\"Cutoff 0.55:\")\n",
        "cm_0.55\n",
        "cat(\"Sensitivity:\", sensitivity_0.55, \"\\n\")\n",
        "cat(\"Specificity:\", specificity_0.55, \"\\n\")\n",
        "cat(\"Misclassification rate:\", misclassification_rate_0.55,\"\\n\")"
      ],
      "metadata": {
        "colab": {
          "base_uri": "https://localhost:8080/",
          "height": 434
        },
        "id": "Pm-4QpcKbVxx",
        "outputId": "04d9789f-bde8-4d08-c1bb-0c342cb3c524"
      },
      "execution_count": null,
      "outputs": [
        {
          "output_type": "stream",
          "name": "stdout",
          "text": [
            "Cutoff 0.4:"
          ]
        },
        {
          "output_type": "display_data",
          "data": {
            "text/plain": [
              "   \n",
              "      0   1\n",
              "  0 108  26\n",
              "  1  22  33"
            ]
          },
          "metadata": {}
        },
        {
          "output_type": "stream",
          "name": "stdout",
          "text": [
            "Sensitivity: 0.559322 \n",
            "Specificity: 0.8307692 \n",
            "Misclassification rate: 0.2539683 \n",
            "Cutoff 0.3:"
          ]
        },
        {
          "output_type": "display_data",
          "data": {
            "text/plain": [
              "   \n",
              "     0  1\n",
              "  0 97 20\n",
              "  1 33 39"
            ]
          },
          "metadata": {}
        },
        {
          "output_type": "stream",
          "name": "stdout",
          "text": [
            "Sensitivity: 0.6610169 \n",
            "Specificity: 0.7461538 \n",
            "Misclassification rate: 0.2804233 \n",
            "Cutoff 0.55:"
          ]
        },
        {
          "output_type": "display_data",
          "data": {
            "text/plain": [
              "   \n",
              "      0   1\n",
              "  0 120  39\n",
              "  1  10  20"
            ]
          },
          "metadata": {}
        },
        {
          "output_type": "stream",
          "name": "stdout",
          "text": [
            "Sensitivity: 0.3389831 \n",
            "Specificity: 0.9230769 \n",
            "Misclassification rate: 0.2592593 \n"
          ]
        }
      ]
    },
    {
      "cell_type": "markdown",
      "source": [
        "The recommended cut-off value among 0.3, 0.4 and 0.55 is 0.3 as it is the one that maximize the sum of Sensitivity and Specificity."
      ],
      "metadata": {
        "id": "kfc92O0LtywH"
      }
    },
    {
      "cell_type": "markdown",
      "source": [],
      "metadata": {
        "id": "3sZFP0RzqOck"
      }
    },
    {
      "cell_type": "markdown",
      "source": [
        "# Question 6 : Obtain ROC curve and report area under curve"
      ],
      "metadata": {
        "id": "HHwJGzxFbZnp"
      }
    },
    {
      "cell_type": "code",
      "source": [
        "pred<-prediction(data$predprob,data$LOW)\n",
        "perf<-performance(pred,\"tpr\",\"fpr\")\n",
        "plot(perf)\n",
        "abline(0,1)"
      ],
      "metadata": {
        "colab": {
          "base_uri": "https://localhost:8080/",
          "height": 437
        },
        "id": "oGDn9-9JbeZP",
        "outputId": "d1730956-f8c4-4378-8c32-3a5d8980c39c"
      },
      "execution_count": null,
      "outputs": [
        {
          "output_type": "display_data",
          "data": {
            "text/plain": [
              "plot without title"
            ],
            "image/png": "[encoded data removed]"
          },
          "metadata": {
            "image/png": {
              "width": 420,
              "height": 420
            }
          }
        }
      ]
    },
    {
      "cell_type": "code",
      "source": [
        "auc<-performance(pred,\"auc\")\n",
        "auc@y.values"
      ],
      "metadata": {
        "colab": {
          "base_uri": "https://localhost:8080/",
          "height": 62
        },
        "id": "amLdblG_u7rI",
        "outputId": "318cb1e6-d796-44d5-c30d-ff483438d1b0"
      },
      "execution_count": null,
      "outputs": [
        {
          "output_type": "display_data",
          "data": {
            "text/html": [
              "<ol>\n",
              "\t<li>0.78102998696219</li>\n",
              "</ol>\n"
            ],
            "text/markdown": "1. 0.78102998696219\n\n\n",
            "text/latex": "\\begin{enumerate}\n\\item 0.78102998696219\n\\end{enumerate}\n",
            "text/plain": [
              "[[1]]\n",
              "[1] 0.78103\n"
            ]
          },
          "metadata": {}
        }
      ]
    },
    {
      "cell_type": "markdown",
      "source": [
        "The model’s AUC of 78% indicates a relatively strong discriminative ability, implying good predictive performance"
      ],
      "metadata": {
        "id": "VjWs1PvhwXHq"
      }
    },
    {
      "cell_type": "code",
      "source": [
        "# Best Threshold\n",
        "ss <- performance(pred, \"sens\", \"spec\")\n",
        "best_threshold <- ss@alpha.values[[1]][which.max(ss@x.values[[1]]+ss@y.values[[1]])]\n",
        "paste(\"Best Threshold is :\",round(best_threshold,2))"
      ],
      "metadata": {
        "colab": {
          "base_uri": "https://localhost:8080/",
          "height": 34
        },
        "id": "2fo4PsgQvCGS",
        "outputId": "ab5baba2-a457-4350-896c-301962f882fc"
      },
      "execution_count": null,
      "outputs": [
        {
          "output_type": "display_data",
          "data": {
            "text/html": [
              "'Best Threshold is : 0.29'"
            ],
            "text/markdown": "'Best Threshold is : 0.29'",
            "text/latex": "'Best Threshold is : 0.29'",
            "text/plain": [
              "[1] \"Best Threshold is : 0.29\""
            ]
          },
          "metadata": {}
        }
      ]
    },
    {
      "cell_type": "code",
      "source": [
        "#Classification Report with best threshold\n",
        "data$pred_best_th<-as.factor(ifelse(data$predprob>best_threshold,1,0))\n",
        "confusionMatrix(data$pred_best_th,data$LOW,positive=\"1\")"
      ],
      "metadata": {
        "colab": {
          "base_uri": "https://localhost:8080/",
          "height": 486
        },
        "id": "1z1tShHXvjH7",
        "outputId": "66b913d7-9867-40cd-aa28-0683f5fe9d21"
      },
      "execution_count": null,
      "outputs": [
        {
          "output_type": "display_data",
          "data": {
            "text/plain": [
              "Confusion Matrix and Statistics\n",
              "\n",
              "          Reference\n",
              "Prediction  0  1\n",
              "         0 95 19\n",
              "         1 35 40\n",
              "                                          \n",
              "               Accuracy : 0.7143          \n",
              "                 95% CI : (0.6442, 0.7775)\n",
              "    No Information Rate : 0.6878          \n",
              "    P-Value [Acc > NIR] : 0.24156         \n",
              "                                          \n",
              "                  Kappa : 0.3806          \n",
              "                                          \n",
              " Mcnemar's Test P-Value : 0.04123         \n",
              "                                          \n",
              "            Sensitivity : 0.6780          \n",
              "            Specificity : 0.7308          \n",
              "         Pos Pred Value : 0.5333          \n",
              "         Neg Pred Value : 0.8333          \n",
              "             Prevalence : 0.3122          \n",
              "         Detection Rate : 0.2116          \n",
              "   Detection Prevalence : 0.3968          \n",
              "      Balanced Accuracy : 0.7044          \n",
              "                                          \n",
              "       'Positive' Class : 1               \n",
              "                                          "
            ]
          },
          "metadata": {}
        }
      ]
    },
    {
      "cell_type": "markdown",
      "source": [
        "The sensitivity and specificity values using optimum threshold are approximately 68% and 73% and the accuracy is approximately 71% indicating relatively good model performance."
      ],
      "metadata": {
        "id": "rPMzTzxQwgxH"
      }
    }
  ]
}